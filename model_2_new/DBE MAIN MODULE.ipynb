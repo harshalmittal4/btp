{
 "cells": [
  {
   "cell_type": "code",
   "execution_count": 1,
   "metadata": {},
   "outputs": [],
   "source": [
    "##### Model 1 to detect nodes#####"
   ]
  },
  {
   "cell_type": "code",
   "execution_count": 172,
   "metadata": {
    "scrolled": true
   },
   "outputs": [
    {
     "data": {
      "text/html": [
       "<div>\n",
       "<style scoped>\n",
       "    .dataframe tbody tr th:only-of-type {\n",
       "        vertical-align: middle;\n",
       "    }\n",
       "\n",
       "    .dataframe tbody tr th {\n",
       "        vertical-align: top;\n",
       "    }\n",
       "\n",
       "    .dataframe thead th {\n",
       "        text-align: right;\n",
       "    }\n",
       "</style>\n",
       "<table border=\"1\" class=\"dataframe\">\n",
       "  <thead>\n",
       "    <tr style=\"text-align: right;\">\n",
       "      <th></th>\n",
       "      <th>label</th>\n",
       "      <th>pixel1</th>\n",
       "      <th>pixel2</th>\n",
       "      <th>pixel3</th>\n",
       "      <th>pixel4</th>\n",
       "      <th>pixel5</th>\n",
       "      <th>pixel6</th>\n",
       "      <th>pixel7</th>\n",
       "      <th>pixel8</th>\n",
       "      <th>pixel9</th>\n",
       "      <th>...</th>\n",
       "      <th>pixel40</th>\n",
       "      <th>pixel41</th>\n",
       "      <th>pixel42</th>\n",
       "      <th>pixel43</th>\n",
       "      <th>pixel44</th>\n",
       "      <th>pixel45</th>\n",
       "      <th>pixel46</th>\n",
       "      <th>pixel47</th>\n",
       "      <th>pixel48</th>\n",
       "      <th>pixel49</th>\n",
       "    </tr>\n",
       "  </thead>\n",
       "  <tbody>\n",
       "    <tr>\n",
       "      <th>0</th>\n",
       "      <td>0.0</td>\n",
       "      <td>0.0</td>\n",
       "      <td>0.0</td>\n",
       "      <td>0.0</td>\n",
       "      <td>0.0</td>\n",
       "      <td>0.0</td>\n",
       "      <td>0.0</td>\n",
       "      <td>0.0</td>\n",
       "      <td>0.0</td>\n",
       "      <td>0.0</td>\n",
       "      <td>...</td>\n",
       "      <td>1.0</td>\n",
       "      <td>0.0</td>\n",
       "      <td>2.0</td>\n",
       "      <td>0.0</td>\n",
       "      <td>0.0</td>\n",
       "      <td>0.0</td>\n",
       "      <td>3.0</td>\n",
       "      <td>2.0</td>\n",
       "      <td>2.0</td>\n",
       "      <td>0.0</td>\n",
       "    </tr>\n",
       "    <tr>\n",
       "      <th>1</th>\n",
       "      <td>0.0</td>\n",
       "      <td>0.0</td>\n",
       "      <td>0.0</td>\n",
       "      <td>0.0</td>\n",
       "      <td>0.0</td>\n",
       "      <td>0.0</td>\n",
       "      <td>0.0</td>\n",
       "      <td>0.0</td>\n",
       "      <td>0.0</td>\n",
       "      <td>0.0</td>\n",
       "      <td>...</td>\n",
       "      <td>2.0</td>\n",
       "      <td>0.0</td>\n",
       "      <td>1.0</td>\n",
       "      <td>0.0</td>\n",
       "      <td>0.0</td>\n",
       "      <td>3.0</td>\n",
       "      <td>2.0</td>\n",
       "      <td>2.0</td>\n",
       "      <td>1.0</td>\n",
       "      <td>0.0</td>\n",
       "    </tr>\n",
       "    <tr>\n",
       "      <th>2</th>\n",
       "      <td>0.0</td>\n",
       "      <td>0.0</td>\n",
       "      <td>0.0</td>\n",
       "      <td>0.0</td>\n",
       "      <td>0.0</td>\n",
       "      <td>0.0</td>\n",
       "      <td>0.0</td>\n",
       "      <td>0.0</td>\n",
       "      <td>0.0</td>\n",
       "      <td>0.0</td>\n",
       "      <td>...</td>\n",
       "      <td>1.0</td>\n",
       "      <td>0.0</td>\n",
       "      <td>1.0</td>\n",
       "      <td>0.0</td>\n",
       "      <td>3.0</td>\n",
       "      <td>2.0</td>\n",
       "      <td>2.0</td>\n",
       "      <td>1.0</td>\n",
       "      <td>1.0</td>\n",
       "      <td>0.0</td>\n",
       "    </tr>\n",
       "    <tr>\n",
       "      <th>3</th>\n",
       "      <td>0.0</td>\n",
       "      <td>0.0</td>\n",
       "      <td>3.0</td>\n",
       "      <td>3.0</td>\n",
       "      <td>3.0</td>\n",
       "      <td>3.0</td>\n",
       "      <td>3.0</td>\n",
       "      <td>3.0</td>\n",
       "      <td>3.0</td>\n",
       "      <td>0.0</td>\n",
       "      <td>...</td>\n",
       "      <td>1.0</td>\n",
       "      <td>0.0</td>\n",
       "      <td>1.0</td>\n",
       "      <td>3.0</td>\n",
       "      <td>2.0</td>\n",
       "      <td>2.0</td>\n",
       "      <td>1.0</td>\n",
       "      <td>1.0</td>\n",
       "      <td>1.0</td>\n",
       "      <td>0.0</td>\n",
       "    </tr>\n",
       "    <tr>\n",
       "      <th>4</th>\n",
       "      <td>0.0</td>\n",
       "      <td>0.0</td>\n",
       "      <td>1.0</td>\n",
       "      <td>2.0</td>\n",
       "      <td>2.0</td>\n",
       "      <td>2.0</td>\n",
       "      <td>2.0</td>\n",
       "      <td>2.0</td>\n",
       "      <td>1.0</td>\n",
       "      <td>0.0</td>\n",
       "      <td>...</td>\n",
       "      <td>1.0</td>\n",
       "      <td>0.0</td>\n",
       "      <td>1.0</td>\n",
       "      <td>2.0</td>\n",
       "      <td>2.0</td>\n",
       "      <td>1.0</td>\n",
       "      <td>1.0</td>\n",
       "      <td>1.0</td>\n",
       "      <td>1.0</td>\n",
       "      <td>0.0</td>\n",
       "    </tr>\n",
       "  </tbody>\n",
       "</table>\n",
       "<p>5 rows × 50 columns</p>\n",
       "</div>"
      ],
      "text/plain": [
       "   label  pixel1  pixel2  pixel3  pixel4  pixel5  pixel6  pixel7  pixel8  \\\n",
       "0    0.0     0.0     0.0     0.0     0.0     0.0     0.0     0.0     0.0   \n",
       "1    0.0     0.0     0.0     0.0     0.0     0.0     0.0     0.0     0.0   \n",
       "2    0.0     0.0     0.0     0.0     0.0     0.0     0.0     0.0     0.0   \n",
       "3    0.0     0.0     3.0     3.0     3.0     3.0     3.0     3.0     3.0   \n",
       "4    0.0     0.0     1.0     2.0     2.0     2.0     2.0     2.0     1.0   \n",
       "\n",
       "   pixel9   ...     pixel40  pixel41  pixel42  pixel43  pixel44  pixel45  \\\n",
       "0     0.0   ...         1.0      0.0      2.0      0.0      0.0      0.0   \n",
       "1     0.0   ...         2.0      0.0      1.0      0.0      0.0      3.0   \n",
       "2     0.0   ...         1.0      0.0      1.0      0.0      3.0      2.0   \n",
       "3     0.0   ...         1.0      0.0      1.0      3.0      2.0      2.0   \n",
       "4     0.0   ...         1.0      0.0      1.0      2.0      2.0      1.0   \n",
       "\n",
       "   pixel46  pixel47  pixel48  pixel49  \n",
       "0      3.0      2.0      2.0      0.0  \n",
       "1      2.0      2.0      1.0      0.0  \n",
       "2      2.0      1.0      1.0      0.0  \n",
       "3      1.0      1.0      1.0      0.0  \n",
       "4      1.0      1.0      1.0      0.0  \n",
       "\n",
       "[5 rows x 50 columns]"
      ]
     },
     "execution_count": 172,
     "metadata": {},
     "output_type": "execute_result"
    }
   ],
   "source": [
    "import math\n",
    "import pandas as pd\n",
    "import numpy as np\n",
    "columns = ['label']\n",
    "columns += ['pixel'+str(i) for i in range(1,50)]\n",
    "data1 = pd.read_csv(\"NTruefinal.csv\",names = columns, dtype = np.float32)#Model 1 dataset\n",
    "data1.head()"
   ]
  },
  {
   "cell_type": "code",
   "execution_count": 173,
   "metadata": {},
   "outputs": [
    {
     "name": "stdout",
     "output_type": "stream",
     "text": [
      "3.5.6\n"
     ]
    }
   ],
   "source": [
    "from platform import python_version\n",
    "\n",
    "print(python_version())"
   ]
  },
  {
   "cell_type": "code",
   "execution_count": 174,
   "metadata": {},
   "outputs": [
    {
     "data": {
      "text/plain": [
       "(1773, 50)"
      ]
     },
     "execution_count": 174,
     "metadata": {},
     "output_type": "execute_result"
    }
   ],
   "source": [
    "data1.shape"
   ]
  },
  {
   "cell_type": "code",
   "execution_count": 175,
   "metadata": {},
   "outputs": [
    {
     "data": {
      "text/plain": [
       "{0.0: 887, 1.0: 886}"
      ]
     },
     "execution_count": 175,
     "metadata": {},
     "output_type": "execute_result"
    }
   ],
   "source": [
    "unique, counts = np.unique(data1.iloc[:,0], return_counts=True)#No.of zero labels and one labels\n",
    "dict(zip(unique, counts))"
   ]
  },
  {
   "cell_type": "code",
   "execution_count": 176,
   "metadata": {},
   "outputs": [],
   "source": [
    "import numpy as np\n",
    "import csv\n",
    "\n",
    "def flat_list(l):\n",
    "    flat_list = []\n",
    "    for sublist in l:\n",
    "        for item in sublist:\n",
    "            flat_list.append(item)\n",
    "    return flat_list\n",
    "\n",
    "Aa=np.loadtxt(open(\"m_d_banknote.csv\", \"rb\"), delimiter=\",\")\n",
    "R=Aa\n",
    "#A = A.astype(np.uint16)\n",
    "rows = Aa.shape[0]\n",
    "cols = Aa.shape[1]\n",
    "maxValue = np.amax(Aa)\n",
    "minValue = np.amin(Aa)\n",
    "fa=[]\n",
    "for x in range(0, cols ):\n",
    "    for y in range(0, rows):\n",
    "        Aa[x,y]=math.ceil(((Aa[x,y]-minValue)/(maxValue-minValue))*255) # Normalization\n",
    "\n",
    "\n",
    "B=np.pad(Aa, ((3,3),(3,3)), 'constant',constant_values=0) #Padding with 0's\n",
    "for j in range(3,len(Aa)+3):\n",
    "    fa.append(flat_list(B[j-3:j+4,j-3:j+4]))\n",
    "with open(\"Realivat.csv\", \"w\", newline=\"\") as f:\n",
    "    writer = csv.writer(f)\n",
    "    writer.writerows(fa) "
   ]
  },
  {
   "cell_type": "code",
   "execution_count": 177,
   "metadata": {},
   "outputs": [
    {
     "name": "stdout",
     "output_type": "stream",
     "text": [
      "0.0\n",
      "Accuracy: 0.9943661971830986\n"
     ]
    }
   ],
   "source": [
    "from sklearn.model_selection import train_test_split\n",
    "X = data1.drop('label', axis=1)\n",
    "y = data1['label']\n",
    "X, X_test, y, y_test = train_test_split(X, y, \n",
    "                                        test_size = 0.2, \n",
    "                                        random_state = 42,shuffle=True)\n",
    "from sklearn import model_selection\n",
    "from sklearn.ensemble import RandomForestClassifier\n",
    "from sklearn.metrics import confusion_matrix\n",
    "from sklearn import metrics\n",
    "rfc = RandomForestClassifier(n_estimators=100)\n",
    "rfc.fit(X,y)\n",
    "import time\n",
    "tic = time.process_time()\n",
    "rfc_predict = rfc.predict(X_test)\n",
    "toc = time.process_time()\n",
    "print(toc - tic)\n",
    "\n",
    "#print(\"=== Confusion Matrix ===\")\n",
    "#print(confusion_matrix(y_test, rfc_predict))\n",
    "#print('\\n')\n",
    "print(\"Accuracy:\",metrics.accuracy_score(y_test, rfc_predict))\n",
    "\n"
   ]
  },
  {
   "cell_type": "code",
   "execution_count": 178,
   "metadata": {},
   "outputs": [
    {
     "data": {
      "text/plain": [
       "True"
      ]
     },
     "execution_count": 178,
     "metadata": {},
     "output_type": "execute_result"
    }
   ],
   "source": [
    "any(y_test==1)"
   ]
  },
  {
   "cell_type": "code",
   "execution_count": 179,
   "metadata": {},
   "outputs": [
    {
     "data": {
      "text/plain": [
       "(355, 49)"
      ]
     },
     "execution_count": 179,
     "metadata": {},
     "output_type": "execute_result"
    }
   ],
   "source": [
    "X_test.shape"
   ]
  },
  {
   "cell_type": "code",
   "execution_count": 180,
   "metadata": {},
   "outputs": [],
   "source": [
    "daa= pd.read_csv(\"Realivat.csv\",dtype = np.float32)\n",
    "xpred = daa\n",
    "x = rfc.predict(xpred)"
   ]
  },
  {
   "cell_type": "code",
   "execution_count": 181,
   "metadata": {},
   "outputs": [],
   "source": [
    "import matplotlib.patches as patches\n",
    "from PIL import Image"
   ]
  },
  {
   "cell_type": "code",
   "execution_count": 182,
   "metadata": {},
   "outputs": [
    {
     "data": {
      "image/png": "[encoded data removed]",
      "text/plain": [
       "<matplotlib.figure.Figure at 0x150416fa2b0>"
      ]
     },
     "metadata": {
      "needs_background": "light"
     },
     "output_type": "display_data"
    }
   ],
   "source": [
    "\n",
    "L=[]# Model 1 Output cordinates\n",
    "for i in range(0,len(x)):\n",
    "    if x[i]==1:\n",
    "        L.append(i)\n",
    "L.append(Aa.shape[0])\n",
    "import matplotlib.pyplot as plt\n",
    "fig,ax = plt.subplots(1)\n",
    "#B = A.astype('float32')*255.0/65536.0\n",
    "#B = B.astype('uint16')\n",
    "ax.imshow(R,cmap='gray')\n",
    "width,height = L[0],L[0]\n",
    "for z in range(0,len(L)-1):\n",
    "    rect = patches.Rectangle((L[z],L[z]),-width,-height,linewidth=1,edgecolor='r',facecolor='none')\n",
    "#     plt.scatter([int(L[z])],[int(L[z])], color='red', s=1)\n",
    "    width, height = L[z+1]-L[z],L[z+1]-L[z]\n",
    "    ax.add_patch(rect)\n",
    "rect = patches.Rectangle((L[z],L[z]),width,height,linewidth=1,edgecolor='r',facecolor='none')\n",
    "ax.add_patch(rect)\n",
    "\n",
    "plt.savefig('model1banknote.eps') \n",
    "plt.show()\n",
    " \n"
   ]
  },
  {
   "cell_type": "code",
   "execution_count": 183,
   "metadata": {},
   "outputs": [
    {
     "data": {
      "text/plain": [
       "<matplotlib.image.AxesImage at 0x150442e0240>"
      ]
     },
     "execution_count": 183,
     "metadata": {},
     "output_type": "execute_result"
    },
    {
     "data": {
      "image/png": "[encoded data removed]",
      "text/plain": [
       "<matplotlib.figure.Figure at 0x1504441f390>"
      ]
     },
     "metadata": {
      "needs_background": "light"
     },
     "output_type": "display_data"
    }
   ],
   "source": [
    "plt.imshow(Aa, cmap='gray')"
   ]
  },
  {
   "cell_type": "code",
   "execution_count": 184,
   "metadata": {},
   "outputs": [
    {
     "data": {
      "text/plain": [
       "[8,\n",
       " 18,\n",
       " 25,\n",
       " 26,\n",
       " 28,\n",
       " 30,\n",
       " 31,\n",
       " 32,\n",
       " 38,\n",
       " 57,\n",
       " 58,\n",
       " 61,\n",
       " 64,\n",
       " 115,\n",
       " 118,\n",
       " 121,\n",
       " 127,\n",
       " 134,\n",
       " 137,\n",
       " 140,\n",
       " 141,\n",
       " 151,\n",
       " 158,\n",
       " 166,\n",
       " 171,\n",
       " 177,\n",
       " 181,\n",
       " 188,\n",
       " 191,\n",
       " 194,\n",
       " 221,\n",
       " 231,\n",
       " 237,\n",
       " 264,\n",
       " 267,\n",
       " 268,\n",
       " 274,\n",
       " 338,\n",
       " 391,\n",
       " 411,\n",
       " 445,\n",
       " 451,\n",
       " 461,\n",
       " 481,\n",
       " 486,\n",
       " 491,\n",
       " 501,\n",
       " 511,\n",
       " 531,\n",
       " 538,\n",
       " 558,\n",
       " 568,\n",
       " 578,\n",
       " 581,\n",
       " 591,\n",
       " 598,\n",
       " 599,\n",
       " 600,\n",
       " 601,\n",
       " 602,\n",
       " 603,\n",
       " 680,\n",
       " 682,\n",
       " 689,\n",
       " 690,\n",
       " 691,\n",
       " 692,\n",
       " 693,\n",
       " 696,\n",
       " 701,\n",
       " 711,\n",
       " 712,\n",
       " 722,\n",
       " 723,\n",
       " 724,\n",
       " 729,\n",
       " 730,\n",
       " 838,\n",
       " 847,\n",
       " 848,\n",
       " 849,\n",
       " 850,\n",
       " 851,\n",
       " 885,\n",
       " 886,\n",
       " 887,\n",
       " 888,\n",
       " 889,\n",
       " 890,\n",
       " 901,\n",
       " 978,\n",
       " 991,\n",
       " 993,\n",
       " 1001,\n",
       " 1003,\n",
       " 1010,\n",
       " 1031,\n",
       " 1032,\n",
       " 1033,\n",
       " 1049,\n",
       " 1050,\n",
       " 1051,\n",
       " 1056,\n",
       " 1057,\n",
       " 1058,\n",
       " 1078,\n",
       " 1080,\n",
       " 1081,\n",
       " 1092,\n",
       " 1155,\n",
       " 1156,\n",
       " 1157,\n",
       " 1189,\n",
       " 1190,\n",
       " 1191,\n",
       " 1192,\n",
       " 1193,\n",
       " 1194,\n",
       " 1202,\n",
       " 1208,\n",
       " 1212,\n",
       " 1222,\n",
       " 1223,\n",
       " 1224,\n",
       " 1225,\n",
       " 1234,\n",
       " 1235,\n",
       " 1236,\n",
       " 1246,\n",
       " 1247,\n",
       " 1257,\n",
       " 1258,\n",
       " 1259,\n",
       " 1260,\n",
       " 1262,\n",
       " 1269,\n",
       " 1270,\n",
       " 1279,\n",
       " 1281,\n",
       " 1282,\n",
       " 1283,\n",
       " 1284,\n",
       " 1285,\n",
       " 1286,\n",
       " 1287,\n",
       " 1288,\n",
       " 1291,\n",
       " 1292,\n",
       " 1293,\n",
       " 1303,\n",
       " 1304,\n",
       " 1309,\n",
       " 1312,\n",
       " 1313,\n",
       " 1316,\n",
       " 1317,\n",
       " 1318,\n",
       " 1319,\n",
       " 1329,\n",
       " 1330,\n",
       " 1331,\n",
       " 1334,\n",
       " 1341,\n",
       " 1344,\n",
       " 1351,\n",
       " 1354,\n",
       " 1357,\n",
       " 1361,\n",
       " 1362,\n",
       " 1368,\n",
       " 1369,\n",
       " 1372]"
      ]
     },
     "execution_count": 184,
     "metadata": {},
     "output_type": "execute_result"
    }
   ],
   "source": [
    "L"
   ]
  },
  {
   "cell_type": "code",
   "execution_count": 160,
   "metadata": {},
   "outputs": [],
   "source": [
    "#### Model 2 to detect Corners######"
   ]
  },
  {
   "cell_type": "code",
   "execution_count": 185,
   "metadata": {},
   "outputs": [
    {
     "data": {
      "text/plain": [
       "(1372, 1372)"
      ]
     },
     "execution_count": 185,
     "metadata": {},
     "output_type": "execute_result"
    }
   ],
   "source": [
    "R.shape"
   ]
  },
  {
   "cell_type": "code",
   "execution_count": 186,
   "metadata": {},
   "outputs": [
    {
     "data": {
      "text/html": [
       "<div>\n",
       "<style scoped>\n",
       "    .dataframe tbody tr th:only-of-type {\n",
       "        vertical-align: middle;\n",
       "    }\n",
       "\n",
       "    .dataframe tbody tr th {\n",
       "        vertical-align: top;\n",
       "    }\n",
       "\n",
       "    .dataframe thead th {\n",
       "        text-align: right;\n",
       "    }\n",
       "</style>\n",
       "<table border=\"1\" class=\"dataframe\">\n",
       "  <thead>\n",
       "    <tr style=\"text-align: right;\">\n",
       "      <th></th>\n",
       "      <th>label</th>\n",
       "      <th>mean1</th>\n",
       "      <th>mean2</th>\n",
       "      <th>mean3</th>\n",
       "      <th>mean4</th>\n",
       "      <th>mean5</th>\n",
       "      <th>mean6</th>\n",
       "      <th>mean7</th>\n",
       "      <th>mean8</th>\n",
       "      <th>mean9</th>\n",
       "      <th>...</th>\n",
       "      <th>interVar27</th>\n",
       "      <th>interVar28</th>\n",
       "      <th>interVar29</th>\n",
       "      <th>interVar30</th>\n",
       "      <th>interVar31</th>\n",
       "      <th>interVar32</th>\n",
       "      <th>interVar33</th>\n",
       "      <th>interVar34</th>\n",
       "      <th>interVar35</th>\n",
       "      <th>interVar36</th>\n",
       "    </tr>\n",
       "  </thead>\n",
       "  <tbody>\n",
       "    <tr>\n",
       "      <th>0</th>\n",
       "      <td>0.0</td>\n",
       "      <td>255.0</td>\n",
       "      <td>1.333333</td>\n",
       "      <td>1.111111</td>\n",
       "      <td>255.0</td>\n",
       "      <td>2.0</td>\n",
       "      <td>0.666667</td>\n",
       "      <td>255.0</td>\n",
       "      <td>2.0</td>\n",
       "      <td>1.0</td>\n",
       "      <td>...</td>\n",
       "      <td>0.333333</td>\n",
       "      <td>5760.810059</td>\n",
       "      <td>0.0</td>\n",
       "      <td>0.09</td>\n",
       "      <td>12128.520508</td>\n",
       "      <td>0.444444</td>\n",
       "      <td>0.020833</td>\n",
       "      <td>12001.6875</td>\n",
       "      <td>16129.0</td>\n",
       "      <td>0.1875</td>\n",
       "    </tr>\n",
       "    <tr>\n",
       "      <th>1</th>\n",
       "      <td>0.0</td>\n",
       "      <td>255.0</td>\n",
       "      <td>2.000000</td>\n",
       "      <td>0.666667</td>\n",
       "      <td>255.0</td>\n",
       "      <td>2.0</td>\n",
       "      <td>1.000000</td>\n",
       "      <td>255.0</td>\n",
       "      <td>2.0</td>\n",
       "      <td>1.0</td>\n",
       "      <td>...</td>\n",
       "      <td>0.187500</td>\n",
       "      <td>5760.810059</td>\n",
       "      <td>0.0</td>\n",
       "      <td>0.09</td>\n",
       "      <td>12096.750000</td>\n",
       "      <td>0.250000</td>\n",
       "      <td>0.000000</td>\n",
       "      <td>12001.6875</td>\n",
       "      <td>16129.0</td>\n",
       "      <td>0.1875</td>\n",
       "    </tr>\n",
       "    <tr>\n",
       "      <th>2</th>\n",
       "      <td>0.0</td>\n",
       "      <td>255.0</td>\n",
       "      <td>2.000000</td>\n",
       "      <td>0.777778</td>\n",
       "      <td>255.0</td>\n",
       "      <td>2.0</td>\n",
       "      <td>1.000000</td>\n",
       "      <td>255.0</td>\n",
       "      <td>2.0</td>\n",
       "      <td>1.0</td>\n",
       "      <td>...</td>\n",
       "      <td>0.187500</td>\n",
       "      <td>5760.810059</td>\n",
       "      <td>0.0</td>\n",
       "      <td>0.09</td>\n",
       "      <td>12096.750000</td>\n",
       "      <td>0.250000</td>\n",
       "      <td>0.000000</td>\n",
       "      <td>12001.6875</td>\n",
       "      <td>16129.0</td>\n",
       "      <td>0.1875</td>\n",
       "    </tr>\n",
       "    <tr>\n",
       "      <th>3</th>\n",
       "      <td>0.0</td>\n",
       "      <td>255.0</td>\n",
       "      <td>2.000000</td>\n",
       "      <td>0.888889</td>\n",
       "      <td>255.0</td>\n",
       "      <td>2.0</td>\n",
       "      <td>1.000000</td>\n",
       "      <td>255.0</td>\n",
       "      <td>2.0</td>\n",
       "      <td>1.0</td>\n",
       "      <td>...</td>\n",
       "      <td>0.187500</td>\n",
       "      <td>5760.810059</td>\n",
       "      <td>0.0</td>\n",
       "      <td>0.09</td>\n",
       "      <td>12096.750000</td>\n",
       "      <td>0.250000</td>\n",
       "      <td>0.000000</td>\n",
       "      <td>12001.6875</td>\n",
       "      <td>16129.0</td>\n",
       "      <td>0.1875</td>\n",
       "    </tr>\n",
       "    <tr>\n",
       "      <th>4</th>\n",
       "      <td>0.0</td>\n",
       "      <td>255.0</td>\n",
       "      <td>2.000000</td>\n",
       "      <td>1.000000</td>\n",
       "      <td>255.0</td>\n",
       "      <td>2.0</td>\n",
       "      <td>1.000000</td>\n",
       "      <td>255.0</td>\n",
       "      <td>2.0</td>\n",
       "      <td>1.0</td>\n",
       "      <td>...</td>\n",
       "      <td>0.187500</td>\n",
       "      <td>5760.810059</td>\n",
       "      <td>0.0</td>\n",
       "      <td>0.09</td>\n",
       "      <td>12096.750000</td>\n",
       "      <td>0.250000</td>\n",
       "      <td>0.000000</td>\n",
       "      <td>12001.6875</td>\n",
       "      <td>16129.0</td>\n",
       "      <td>0.1875</td>\n",
       "    </tr>\n",
       "  </tbody>\n",
       "</table>\n",
       "<p>5 rows × 55 columns</p>\n",
       "</div>"
      ],
      "text/plain": [
       "   label  mean1     mean2     mean3  mean4  mean5     mean6  mean7  mean8  \\\n",
       "0    0.0  255.0  1.333333  1.111111  255.0    2.0  0.666667  255.0    2.0   \n",
       "1    0.0  255.0  2.000000  0.666667  255.0    2.0  1.000000  255.0    2.0   \n",
       "2    0.0  255.0  2.000000  0.777778  255.0    2.0  1.000000  255.0    2.0   \n",
       "3    0.0  255.0  2.000000  0.888889  255.0    2.0  1.000000  255.0    2.0   \n",
       "4    0.0  255.0  2.000000  1.000000  255.0    2.0  1.000000  255.0    2.0   \n",
       "\n",
       "   mean9     ...      interVar27   interVar28  interVar29  interVar30  \\\n",
       "0    1.0     ...        0.333333  5760.810059         0.0        0.09   \n",
       "1    1.0     ...        0.187500  5760.810059         0.0        0.09   \n",
       "2    1.0     ...        0.187500  5760.810059         0.0        0.09   \n",
       "3    1.0     ...        0.187500  5760.810059         0.0        0.09   \n",
       "4    1.0     ...        0.187500  5760.810059         0.0        0.09   \n",
       "\n",
       "     interVar31  interVar32  interVar33  interVar34  interVar35  interVar36  \n",
       "0  12128.520508    0.444444    0.020833  12001.6875     16129.0      0.1875  \n",
       "1  12096.750000    0.250000    0.000000  12001.6875     16129.0      0.1875  \n",
       "2  12096.750000    0.250000    0.000000  12001.6875     16129.0      0.1875  \n",
       "3  12096.750000    0.250000    0.000000  12001.6875     16129.0      0.1875  \n",
       "4  12096.750000    0.250000    0.000000  12001.6875     16129.0      0.1875  \n",
       "\n",
       "[5 rows x 55 columns]"
      ]
     },
     "execution_count": 186,
     "metadata": {},
     "output_type": "execute_result"
    }
   ],
   "source": [
    "##### Training #####\n",
    "\n",
    "\n",
    "import math\n",
    "import pandas as pd\n",
    "import numpy as np\n",
    "columns = ['label']\n",
    "for i in range(9):\n",
    "    name = 'mean'+str(i+1)\n",
    "    columns += [name]\n",
    "for i in range(9):\n",
    "    name = 'var'+str(i+1)\n",
    "    columns += [name]\n",
    "for i in range(36):\n",
    "    name = 'interVar'+str(i+1)\n",
    "    columns += [name]\n",
    "data = pd.read_csv(\"M-V.csv\",names = columns, dtype = np.float32)\n",
    "data.head()\n",
    "\n"
   ]
  },
  {
   "cell_type": "code",
   "execution_count": 187,
   "metadata": {},
   "outputs": [
    {
     "data": {
      "text/plain": [
       "{0.0: 1141, 1.0: 1168}"
      ]
     },
     "execution_count": 187,
     "metadata": {},
     "output_type": "execute_result"
    }
   ],
   "source": [
    "unique, counts = np.unique(data.iloc[:,0], return_counts=True)\n",
    "dict(zip(unique, counts))"
   ]
  },
  {
   "cell_type": "code",
   "execution_count": 188,
   "metadata": {},
   "outputs": [
    {
     "name": "stdout",
     "output_type": "stream",
     "text": [
      "0.015625\n",
      "Accuracy: 0.9956709956709957\n"
     ]
    }
   ],
   "source": [
    "\n",
    "from sklearn.model_selection import train_test_split\n",
    "X = data.drop('label', axis=1)\n",
    "y = data['label']\n",
    "X, X_test, y, y_test = train_test_split(X, y, test_size = 0.2, random_state = 42,shuffle=True)\n",
    "from sklearn import model_selection\n",
    "from sklearn.ensemble import RandomForestClassifier\n",
    "from sklearn.metrics import confusion_matrix\n",
    "from sklearn import metrics\n",
    "rfc2 = RandomForestClassifier(n_estimators=100)\n",
    "rfc2.fit(X,y)\n",
    "import time\n",
    "tic = time.process_time()\n",
    "rfc_predict = rfc2.predict(X_test)\n",
    "toc = time.process_time()\n",
    "print(toc - tic)\n",
    "\n",
    "#print(\"=== Confusion Matrix ===\")\n",
    "#print(confusion_matrix(y_test, rfc_predict))\n",
    "#print('\\n')\n",
    "print(\"Accuracy:\",metrics.accuracy_score(y_test, rfc_predict))\n",
    "\n",
    "\n",
    "\n",
    "\n",
    "\n",
    "\n"
   ]
  },
  {
   "cell_type": "code",
   "execution_count": 189,
   "metadata": {},
   "outputs": [],
   "source": [
    "#from sklearn.svm import SVC\n",
    "#from sklearn.metrics import confusion_matrix\n",
    "#from sklearn import metrics\n",
    "#classifier_linear = SVC(kernel='linear',gamma='auto', random_state = 1)\n",
    "#classifier_rbf = SVC(kernel='rbf',gamma='auto', random_state = 1)\n",
    "#X = data.drop('label', axis=1)\n",
    "#y = data['label']\n",
    "#X, X_test, y, y_test = train_test_split(X, y, test_size = 0.2, random_state = 42,shuffle=True)\n",
    "\n",
    "#classifier_rbf.fit(X,y)\n",
    "#classifier_linear.fit(X,y)\n",
    "#tic = time.process_time()\n",
    "#Y_pred_rbf = classifier_rbf.predict(X_test)\n",
    "#Y_linear = classifier_linear.predict(X_test)\n",
    "#toc = time.process_time()\n",
    "#print(toc - tic)\n",
    "\n",
    "#print(\"Accuracy_rbf:\",metrics.accuracy_score(y_test, Y_pred_rbf))\n",
    "#print(\"Accuracy_linear:\",metrics.accuracy_score(y_test, Y_linear))"
   ]
  },
  {
   "cell_type": "code",
   "execution_count": 190,
   "metadata": {},
   "outputs": [],
   "source": [
    "#from sklearn.neighbors import KNeighborsClassifier\n",
    "#from sklearn.metrics import confusion_matrix\n",
    "#from sklearn import metrics\n",
    "#Create KNN Classifier\n",
    "#knn = KNeighborsClassifier(n_neighbors=5)\n",
    "#X = data.drop('label', axis=1)\n",
    "#y = data['label']\n",
    "#X, X_test, y, y_test = train_test_split(X, y, test_size = 0.2, random_state = 42,shuffle=True)\n",
    "\n",
    "\n",
    "#Train the model using the training sets\n",
    "#knn.fit(X, y)\n",
    "#tic = time.process_time()\n",
    "#Predict the response for test dataset\n",
    "#knn_pred = knn.predict(X_test)\n",
    "#toc = time.process_time()\n",
    "#print(toc - tic)\n",
    "# Model Accuracy, how often is the classifier correct?\n",
    "#print(\"Accuracy:\",metrics.accuracy_score(y_test, knn_pred))"
   ]
  },
  {
   "cell_type": "code",
   "execution_count": 191,
   "metadata": {},
   "outputs": [],
   "source": [
    "### Testing ###\n",
    "\n",
    "Ax=np.loadtxt(open(\"m_d_banknote.csv\" , \"rb\"), delimiter=\",\")\n",
    "rows = Ax.shape[0]\n",
    "cols = Ax.shape[1]\n",
    "maxValue = np.amax(Ax)\n",
    "minValue = np.amin(Ax)\n",
    "for x in range(0, cols ):\n",
    "    for y in range(0, rows):\n",
    "        Ax[x,y]=math.ceil(((Ax[x,y]-minValue)/(maxValue-minValue))*255)\n",
    "Bx=np.pad(Ax, ((3,3),(3,3)), 'constant',constant_values=255)\n",
    "#Cx=np.loadtxt(open(\"label.csv\" , \"rb\"), delimiter=\"/n\") \n",
    "\n",
    "\n"
   ]
  },
  {
   "cell_type": "code",
   "execution_count": 233,
   "metadata": {},
   "outputs": [],
   "source": [
    "def mvfeaturegeneration(b):\n",
    "    W=b\n",
    "    g1=W[0:3,0:3]#groups\n",
    "    g2=W[0:3,3]\n",
    "    g3=W[0:3,4:7]\n",
    "    g4=W[3,0:3]\n",
    "    g5=W[3,3]\n",
    "    g6=W[3,4:7]\n",
    "    g7=W[4:7,0:3]\n",
    "    g8=W[4:7,3]\n",
    "    g9=W[4:7,4:7]\n",
    "    groups = [g1,g2,g3,g4,g5,g6,g7,g8,g9]\n",
    "    \n",
    "    meanf = np.zeros(9)\n",
    "    varf = np.zeros(9)\n",
    "    for idx,grp in enumerate(groups):\n",
    "        mean = np.mean(grp)\n",
    "        var = np.sum((grp-mean)**2)\n",
    "        meanf[idx] = mean\n",
    "        varf[idx] = var\n",
    "    \n",
    "    intervarf = np.zeros(36)\n",
    "    idx = 0\n",
    "    for i in range(9):\n",
    "        for j in range(i+1,9):\n",
    "            g1 = groups[i]\n",
    "            g2 = groups[j]\n",
    "            W1=(g1.size)/((g1.size)+(g2.size))\n",
    "            W2=(g2.size)/((g1.size)+(g2.size))\n",
    "            mu=((meanf[i]-meanf[j])**2)\n",
    "            ivar=W1*W2*mu\n",
    "            intervarf[idx] = ivar\n",
    "            idx += 1\n",
    "\n",
    "    return (np.concatenate((meanf,varf,intervarf),axis=None).tolist())"
   ]
  },
  {
   "cell_type": "code",
   "execution_count": 234,
   "metadata": {},
   "outputs": [
    {
     "name": "stdout",
     "output_type": "stream",
     "text": [
      "completed feature generation: 0.53%\n",
      "completed feature generation: 1.07%\n",
      "completed feature generation: 1.60%\n",
      "completed feature generation: 2.14%\n",
      "completed feature generation: 2.67%\n",
      "completed feature generation: 3.21%\n",
      "completed feature generation: 3.74%\n",
      "completed feature generation: 4.28%\n",
      "completed feature generation: 4.81%\n",
      "completed feature generation: 5.35%\n",
      "completed feature generation: 5.88%\n",
      "completed feature generation: 6.42%\n",
      "completed feature generation: 6.95%\n",
      "completed feature generation: 7.49%\n",
      "completed feature generation: 8.02%\n",
      "completed feature generation: 8.56%\n",
      "completed feature generation: 9.09%\n",
      "completed feature generation: 9.63%\n",
      "completed feature generation: 10.16%\n",
      "completed feature generation: 10.70%\n",
      "completed feature generation: 11.23%\n",
      "completed feature generation: 11.76%\n",
      "completed feature generation: 12.30%\n",
      "completed feature generation: 12.83%\n",
      "completed feature generation: 13.37%\n",
      "completed feature generation: 13.90%\n",
      "completed feature generation: 14.44%\n",
      "completed feature generation: 14.97%\n",
      "completed feature generation: 15.51%\n",
      "completed feature generation: 16.04%\n",
      "completed feature generation: 16.58%\n",
      "completed feature generation: 17.11%\n",
      "completed feature generation: 17.65%\n",
      "completed feature generation: 18.18%\n",
      "completed feature generation: 18.72%\n",
      "completed feature generation: 19.25%\n",
      "completed feature generation: 19.79%\n",
      "completed feature generation: 20.32%\n",
      "completed feature generation: 20.86%\n",
      "completed feature generation: 21.39%\n",
      "completed feature generation: 21.93%\n",
      "completed feature generation: 22.46%\n",
      "completed feature generation: 22.99%\n",
      "completed feature generation: 23.53%\n",
      "completed feature generation: 24.06%\n",
      "completed feature generation: 24.60%\n",
      "completed feature generation: 25.13%\n",
      "completed feature generation: 25.67%\n",
      "completed feature generation: 26.20%\n",
      "completed feature generation: 26.74%\n",
      "completed feature generation: 27.27%\n",
      "completed feature generation: 27.81%\n",
      "completed feature generation: 28.34%\n",
      "completed feature generation: 28.88%\n",
      "completed feature generation: 29.41%\n",
      "completed feature generation: 29.95%\n",
      "completed feature generation: 30.48%\n",
      "completed feature generation: 31.02%\n",
      "completed feature generation: 31.55%\n",
      "completed feature generation: 32.09%\n",
      "completed feature generation: 32.62%\n",
      "completed feature generation: 33.16%\n",
      "completed feature generation: 33.69%\n",
      "completed feature generation: 34.22%\n",
      "completed feature generation: 34.76%\n",
      "completed feature generation: 35.29%\n",
      "completed feature generation: 35.83%\n",
      "completed feature generation: 36.36%\n",
      "completed feature generation: 36.90%\n",
      "completed feature generation: 37.43%\n",
      "completed feature generation: 37.97%\n",
      "completed feature generation: 38.50%\n",
      "completed feature generation: 39.04%\n",
      "completed feature generation: 39.57%\n",
      "completed feature generation: 40.11%\n",
      "completed feature generation: 40.64%\n",
      "completed feature generation: 41.18%\n",
      "completed feature generation: 41.71%\n",
      "completed feature generation: 42.25%\n",
      "completed feature generation: 42.78%\n",
      "completed feature generation: 43.32%\n",
      "completed feature generation: 43.85%\n",
      "completed feature generation: 44.39%\n",
      "completed feature generation: 44.92%\n",
      "completed feature generation: 45.45%\n",
      "completed feature generation: 45.99%\n",
      "completed feature generation: 46.52%\n",
      "completed feature generation: 47.06%\n",
      "completed feature generation: 47.59%\n",
      "completed feature generation: 48.13%\n",
      "completed feature generation: 48.66%\n",
      "completed feature generation: 49.20%\n",
      "completed feature generation: 49.73%\n",
      "completed feature generation: 50.27%\n",
      "completed feature generation: 50.80%\n",
      "completed feature generation: 51.34%\n",
      "completed feature generation: 51.87%\n",
      "completed feature generation: 52.41%\n",
      "completed feature generation: 52.94%\n",
      "completed feature generation: 53.48%\n",
      "completed feature generation: 54.01%\n",
      "completed feature generation: 54.55%\n",
      "completed feature generation: 55.08%\n",
      "completed feature generation: 55.61%\n",
      "completed feature generation: 56.15%\n",
      "completed feature generation: 56.68%\n",
      "completed feature generation: 57.22%\n",
      "completed feature generation: 57.75%\n",
      "completed feature generation: 58.29%\n",
      "completed feature generation: 58.82%\n",
      "completed feature generation: 59.36%\n",
      "completed feature generation: 59.89%\n",
      "completed feature generation: 60.43%\n",
      "completed feature generation: 60.96%\n",
      "completed feature generation: 61.50%\n",
      "completed feature generation: 62.03%\n",
      "completed feature generation: 62.57%\n",
      "completed feature generation: 63.10%\n",
      "completed feature generation: 63.64%\n",
      "completed feature generation: 64.17%\n",
      "completed feature generation: 64.71%\n",
      "completed feature generation: 65.24%\n",
      "completed feature generation: 65.78%\n",
      "completed feature generation: 66.31%\n",
      "completed feature generation: 66.84%\n",
      "completed feature generation: 67.38%\n",
      "completed feature generation: 67.91%\n",
      "completed feature generation: 68.45%\n",
      "completed feature generation: 68.98%\n",
      "completed feature generation: 69.52%\n",
      "completed feature generation: 70.05%\n",
      "completed feature generation: 70.59%\n",
      "completed feature generation: 71.12%\n",
      "completed feature generation: 71.66%\n",
      "completed feature generation: 72.19%\n",
      "completed feature generation: 72.73%\n",
      "completed feature generation: 73.26%\n",
      "completed feature generation: 73.80%\n",
      "completed feature generation: 74.33%\n",
      "completed feature generation: 74.87%\n",
      "completed feature generation: 75.40%\n",
      "completed feature generation: 75.94%\n",
      "completed feature generation: 76.47%\n",
      "completed feature generation: 77.01%\n",
      "completed feature generation: 77.54%\n",
      "completed feature generation: 78.07%\n",
      "completed feature generation: 78.61%\n",
      "completed feature generation: 79.14%\n",
      "completed feature generation: 79.68%\n",
      "completed feature generation: 80.21%\n",
      "completed feature generation: 80.75%\n",
      "completed feature generation: 81.28%\n",
      "completed feature generation: 81.82%\n",
      "completed feature generation: 82.35%\n",
      "completed feature generation: 82.89%\n",
      "completed feature generation: 83.42%\n",
      "completed feature generation: 83.96%\n",
      "completed feature generation: 84.49%\n",
      "completed feature generation: 85.03%\n",
      "completed feature generation: 85.56%\n",
      "completed feature generation: 86.10%\n",
      "completed feature generation: 86.63%\n",
      "completed feature generation: 87.17%\n",
      "completed feature generation: 87.70%\n",
      "completed feature generation: 88.24%\n",
      "completed feature generation: 88.77%\n",
      "completed feature generation: 89.30%\n",
      "completed feature generation: 89.84%\n",
      "completed feature generation: 90.37%\n",
      "completed feature generation: 90.91%\n",
      "completed feature generation: 91.44%\n",
      "completed feature generation: 91.98%\n",
      "completed feature generation: 92.51%\n",
      "completed feature generation: 93.05%\n",
      "completed feature generation: 93.58%\n",
      "completed feature generation: 94.12%\n",
      "completed feature generation: 94.65%\n",
      "completed feature generation: 95.19%\n",
      "completed feature generation: 95.72%\n",
      "completed feature generation: 96.26%\n",
      "completed feature generation: 96.79%\n",
      "completed feature generation: 97.33%\n",
      "completed feature generation: 97.86%\n",
      "completed feature generation: 98.40%\n",
      "completed feature generation: 98.93%\n",
      "completed feature generation: 99.47%\n",
      "completed feature generation: 100.00%\n"
     ]
    }
   ],
   "source": [
    "L.insert(0,0)\n",
    "s=len(Ax)\n",
    "M = []\n",
    "for i in range(len(L)):  \n",
    "    J=L[i]+3\n",
    "    if(J+3 < s+3):\n",
    "        for j in range(J+3,s+3):\n",
    "            M.append(mvfeaturegeneration(Bx[int(j-3):int(j+4),int(J-3):int(J+4)])+[j,J])\n",
    "    print(\"completed feature generation: {:.2f}%\".format((i+1)*100/len(L)))\n",
    "M = np.array(M)"
   ]
  },
  {
   "cell_type": "code",
   "execution_count": 235,
   "metadata": {},
   "outputs": [],
   "source": [
    "preds = rfc2.predict(M[:,:-2])\n",
    "D = M[preds == 1,-2:]"
   ]
  },
  {
   "cell_type": "code",
   "execution_count": 236,
   "metadata": {},
   "outputs": [],
   "source": [
    "x1 = np.array(D)[:,0] -3 # To remove padding shift\n",
    "y1 = np.array(D)[:,1] - 3"
   ]
  },
  {
   "cell_type": "code",
   "execution_count": 237,
   "metadata": {},
   "outputs": [
    {
     "data": {
      "text/plain": [
       "array([[   6.,    3.],\n",
       "       [  10.,    3.],\n",
       "       [  11.,    3.],\n",
       "       ...,\n",
       "       [1372., 1365.],\n",
       "       [1373., 1365.],\n",
       "       [1374., 1371.]])"
      ]
     },
     "execution_count": 237,
     "metadata": {},
     "output_type": "execute_result"
    }
   ],
   "source": [
    "D"
   ]
  },
  {
   "cell_type": "code",
   "execution_count": 245,
   "metadata": {},
   "outputs": [
    {
     "data": {
      "image/png": "[encoded data removed]",
      "text/plain": [
       "<matplotlib.figure.Figure at 0x150476920b8>"
      ]
     },
     "metadata": {
      "needs_background": "light"
     },
     "output_type": "display_data"
    }
   ],
   "source": [
    "plt.figure(figsize = (10,5))\n",
    "plt.imshow(Aa, cmap='gray')\n",
    "plt.scatter(y1,x1, c='b',s=2)\n",
    "plt.savefig('model2cortex.eps') "
   ]
  },
  {
   "cell_type": "code",
   "execution_count": null,
   "metadata": {},
   "outputs": [],
   "source": []
  },
  {
   "cell_type": "code",
   "execution_count": null,
   "metadata": {},
   "outputs": [],
   "source": []
  },
  {
   "cell_type": "code",
   "execution_count": null,
   "metadata": {},
   "outputs": [],
   "source": []
  },
  {
   "cell_type": "code",
   "execution_count": null,
   "metadata": {},
   "outputs": [],
   "source": []
  },
  {
   "cell_type": "code",
   "execution_count": null,
   "metadata": {},
   "outputs": [],
   "source": []
  },
  {
   "cell_type": "code",
   "execution_count": null,
   "metadata": {},
   "outputs": [],
   "source": []
  },
  {
   "cell_type": "code",
   "execution_count": null,
   "metadata": {},
   "outputs": [],
   "source": []
  },
  {
   "cell_type": "code",
   "execution_count": null,
   "metadata": {},
   "outputs": [],
   "source": []
  },
  {
   "cell_type": "code",
   "execution_count": null,
   "metadata": {},
   "outputs": [],
   "source": []
  },
  {
   "cell_type": "code",
   "execution_count": null,
   "metadata": {},
   "outputs": [],
   "source": []
  },
  {
   "cell_type": "code",
   "execution_count": null,
   "metadata": {},
   "outputs": [],
   "source": []
  },
  {
   "cell_type": "code",
   "execution_count": null,
   "metadata": {},
   "outputs": [],
   "source": []
  },
  {
   "cell_type": "code",
   "execution_count": null,
   "metadata": {},
   "outputs": [],
   "source": []
  },
  {
   "cell_type": "code",
   "execution_count": null,
   "metadata": {},
   "outputs": [],
   "source": []
  },
  {
   "cell_type": "code",
   "execution_count": null,
   "metadata": {},
   "outputs": [],
   "source": []
  },
  {
   "cell_type": "code",
   "execution_count": null,
   "metadata": {},
   "outputs": [],
   "source": []
  },
  {
   "cell_type": "code",
   "execution_count": null,
   "metadata": {},
   "outputs": [],
   "source": []
  },
  {
   "cell_type": "code",
   "execution_count": null,
   "metadata": {},
   "outputs": [],
   "source": []
  },
  {
   "cell_type": "code",
   "execution_count": null,
   "metadata": {},
   "outputs": [],
   "source": []
  },
  {
   "cell_type": "code",
   "execution_count": null,
   "metadata": {},
   "outputs": [],
   "source": []
  },
  {
   "cell_type": "code",
   "execution_count": null,
   "metadata": {},
   "outputs": [],
   "source": []
  },
  {
   "cell_type": "code",
   "execution_count": null,
   "metadata": {},
   "outputs": [],
   "source": [
    "#Other Models not needed now"
   ]
  },
  {
   "cell_type": "code",
   "execution_count": 15,
   "metadata": {},
   "outputs": [
    {
     "ename": "TypeError",
     "evalue": "Singleton array array(1055) cannot be considered a valid collection.",
     "output_type": "error",
     "traceback": [
      "\u001b[1;31m---------------------------------------------------------------------------\u001b[0m",
      "\u001b[1;31mTypeError\u001b[0m                                 Traceback (most recent call last)",
      "\u001b[1;32m<ipython-input-15-12b00fb4fca5>\u001b[0m in \u001b[0;36m<module>\u001b[1;34m()\u001b[0m\n\u001b[0;32m      7\u001b[0m \u001b[1;33m\u001b[0m\u001b[0m\n\u001b[0;32m      8\u001b[0m \u001b[1;31m#Train the model using the training sets\u001b[0m\u001b[1;33m\u001b[0m\u001b[1;33m\u001b[0m\u001b[0m\n\u001b[1;32m----> 9\u001b[1;33m \u001b[0mknn\u001b[0m\u001b[1;33m.\u001b[0m\u001b[0mfit\u001b[0m\u001b[1;33m(\u001b[0m\u001b[0mX\u001b[0m\u001b[1;33m,\u001b[0m \u001b[0my\u001b[0m\u001b[1;33m)\u001b[0m\u001b[1;33m\u001b[0m\u001b[0m\n\u001b[0m\u001b[0;32m     10\u001b[0m \u001b[0mtic\u001b[0m \u001b[1;33m=\u001b[0m \u001b[0mtime\u001b[0m\u001b[1;33m.\u001b[0m\u001b[0mprocess_time\u001b[0m\u001b[1;33m(\u001b[0m\u001b[1;33m)\u001b[0m\u001b[1;33m\u001b[0m\u001b[0m\n\u001b[0;32m     11\u001b[0m \u001b[0mknn_pred\u001b[0m \u001b[1;33m=\u001b[0m \u001b[0mknn\u001b[0m\u001b[1;33m.\u001b[0m\u001b[0mpredict\u001b[0m\u001b[1;33m(\u001b[0m\u001b[0mX_test\u001b[0m\u001b[1;33m)\u001b[0m\u001b[1;33m\u001b[0m\u001b[0m\n",
      "\u001b[1;32m~\\Anaconda3\\lib\\site-packages\\sklearn\\neighbors\\base.py\u001b[0m in \u001b[0;36mfit\u001b[1;34m(self, X, y)\u001b[0m\n\u001b[0;32m    868\u001b[0m         \"\"\"\n\u001b[0;32m    869\u001b[0m         \u001b[1;32mif\u001b[0m \u001b[1;32mnot\u001b[0m \u001b[0misinstance\u001b[0m\u001b[1;33m(\u001b[0m\u001b[0mX\u001b[0m\u001b[1;33m,\u001b[0m \u001b[1;33m(\u001b[0m\u001b[0mKDTree\u001b[0m\u001b[1;33m,\u001b[0m \u001b[0mBallTree\u001b[0m\u001b[1;33m)\u001b[0m\u001b[1;33m)\u001b[0m\u001b[1;33m:\u001b[0m\u001b[1;33m\u001b[0m\u001b[0m\n\u001b[1;32m--> 870\u001b[1;33m             \u001b[0mX\u001b[0m\u001b[1;33m,\u001b[0m \u001b[0my\u001b[0m \u001b[1;33m=\u001b[0m \u001b[0mcheck_X_y\u001b[0m\u001b[1;33m(\u001b[0m\u001b[0mX\u001b[0m\u001b[1;33m,\u001b[0m \u001b[0my\u001b[0m\u001b[1;33m,\u001b[0m \u001b[1;34m\"csr\"\u001b[0m\u001b[1;33m,\u001b[0m \u001b[0mmulti_output\u001b[0m\u001b[1;33m=\u001b[0m\u001b[1;32mTrue\u001b[0m\u001b[1;33m)\u001b[0m\u001b[1;33m\u001b[0m\u001b[0m\n\u001b[0m\u001b[0;32m    871\u001b[0m \u001b[1;33m\u001b[0m\u001b[0m\n\u001b[0;32m    872\u001b[0m         \u001b[1;32mif\u001b[0m \u001b[0my\u001b[0m\u001b[1;33m.\u001b[0m\u001b[0mndim\u001b[0m \u001b[1;33m==\u001b[0m \u001b[1;36m1\u001b[0m \u001b[1;32mor\u001b[0m \u001b[0my\u001b[0m\u001b[1;33m.\u001b[0m\u001b[0mndim\u001b[0m \u001b[1;33m==\u001b[0m \u001b[1;36m2\u001b[0m \u001b[1;32mand\u001b[0m \u001b[0my\u001b[0m\u001b[1;33m.\u001b[0m\u001b[0mshape\u001b[0m\u001b[1;33m[\u001b[0m\u001b[1;36m1\u001b[0m\u001b[1;33m]\u001b[0m \u001b[1;33m==\u001b[0m \u001b[1;36m1\u001b[0m\u001b[1;33m:\u001b[0m\u001b[1;33m\u001b[0m\u001b[0m\n",
      "\u001b[1;32m~\\Anaconda3\\lib\\site-packages\\sklearn\\utils\\validation.py\u001b[0m in \u001b[0;36mcheck_X_y\u001b[1;34m(X, y, accept_sparse, accept_large_sparse, dtype, order, copy, force_all_finite, ensure_2d, allow_nd, multi_output, ensure_min_samples, ensure_min_features, y_numeric, warn_on_dtype, estimator)\u001b[0m\n\u001b[0;32m    748\u001b[0m     \u001b[1;32mif\u001b[0m \u001b[0mmulti_output\u001b[0m\u001b[1;33m:\u001b[0m\u001b[1;33m\u001b[0m\u001b[0m\n\u001b[0;32m    749\u001b[0m         y = check_array(y, 'csr', force_all_finite=True, ensure_2d=False,\n\u001b[1;32m--> 750\u001b[1;33m                         dtype=None)\n\u001b[0m\u001b[0;32m    751\u001b[0m     \u001b[1;32melse\u001b[0m\u001b[1;33m:\u001b[0m\u001b[1;33m\u001b[0m\u001b[0m\n\u001b[0;32m    752\u001b[0m         \u001b[0my\u001b[0m \u001b[1;33m=\u001b[0m \u001b[0mcolumn_or_1d\u001b[0m\u001b[1;33m(\u001b[0m\u001b[0my\u001b[0m\u001b[1;33m,\u001b[0m \u001b[0mwarn\u001b[0m\u001b[1;33m=\u001b[0m\u001b[1;32mTrue\u001b[0m\u001b[1;33m)\u001b[0m\u001b[1;33m\u001b[0m\u001b[0m\n",
      "\u001b[1;32m~\\Anaconda3\\lib\\site-packages\\sklearn\\utils\\validation.py\u001b[0m in \u001b[0;36mcheck_array\u001b[1;34m(array, accept_sparse, accept_large_sparse, dtype, order, copy, force_all_finite, ensure_2d, allow_nd, ensure_min_samples, ensure_min_features, warn_on_dtype, estimator)\u001b[0m\n\u001b[0;32m    570\u001b[0m     \u001b[0mshape_repr\u001b[0m \u001b[1;33m=\u001b[0m \u001b[0m_shape_repr\u001b[0m\u001b[1;33m(\u001b[0m\u001b[0marray\u001b[0m\u001b[1;33m.\u001b[0m\u001b[0mshape\u001b[0m\u001b[1;33m)\u001b[0m\u001b[1;33m\u001b[0m\u001b[0m\n\u001b[0;32m    571\u001b[0m     \u001b[1;32mif\u001b[0m \u001b[0mensure_min_samples\u001b[0m \u001b[1;33m>\u001b[0m \u001b[1;36m0\u001b[0m\u001b[1;33m:\u001b[0m\u001b[1;33m\u001b[0m\u001b[0m\n\u001b[1;32m--> 572\u001b[1;33m         \u001b[0mn_samples\u001b[0m \u001b[1;33m=\u001b[0m \u001b[0m_num_samples\u001b[0m\u001b[1;33m(\u001b[0m\u001b[0marray\u001b[0m\u001b[1;33m)\u001b[0m\u001b[1;33m\u001b[0m\u001b[0m\n\u001b[0m\u001b[0;32m    573\u001b[0m         \u001b[1;32mif\u001b[0m \u001b[0mn_samples\u001b[0m \u001b[1;33m<\u001b[0m \u001b[0mensure_min_samples\u001b[0m\u001b[1;33m:\u001b[0m\u001b[1;33m\u001b[0m\u001b[0m\n\u001b[0;32m    574\u001b[0m             raise ValueError(\"Found array with %d sample(s) (shape=%s) while a\"\n",
      "\u001b[1;32m~\\Anaconda3\\lib\\site-packages\\sklearn\\utils\\validation.py\u001b[0m in \u001b[0;36m_num_samples\u001b[1;34m(x)\u001b[0m\n\u001b[0;32m    140\u001b[0m         \u001b[1;32mif\u001b[0m \u001b[0mlen\u001b[0m\u001b[1;33m(\u001b[0m\u001b[0mx\u001b[0m\u001b[1;33m.\u001b[0m\u001b[0mshape\u001b[0m\u001b[1;33m)\u001b[0m \u001b[1;33m==\u001b[0m \u001b[1;36m0\u001b[0m\u001b[1;33m:\u001b[0m\u001b[1;33m\u001b[0m\u001b[0m\n\u001b[0;32m    141\u001b[0m             raise TypeError(\"Singleton array %r cannot be considered\"\n\u001b[1;32m--> 142\u001b[1;33m                             \" a valid collection.\" % x)\n\u001b[0m\u001b[0;32m    143\u001b[0m         \u001b[1;32mreturn\u001b[0m \u001b[0mx\u001b[0m\u001b[1;33m.\u001b[0m\u001b[0mshape\u001b[0m\u001b[1;33m[\u001b[0m\u001b[1;36m0\u001b[0m\u001b[1;33m]\u001b[0m\u001b[1;33m\u001b[0m\u001b[0m\n\u001b[0;32m    144\u001b[0m     \u001b[1;32melse\u001b[0m\u001b[1;33m:\u001b[0m\u001b[1;33m\u001b[0m\u001b[0m\n",
      "\u001b[1;31mTypeError\u001b[0m: Singleton array array(1055) cannot be considered a valid collection."
     ]
    }
   ],
   "source": [
    "from sklearn.svm import SVC\n",
    "from sklearn.neighbors import KNeighborsClassifier\n",
    "from sklearn.metrics import confusion_matrix\n",
    "from sklearn import metrics\n",
    "#Create KNN Classifier\n",
    "knn = KNeighborsClassifier(n_neighbors=5)\n",
    "\n",
    "#Train the model using the training sets\n",
    "knn.fit(X, y)\n",
    "tic = time.process_time()\n",
    "knn_pred = knn.predict(X_test)\n",
    "toc = time.process_time()\n",
    "print(toc - tic)\n",
    "\n",
    "#Predict the response for test dataset\n",
    "\n",
    "\n",
    "from sklearn import metrics\n",
    "print(\"=== Confusion Matrix ===\")\n",
    "print(confusion_matrix(y_test, rfc_predict))\n",
    "print('\\n')\n",
    "# Model Accuracy, how often is the classifier correct?\n",
    "print(\"Accuracy:\",metrics.accuracy_score(y_test, knn_pred))"
   ]
  },
  {
   "cell_type": "code",
   "execution_count": 223,
   "metadata": {},
   "outputs": [
    {
     "data": {
      "text/plain": [
       "True"
      ]
     },
     "execution_count": 223,
     "metadata": {},
     "output_type": "execute_result"
    }
   ],
   "source": [
    "any(y_test==1)"
   ]
  },
  {
   "cell_type": "code",
   "execution_count": 224,
   "metadata": {},
   "outputs": [],
   "source": [
    "x = knn.predict(xpred)"
   ]
  },
  {
   "cell_type": "code",
   "execution_count": 225,
   "metadata": {},
   "outputs": [
    {
     "data": {
      "image/png": "[encoded data removed]",
      "text/plain": [
       "<matplotlib.figure.Figure at 0x284b2b69c88>"
      ]
     },
     "metadata": {
      "needs_background": "light"
     },
     "output_type": "display_data"
    }
   ],
   "source": [
    "import matplotlib.patches as patches\n",
    "from PIL import Image\n",
    "L=[]\n",
    "for i in range(0,len(x)):\n",
    "    if x[i]==1:\n",
    "        L.append(i)\n",
    "L.append(A.shape[0])\n",
    "import matplotlib.pyplot as plt\n",
    "fig,ax = plt.subplots(1)\n",
    "B = A.astype('float32')*255.0/65536.0\n",
    "B = B.astype('uint16')\n",
    "ax.imshow(B, cmap='gray')\n",
    "width,height = L[0],L[0]\n",
    "for z in range(0,len(L)-1):\n",
    "    rect = patches.Rectangle((L[z],L[z]),-width,-height,linewidth=1,edgecolor='r',facecolor='none')\n",
    "#     plt.scatter([int(L[z])],[int(L[z])], color='red', s=1)\n",
    "    width, height = L[z+1]-L[z],L[z+1]-L[z]\n",
    "    ax.add_patch(rect)\n",
    "rect = patches.Rectangle((L[z],L[z]),width,height,linewidth=2,edgecolor='r',facecolor='none')\n",
    "ax.add_patch(rect)\n",
    "\n",
    "plt.savefig('modelPredictionKNN4.eps') \n",
    "plt.show()\n",
    " "
   ]
  },
  {
   "cell_type": "code",
   "execution_count": 226,
   "metadata": {},
   "outputs": [
    {
     "name": "stdout",
     "output_type": "stream",
     "text": [
      "0.0\n",
      "=== Confusion Matrix ===\n",
      "[[180   2]\n",
      " [  0 178]]\n",
      "\n",
      "\n",
      "Accuracy: 0.9972222222222222\n"
     ]
    }
   ],
   "source": [
    "from sklearn.tree import DecisionTreeClassifier\n",
    "clf = DecisionTreeClassifier()\n",
    "from sklearn.metrics import confusion_matrix\n",
    "from sklearn import metrics\n",
    "\n",
    "# Train Decision Tree Classifer\n",
    "clf = clf.fit(X,y)\n",
    "\n",
    "#Predict the response for test dataset\n",
    "tic = time.process_time()\n",
    "Des_pred = clf.predict(X_test)\n",
    "toc = time.process_time()\n",
    "print(toc - tic)\n",
    "\n",
    "print(\"=== Confusion Matrix ===\")\n",
    "print(confusion_matrix(y_test, rfc_predict))\n",
    "print('\\n')\n",
    "\n",
    "print(\"Accuracy:\",metrics.accuracy_score(y_test, Des_pred))\n"
   ]
  },
  {
   "cell_type": "code",
   "execution_count": 227,
   "metadata": {},
   "outputs": [],
   "source": [
    "x = clf.predict(xpred)"
   ]
  },
  {
   "cell_type": "code",
   "execution_count": 228,
   "metadata": {},
   "outputs": [
    {
     "data": {
      "image/png": "[encoded data removed]",
      "text/plain": [
       "<matplotlib.figure.Figure at 0x284ad5a1dd8>"
      ]
     },
     "metadata": {
      "needs_background": "light"
     },
     "output_type": "display_data"
    }
   ],
   "source": [
    "import matplotlib.patches as patches\n",
    "from PIL import Image\n",
    "L=[]\n",
    "for i in range(0,len(x)):\n",
    "    if x[i]==1:\n",
    "        L.append(i)\n",
    "L.append(A.shape[0])\n",
    "import matplotlib.pyplot as plt\n",
    "fig,ax = plt.subplots(1)\n",
    "B = A.astype('float32')*255.0/65536.0\n",
    "B = B.astype('uint16')\n",
    "ax.imshow(B, cmap='gray')\n",
    "width,height = L[0],L[0]\n",
    "for z in range(0,len(L)-1):\n",
    "    rect = patches.Rectangle((L[z],L[z]),-width,-height,linewidth=1,edgecolor='r',facecolor='none')\n",
    "#     plt.scatter([int(L[z])],[int(L[z])], color='red', s=1)\n",
    "    width, height = L[z+1]-L[z],L[z+1]-L[z]\n",
    "    ax.add_patch(rect)\n",
    "rect = patches.Rectangle((L[z],L[z]),width,height,linewidth=2,edgecolor='r',facecolor='none')\n",
    "ax.add_patch(rect)\n",
    "\n",
    "plt.savefig('modelPredictionDTC4.eps') \n",
    "plt.show()"
   ]
  },
  {
   "cell_type": "code",
   "execution_count": 229,
   "metadata": {},
   "outputs": [
    {
     "name": "stdout",
     "output_type": "stream",
     "text": [
      "0.0625\n",
      "=== Confusion Matrix ===\n",
      "[[180   2]\n",
      " [  0 178]]\n",
      "\n",
      "\n",
      "Accuracy_rbf: 0.5055555555555555\n",
      "Accuracy_linear: 0.9972222222222222\n"
     ]
    }
   ],
   "source": [
    "from sklearn.svm import SVC\n",
    "from sklearn.metrics import confusion_matrix\n",
    "from sklearn import metrics\n",
    "\n",
    "classifier_linear = SVC(kernel='linear',gamma='auto', random_state = 1)\n",
    "classifier_rbf = SVC(kernel='rbf',gamma='auto', random_state = 1)\n",
    "\n",
    "classifier_rbf.fit(X,y)\n",
    "classifier_linear.fit(X,y)\n",
    "tic = time.process_time()\n",
    "Y_pred_rbf = classifier_rbf.predict(X_test)\n",
    "Y_linear = classifier_linear.predict(X_test)\n",
    "toc = time.process_time()\n",
    "print(toc - tic)\n",
    "\n",
    "print(\"=== Confusion Matrix ===\")\n",
    "print(confusion_matrix(y_test, rfc_predict))\n",
    "print('\\n')\n",
    "\n",
    "print(\"Accuracy_rbf:\",metrics.accuracy_score(y_test, Y_pred_rbf))\n",
    "print(\"Accuracy_linear:\",metrics.accuracy_score(y_test, Y_linear))\n"
   ]
  },
  {
   "cell_type": "code",
   "execution_count": 230,
   "metadata": {},
   "outputs": [],
   "source": [
    "x = classifier_linear.predict(xpred)"
   ]
  },
  {
   "cell_type": "code",
   "execution_count": 231,
   "metadata": {},
   "outputs": [
    {
     "data": {
      "image/png": "[encoded data removed]",
      "text/plain": [
       "<matplotlib.figure.Figure at 0x284b2bc13c8>"
      ]
     },
     "metadata": {
      "needs_background": "light"
     },
     "output_type": "display_data"
    }
   ],
   "source": [
    "import matplotlib.patches as patches\n",
    "from PIL import Image\n",
    "L=[]\n",
    "for i in range(0,len(x)):\n",
    "    if x[i]==1:\n",
    "        L.append(i)\n",
    "L.append(A.shape[0])\n",
    "import matplotlib.pyplot as plt\n",
    "fig,ax = plt.subplots(1)\n",
    "B = A.astype('float32')*255.0/65536.0\n",
    "B = B.astype('uint16')\n",
    "ax.imshow(B, cmap='gray')\n",
    "width,height = L[0],L[0]\n",
    "for z in range(0,len(L)-1):\n",
    "    rect = patches.Rectangle((L[z],L[z]),-width,-height,linewidth=1,edgecolor='r',facecolor='none')\n",
    "#     plt.scatter([int(L[z])],[int(L[z])], color='red', s=1)\n",
    "    width, height = L[z+1]-L[z],L[z+1]-L[z]\n",
    "    ax.add_patch(rect)\n",
    "rect = patches.Rectangle((L[z],L[z]),width,height,linewidth=2,edgecolor='r',facecolor='none')\n",
    "ax.add_patch(rect)\n",
    "\n",
    "plt.savefig('modelPredictionSVMlinear4.eps') \n",
    "plt.show()"
   ]
  },
  {
   "cell_type": "code",
   "execution_count": 209,
   "metadata": {},
   "outputs": [],
   "source": [
    "a=[[1,2,3],[4,5,6]]"
   ]
  },
  {
   "cell_type": "code",
   "execution_count": 18,
   "metadata": {},
   "outputs": [
    {
     "data": {
      "text/plain": [
       "[[1, 2, 3]]"
      ]
     },
     "execution_count": 18,
     "metadata": {},
     "output_type": "execute_result"
    }
   ],
   "source": [
    "a[:][0:1]"
   ]
  },
  {
   "cell_type": "code",
   "execution_count": null,
   "metadata": {},
   "outputs": [],
   "source": []
  },
  {
   "cell_type": "code",
   "execution_count": null,
   "metadata": {},
   "outputs": [],
   "source": []
  },
  {
   "cell_type": "code",
   "execution_count": null,
   "metadata": {},
   "outputs": [],
   "source": []
  },
  {
   "cell_type": "code",
   "execution_count": null,
   "metadata": {},
   "outputs": [],
   "source": []
  },
  {
   "cell_type": "code",
   "execution_count": 23,
   "metadata": {},
   "outputs": [
    {
     "name": "stdout",
     "output_type": "stream",
     "text": [
      "[255 255 255 ... 255 255 255]\n"
     ]
    }
   ],
   "source": [
    "from PIL import Image\n",
    "import numpy as np\n",
    "import sys\n",
    "import os\n",
    "import csv\n",
    "img_file = Image.open('Ivatest.jpg')\n",
    "    # img_file.show()\n",
    "\n",
    "# get original image parameters...\n",
    "width, height = img_file.size\n",
    "format = img_file.format\n",
    "mode = img_file.mode\n",
    "\n",
    "# Make image Greyscale\n",
    "img_grey = img_file.convert('L')\n",
    "#img_grey.save('result.png')\n",
    "#img_grey.show()\n",
    "\n",
    "# Save Greyscale values\n",
    "value = np.asarray(img_grey.getdata(), dtype=np.int).reshape((img_grey.size[1], img_grey.size[0]))\n",
    "value = value.flatten()\n",
    "print(value)\n",
    "with open(\"Ivatest.csv\", 'a') as f:\n",
    "    writer = csv.writer(f)\n",
    "    writer.writerow(value)"
   ]
  },
  {
   "cell_type": "code",
   "execution_count": null,
   "metadata": {},
   "outputs": [],
   "source": []
  },
  {
   "cell_type": "code",
   "execution_count": null,
   "metadata": {},
   "outputs": [],
   "source": []
  },
  {
   "cell_type": "code",
   "execution_count": 20,
   "metadata": {},
   "outputs": [
    {
     "data": {
      "text/plain": [
       "<matplotlib.image.AxesImage at 0x284a9cf35f8>"
      ]
     },
     "execution_count": 20,
     "metadata": {},
     "output_type": "execute_result"
    },
    {
     "data": {
      "image/png": "[encoded data removed]",
      "text/plain": [
       "<matplotlib.figure.Figure at 0x284a77aad68>"
      ]
     },
     "metadata": {
      "needs_background": "light"
     },
     "output_type": "display_data"
    }
   ],
   "source": [
    "import matplotlib.image as img\n",
    "import matplotlib.pyplot as plt\n",
    "image = img.imread('Ivatest.jpg')\n",
    "#print(image)\n",
    "plt.imshow(image)"
   ]
  },
  {
   "cell_type": "code",
   "execution_count": null,
   "metadata": {},
   "outputs": [],
   "source": []
  }
 ],
 "metadata": {
  "kernelspec": {
   "display_name": "Python 3",
   "language": "python",
   "name": "python3"
  },
  "language_info": {
   "codemirror_mode": {
    "name": "ipython",
    "version": 3
   },
   "file_extension": ".py",
   "mimetype": "text/x-python",
   "name": "python",
   "nbconvert_exporter": "python",
   "pygments_lexer": "ipython3",
   "version": "3.5.6"
  },
  "widgets": {
   "state": {},
   "version": "1.1.2"
  }
 },
 "nbformat": 4,
 "nbformat_minor": 2
}
