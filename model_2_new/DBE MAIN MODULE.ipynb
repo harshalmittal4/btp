{
 "cells": [
  {
   "cell_type": "code",
   "execution_count": 1,
   "metadata": {},
   "outputs": [],
   "source": [
    "import math\n",
    "import pandas as pd\n",
    "import numpy as np\n",
    "import csv\n",
    "import math\n",
    "from platform import python_version"
   ]
  },
  {
   "cell_type": "code",
   "execution_count": 2,
   "metadata": {
    "scrolled": true
   },
   "outputs": [],
   "source": [
    "columns = ['label']\n",
    "for i in range(9):\n",
    "    name = 'mean'+str(i+1)\n",
    "    columns += [name]\n",
    "for i in range(9):\n",
    "    name = 'var'+str(i+1)\n",
    "    columns += [name]\n",
    "for i in range(36):\n",
    "    name = 'interVar'+str(i+1)\n",
    "    columns += [name]"
   ]
  },
  {
   "cell_type": "code",
   "execution_count": 3,
   "metadata": {},
   "outputs": [],
   "source": [
    "def mvfeaturegeneration(b):\n",
    "    W=b\n",
    "    g1=W[0:3,0:3]#groups\n",
    "    g2=W[0:3,3]\n",
    "    g3=W[0:3,4:7]\n",
    "    g4=W[3,0:3]\n",
    "    g5=W[3,3]\n",
    "    g6=W[3,4:7]\n",
    "    g7=W[4:7,0:3]\n",
    "    g8=W[4:7,3]\n",
    "    g9=W[4:7,4:7]\n",
    "    groups = [g1,g2,g3,g4,g5,g6,g7,g8,g9]\n",
    "    \n",
    "    meanf = np.zeros(9)\n",
    "    varf = np.zeros(9)\n",
    "    for idx,grp in enumerate(groups):\n",
    "        mean = np.mean(grp)\n",
    "        var = np.sum((grp-mean)**2)\n",
    "        meanf[idx] = mean\n",
    "        varf[idx] = var\n",
    "    \n",
    "    intervarf = np.zeros(36)\n",
    "    idx = 0\n",
    "    for i in range(9):\n",
    "        for j in range(i+1,9):\n",
    "            g1 = groups[i]\n",
    "            g2 = groups[j]\n",
    "            W1=(g1.size)/((g1.size)+(g2.size))\n",
    "            W2=(g2.size)/((g1.size)+(g2.size))\n",
    "            mu=((meanf[i]-meanf[j])**2)\n",
    "            ivar=W1*W2*mu\n",
    "            intervarf[idx] = ivar\n",
    "            idx += 1\n",
    "\n",
    "    return (np.concatenate((meanf,varf,intervarf),axis=None).tolist())"
   ]
  },
  {
   "cell_type": "code",
   "execution_count": 4,
   "metadata": {},
   "outputs": [
    {
     "name": "stdout",
     "output_type": "stream",
     "text": [
      "3.5.2\n"
     ]
    }
   ],
   "source": [
    "print(python_version())"
   ]
  },
  {
   "cell_type": "code",
   "execution_count": null,
   "metadata": {},
   "outputs": [],
   "source": []
  },
  {
   "cell_type": "code",
   "execution_count": 5,
   "metadata": {},
   "outputs": [
    {
     "data": {
      "text/html": [
       "<div>\n",
       "<style scoped>\n",
       "    .dataframe tbody tr th:only-of-type {\n",
       "        vertical-align: middle;\n",
       "    }\n",
       "\n",
       "    .dataframe tbody tr th {\n",
       "        vertical-align: top;\n",
       "    }\n",
       "\n",
       "    .dataframe thead th {\n",
       "        text-align: right;\n",
       "    }\n",
       "</style>\n",
       "<table border=\"1\" class=\"dataframe\">\n",
       "  <thead>\n",
       "    <tr style=\"text-align: right;\">\n",
       "      <th></th>\n",
       "      <th>label</th>\n",
       "      <th>mean1</th>\n",
       "      <th>mean2</th>\n",
       "      <th>mean3</th>\n",
       "      <th>mean4</th>\n",
       "      <th>mean5</th>\n",
       "      <th>mean6</th>\n",
       "      <th>mean7</th>\n",
       "      <th>mean8</th>\n",
       "      <th>mean9</th>\n",
       "      <th>...</th>\n",
       "      <th>interVar27</th>\n",
       "      <th>interVar28</th>\n",
       "      <th>interVar29</th>\n",
       "      <th>interVar30</th>\n",
       "      <th>interVar31</th>\n",
       "      <th>interVar32</th>\n",
       "      <th>interVar33</th>\n",
       "      <th>interVar34</th>\n",
       "      <th>interVar35</th>\n",
       "      <th>interVar36</th>\n",
       "    </tr>\n",
       "  </thead>\n",
       "  <tbody>\n",
       "    <tr>\n",
       "      <th>0</th>\n",
       "      <td>0.0</td>\n",
       "      <td>0.000000</td>\n",
       "      <td>0.000000</td>\n",
       "      <td>0.000000</td>\n",
       "      <td>0.000000</td>\n",
       "      <td>0.0</td>\n",
       "      <td>3.000000</td>\n",
       "      <td>0.000000</td>\n",
       "      <td>3.000000</td>\n",
       "      <td>1.111111</td>\n",
       "      <td>...</td>\n",
       "      <td>1.687500</td>\n",
       "      <td>0.00</td>\n",
       "      <td>1.687500</td>\n",
       "      <td>0.111111</td>\n",
       "      <td>1.687500</td>\n",
       "      <td>0.0</td>\n",
       "      <td>0.668981</td>\n",
       "      <td>1.687500</td>\n",
       "      <td>0.308642</td>\n",
       "      <td>0.668981</td>\n",
       "    </tr>\n",
       "    <tr>\n",
       "      <th>1</th>\n",
       "      <td>0.0</td>\n",
       "      <td>0.000000</td>\n",
       "      <td>1.000000</td>\n",
       "      <td>1.000000</td>\n",
       "      <td>1.000000</td>\n",
       "      <td>0.0</td>\n",
       "      <td>1.666667</td>\n",
       "      <td>1.000000</td>\n",
       "      <td>1.666667</td>\n",
       "      <td>1.111111</td>\n",
       "      <td>...</td>\n",
       "      <td>0.520833</td>\n",
       "      <td>0.09</td>\n",
       "      <td>0.520833</td>\n",
       "      <td>0.111111</td>\n",
       "      <td>0.083333</td>\n",
       "      <td>0.0</td>\n",
       "      <td>0.057870</td>\n",
       "      <td>0.083333</td>\n",
       "      <td>0.003086</td>\n",
       "      <td>0.057870</td>\n",
       "    </tr>\n",
       "    <tr>\n",
       "      <th>2</th>\n",
       "      <td>0.0</td>\n",
       "      <td>0.666667</td>\n",
       "      <td>1.333333</td>\n",
       "      <td>1.666667</td>\n",
       "      <td>1.333333</td>\n",
       "      <td>0.0</td>\n",
       "      <td>2.000000</td>\n",
       "      <td>1.666667</td>\n",
       "      <td>2.000000</td>\n",
       "      <td>0.666667</td>\n",
       "      <td>...</td>\n",
       "      <td>0.750000</td>\n",
       "      <td>0.25</td>\n",
       "      <td>0.750000</td>\n",
       "      <td>0.040000</td>\n",
       "      <td>0.020833</td>\n",
       "      <td>0.0</td>\n",
       "      <td>0.333333</td>\n",
       "      <td>0.020833</td>\n",
       "      <td>0.250000</td>\n",
       "      <td>0.333333</td>\n",
       "    </tr>\n",
       "    <tr>\n",
       "      <th>3</th>\n",
       "      <td>0.0</td>\n",
       "      <td>1.555556</td>\n",
       "      <td>2.333333</td>\n",
       "      <td>2.333333</td>\n",
       "      <td>2.333333</td>\n",
       "      <td>0.0</td>\n",
       "      <td>1.000000</td>\n",
       "      <td>2.333333</td>\n",
       "      <td>1.000000</td>\n",
       "      <td>0.666667</td>\n",
       "      <td>...</td>\n",
       "      <td>0.187500</td>\n",
       "      <td>0.49</td>\n",
       "      <td>0.187500</td>\n",
       "      <td>0.040000</td>\n",
       "      <td>0.333333</td>\n",
       "      <td>0.0</td>\n",
       "      <td>0.020833</td>\n",
       "      <td>0.333333</td>\n",
       "      <td>0.694444</td>\n",
       "      <td>0.020833</td>\n",
       "    </tr>\n",
       "    <tr>\n",
       "      <th>4</th>\n",
       "      <td>0.0</td>\n",
       "      <td>1.111111</td>\n",
       "      <td>1.666667</td>\n",
       "      <td>1.666667</td>\n",
       "      <td>1.666667</td>\n",
       "      <td>0.0</td>\n",
       "      <td>1.000000</td>\n",
       "      <td>1.666667</td>\n",
       "      <td>1.000000</td>\n",
       "      <td>0.666667</td>\n",
       "      <td>...</td>\n",
       "      <td>0.187500</td>\n",
       "      <td>0.25</td>\n",
       "      <td>0.187500</td>\n",
       "      <td>0.040000</td>\n",
       "      <td>0.083333</td>\n",
       "      <td>0.0</td>\n",
       "      <td>0.020833</td>\n",
       "      <td>0.083333</td>\n",
       "      <td>0.250000</td>\n",
       "      <td>0.020833</td>\n",
       "    </tr>\n",
       "  </tbody>\n",
       "</table>\n",
       "<p>5 rows × 55 columns</p>\n",
       "</div>"
      ],
      "text/plain": [
       "   label     mean1     mean2     mean3     mean4  mean5     mean6     mean7  \\\n",
       "0    0.0  0.000000  0.000000  0.000000  0.000000    0.0  3.000000  0.000000   \n",
       "1    0.0  0.000000  1.000000  1.000000  1.000000    0.0  1.666667  1.000000   \n",
       "2    0.0  0.666667  1.333333  1.666667  1.333333    0.0  2.000000  1.666667   \n",
       "3    0.0  1.555556  2.333333  2.333333  2.333333    0.0  1.000000  2.333333   \n",
       "4    0.0  1.111111  1.666667  1.666667  1.666667    0.0  1.000000  1.666667   \n",
       "\n",
       "      mean8     mean9  ...  interVar27  interVar28  interVar29  interVar30  \\\n",
       "0  3.000000  1.111111  ...    1.687500        0.00    1.687500    0.111111   \n",
       "1  1.666667  1.111111  ...    0.520833        0.09    0.520833    0.111111   \n",
       "2  2.000000  0.666667  ...    0.750000        0.25    0.750000    0.040000   \n",
       "3  1.000000  0.666667  ...    0.187500        0.49    0.187500    0.040000   \n",
       "4  1.000000  0.666667  ...    0.187500        0.25    0.187500    0.040000   \n",
       "\n",
       "   interVar31  interVar32  interVar33  interVar34  interVar35  interVar36  \n",
       "0    1.687500         0.0    0.668981    1.687500    0.308642    0.668981  \n",
       "1    0.083333         0.0    0.057870    0.083333    0.003086    0.057870  \n",
       "2    0.020833         0.0    0.333333    0.020833    0.250000    0.333333  \n",
       "3    0.333333         0.0    0.020833    0.333333    0.694444    0.020833  \n",
       "4    0.083333         0.0    0.020833    0.083333    0.250000    0.020833  \n",
       "\n",
       "[5 rows x 55 columns]"
      ]
     },
     "execution_count": 5,
     "metadata": {},
     "output_type": "execute_result"
    }
   ],
   "source": [
    "##### Model 1 to detect nodes#####\n",
    "\n",
    "data1 = pd.read_csv(\"diagonalmvdat.csv\",names = columns, dtype = np.float32)#Model 1 dataset\n",
    "data1.head()"
   ]
  },
  {
   "cell_type": "code",
   "execution_count": 6,
   "metadata": {},
   "outputs": [
    {
     "data": {
      "text/plain": [
       "{0.0: 887, 1.0: 886}"
      ]
     },
     "execution_count": 6,
     "metadata": {},
     "output_type": "execute_result"
    }
   ],
   "source": [
    "unique, counts = np.unique(data1.iloc[:,0], return_counts=True)#No.of zero labels and one labels\n",
    "dict(zip(unique, counts))"
   ]
  },
  {
   "cell_type": "code",
   "execution_count": 7,
   "metadata": {},
   "outputs": [],
   "source": [
    "from sklearn.preprocessing import MinMaxScaler\n",
    "scaler1 = MinMaxScaler()\n",
    "scaler1.fit(data1.iloc[:,1:])\n",
    "data1.iloc[:,1:]=scaler1.transform(data1.iloc[:,1:])"
   ]
  },
  {
   "cell_type": "code",
   "execution_count": 8,
   "metadata": {},
   "outputs": [
    {
     "name": "stdout",
     "output_type": "stream",
     "text": [
      "0.010556827999999907\n",
      "Accuracy: 0.9971830985915493\n"
     ]
    }
   ],
   "source": [
    "### Train Model1###\n",
    "\n",
    "X = data1.drop('label', axis=1)\n",
    "y = data1['label']\n",
    "\n",
    "### RF classifier\n",
    "from sklearn import model_selection\n",
    "from sklearn.ensemble import RandomForestClassifier\n",
    "from sklearn.svm import SVC\n",
    "from sklearn.tree import DecisionTreeClassifier\n",
    "from sklearn.neighbors import KNeighborsClassifier\n",
    "from sklearn.metrics import confusion_matrix\n",
    "from sklearn import metrics\n",
    "from sklearn.model_selection import train_test_split\n",
    "import time\n",
    "\n",
    "X, X_test, y, y_test = train_test_split(X, y, \n",
    "                                        test_size = 0.2, \n",
    "                                        random_state = 42,shuffle=True)\n",
    "\n",
    "rfc = RandomForestClassifier(n_estimators=100)\n",
    "rfc.fit(X,y)\n",
    "\n",
    "tic = time.process_time()\n",
    "rfc_predict = rfc.predict(X_test)\n",
    "toc = time.process_time()\n",
    "print(toc - tic)\n",
    "\n",
    "#print(\"=== Confusion Matrix ===\")\n",
    "#print(confusion_matrix(y_test, rfc_predict))\n",
    "#print('\\n')\n",
    "print(\"Accuracy:\",metrics.accuracy_score(y_test, rfc_predict))\n",
    "\n"
   ]
  },
  {
   "cell_type": "code",
   "execution_count": 9,
   "metadata": {},
   "outputs": [
    {
     "data": {
      "text/plain": [
       "True"
      ]
     },
     "execution_count": 9,
     "metadata": {},
     "output_type": "execute_result"
    }
   ],
   "source": [
    "any(y_test==1)"
   ]
  },
  {
   "cell_type": "code",
   "execution_count": 10,
   "metadata": {},
   "outputs": [
    {
     "data": {
      "text/plain": [
       "(355, 54)"
      ]
     },
     "execution_count": 10,
     "metadata": {},
     "output_type": "execute_result"
    }
   ],
   "source": [
    "X_test.shape"
   ]
  },
  {
   "cell_type": "code",
   "execution_count": 11,
   "metadata": {},
   "outputs": [
    {
     "name": "stdout",
     "output_type": "stream",
     "text": [
      "0.031231276999999835\n",
      "=== Confusion Matrix ===\n",
      "[[176   2]\n",
      " [  1 176]]\n",
      "\n",
      "\n",
      "Accuracy: 0.9915492957746479\n"
     ]
    }
   ],
   "source": [
    "#Create KNN Classifier\n",
    "knn = KNeighborsClassifier(n_neighbors=5)\n",
    "\n",
    "#Train the model using the training sets\n",
    "knn.fit(X, y)\n",
    "tic = time.process_time()\n",
    "knn_pred = knn.predict(X_test)\n",
    "toc = time.process_time()\n",
    "print(toc - tic)\n",
    "\n",
    "#Predict the response for test dataset\n",
    "print(\"=== Confusion Matrix ===\")\n",
    "print(confusion_matrix(y_test, knn_pred))\n",
    "print('\\n')\n",
    "# Model Accuracy, how often is the classifier correct?\n",
    "print(\"Accuracy:\",metrics.accuracy_score(y_test, knn_pred))"
   ]
  },
  {
   "cell_type": "code",
   "execution_count": 12,
   "metadata": {},
   "outputs": [
    {
     "name": "stdout",
     "output_type": "stream",
     "text": [
      "0.0019890860000000288\n",
      "=== Confusion Matrix ===\n",
      "[[178   0]\n",
      " [  0 177]]\n",
      "\n",
      "\n",
      "Accuracy: 1.0\n"
     ]
    }
   ],
   "source": [
    "##Decision Tree Classifier\n",
    "dtc = DecisionTreeClassifier()\n",
    "\n",
    "# Train Decision Tree Classifer\n",
    "dtc = dtc.fit(X,y)\n",
    "\n",
    "#Predict the response for test dataset\n",
    "tic = time.process_time()\n",
    "dtc_pred = dtc.predict(X_test)\n",
    "toc = time.process_time()\n",
    "print(toc - tic)\n",
    "\n",
    "print(\"=== Confusion Matrix ===\")\n",
    "print(confusion_matrix(y_test, dtc_pred))\n",
    "print('\\n')\n",
    "\n",
    "print(\"Accuracy:\",metrics.accuracy_score(y_test, dtc_pred))"
   ]
  },
  {
   "cell_type": "code",
   "execution_count": 13,
   "metadata": {},
   "outputs": [
    {
     "name": "stdout",
     "output_type": "stream",
     "text": [
      "0.014799900999999949\n",
      "=== Confusion Matrix ===\n",
      "[[176   2]\n",
      " [ 14 163]]\n",
      "\n",
      "\n",
      "=== Confusion Matrix ===\n",
      "[[178   0]\n",
      " [  8 169]]\n",
      "\n",
      "\n",
      "Accuracy_rbf: 0.9549295774647887\n",
      "Accuracy_linear: 0.9774647887323944\n"
     ]
    }
   ],
   "source": [
    "### SVC Classifier ##\n",
    "\n",
    "classifier_linear = SVC(kernel='linear',gamma='auto', random_state = 1)\n",
    "classifier_rbf = SVC(kernel='rbf',gamma='auto', random_state = 1)\n",
    "\n",
    "classifier_rbf.fit(X,y)\n",
    "classifier_linear.fit(X,y)\n",
    "tic = time.process_time()\n",
    "Y_pred_rbf = classifier_rbf.predict(X_test)\n",
    "Y_linear = classifier_linear.predict(X_test)\n",
    "toc = time.process_time()\n",
    "print(toc - tic)\n",
    "\n",
    "print(\"=== Confusion Matrix ===\")\n",
    "print(confusion_matrix(y_test, Y_pred_rbf))\n",
    "print('\\n')\n",
    "\n",
    "print(\"=== Confusion Matrix ===\")\n",
    "print(confusion_matrix(y_test, Y_linear))\n",
    "print('\\n')\n",
    "\n",
    "print(\"Accuracy_rbf:\",metrics.accuracy_score(y_test, Y_pred_rbf))\n",
    "print(\"Accuracy_linear:\",metrics.accuracy_score(y_test, Y_linear))"
   ]
  },
  {
   "cell_type": "code",
   "execution_count": 14,
   "metadata": {},
   "outputs": [],
   "source": [
    "### test model1 on real image##\n"
   ]
  },
  {
   "cell_type": "code",
   "execution_count": 15,
   "metadata": {},
   "outputs": [],
   "source": [
    "#def flat_list(l):\n",
    "#    flat_list = []\n",
    "#    for sublist in l:\n",
    "#        for item in sublist:\n",
    "#            flat_list.append(item)\n",
    "#    return flat_list\n",
    "\n",
    "A=np.loadtxt(open(\"m_d_banknote.csv\", \"rb\"), delimiter=\",\")\n",
    "\n",
    "R=A   #unnormalized\n",
    "rows = A.shape[1]\n",
    "cols = A.shape[0]\n",
    "maxValue = np.amax(A)\n",
    "minValue = np.amin(A)\n",
    "fv=[]                 #model1 feature vector along diagonal\n",
    "for x in range(cols):\n",
    "    for y in range(rows):\n",
    "        A[x,y]=math.ceil(((A[x,y]-minValue)/(maxValue-minValue))*255) # Normalization\n",
    "    \n",
    "    \n",
    "B=np.pad(A, ((3,3),(3,3)), 'constant',constant_values=0) #Padding the normalized with 0's for model1\n",
    "for j in range(3,len(A)+3):\n",
    "    fv.append(mvfeaturegeneration(B[j-3:j+4,j-3:j+4]))"
   ]
  },
  {
   "cell_type": "code",
   "execution_count": 16,
   "metadata": {},
   "outputs": [
    {
     "data": {
      "text/plain": [
       "<matplotlib.figure.Figure at 0x7f2b2fa6cdd8>"
      ]
     },
     "metadata": {},
     "output_type": "display_data"
    },
    {
     "data": {
      "text/plain": [
       "<matplotlib.figure.Figure at 0x7f2b2b5230f0>"
      ]
     },
     "metadata": {},
     "output_type": "display_data"
    }
   ],
   "source": [
    "import matplotlib.patches as patches\n",
    "import matplotlib.pyplot as plt\n",
    "from PIL import Image\n",
    "\n",
    "xpred = scaler1.transform(fv) # feature vectors to predict\n",
    "\n",
    "classifier = {'rfc':rfc}#, 'knn':knn, 'dtc':dtc, 'classifier_linear':classifier_linear}\n",
    "\n",
    "for name,clf in classifier.items():\n",
    "    x =  clf.predict(xpred)\n",
    "    L=[]  ### diagonal points detected as 1 from model1\n",
    "    for i in range(0,len(x)):\n",
    "        if x[i]==1:\n",
    "            L.append(i)\n",
    "    L.append(A.shape[0])\n",
    "    \n",
    "    plt.figure()\n",
    "    fig,ax = plt.subplots(1)\n",
    "    \n",
    "    #B = A.astype('float32')#*255.0/65536.0\n",
    "    #B = B.astype('uint16')\n",
    "    ax.imshow(R, cmap='gray')\n",
    "    width,height = L[0],L[0]\n",
    "    for z in range(0,len(L)-1):\n",
    "        rect = patches.Rectangle((L[z],L[z]),-width,-height,linewidth=1,edgecolor='r',facecolor='none')\n",
    "        #  plt.scatter([int(L[z])],[int(L[z])], color='red', s=1)\n",
    "        width, height = L[z+1]-L[z],L[z+1]-L[z]\n",
    "        ax.add_patch(rect)\n",
    "    rect = patches.Rectangle((L[z],L[z]),width,height,linewidth=2,edgecolor='r',facecolor='none')\n",
    "    ax.add_patch(rect)\n",
    "    \n",
    "    img = 'banknote_'+name+'.eps'\n",
    "    plt.savefig(img)\n",
    "    plt.show()\n",
    "    \n",
    "dfl = pd.DataFrame(L)\n",
    "dfl.to_csv('model1_res.csv', index=False, header=False)"
   ]
  },
  {
   "cell_type": "code",
   "execution_count": 17,
   "metadata": {},
   "outputs": [
    {
     "data": {
      "text/plain": [
       "<matplotlib.image.AxesImage at 0x7f2b28d221d0>"
      ]
     },
     "execution_count": 17,
     "metadata": {},
     "output_type": "execute_result"
    },
    {
     "data": {
      "image/png": "[encoded data removed]",
      "text/plain": [
       "<matplotlib.figure.Figure at 0x7f2b474c9080>"
      ]
     },
     "metadata": {},
     "output_type": "display_data"
    }
   ],
   "source": [
    "plt.imshow(R, cmap='gray')"
   ]
  },
  {
   "cell_type": "code",
   "execution_count": 18,
   "metadata": {},
   "outputs": [],
   "source": [
    "#### Model 2 to detect Corners######"
   ]
  },
  {
   "cell_type": "code",
   "execution_count": 19,
   "metadata": {},
   "outputs": [
    {
     "data": {
      "text/plain": [
       "(1372, 1372)"
      ]
     },
     "execution_count": 19,
     "metadata": {},
     "output_type": "execute_result"
    }
   ],
   "source": [
    "R.shape"
   ]
  },
  {
   "cell_type": "code",
   "execution_count": 20,
   "metadata": {},
   "outputs": [
    {
     "data": {
      "text/html": [
       "<div>\n",
       "<style scoped>\n",
       "    .dataframe tbody tr th:only-of-type {\n",
       "        vertical-align: middle;\n",
       "    }\n",
       "\n",
       "    .dataframe tbody tr th {\n",
       "        vertical-align: top;\n",
       "    }\n",
       "\n",
       "    .dataframe thead th {\n",
       "        text-align: right;\n",
       "    }\n",
       "</style>\n",
       "<table border=\"1\" class=\"dataframe\">\n",
       "  <thead>\n",
       "    <tr style=\"text-align: right;\">\n",
       "      <th></th>\n",
       "      <th>label</th>\n",
       "      <th>mean1</th>\n",
       "      <th>mean2</th>\n",
       "      <th>mean3</th>\n",
       "      <th>mean4</th>\n",
       "      <th>mean5</th>\n",
       "      <th>mean6</th>\n",
       "      <th>mean7</th>\n",
       "      <th>mean8</th>\n",
       "      <th>mean9</th>\n",
       "      <th>...</th>\n",
       "      <th>interVar27</th>\n",
       "      <th>interVar28</th>\n",
       "      <th>interVar29</th>\n",
       "      <th>interVar30</th>\n",
       "      <th>interVar31</th>\n",
       "      <th>interVar32</th>\n",
       "      <th>interVar33</th>\n",
       "      <th>interVar34</th>\n",
       "      <th>interVar35</th>\n",
       "      <th>interVar36</th>\n",
       "    </tr>\n",
       "  </thead>\n",
       "  <tbody>\n",
       "    <tr>\n",
       "      <th>0</th>\n",
       "      <td>1.0</td>\n",
       "      <td>255.0</td>\n",
       "      <td>3.666667</td>\n",
       "      <td>3.000000</td>\n",
       "      <td>255.0</td>\n",
       "      <td>5.0</td>\n",
       "      <td>5.0</td>\n",
       "      <td>255.0</td>\n",
       "      <td>255.0</td>\n",
       "      <td>255.0</td>\n",
       "      <td>...</td>\n",
       "      <td>0.0</td>\n",
       "      <td>5625.000000</td>\n",
       "      <td>11718.7500</td>\n",
       "      <td>5625.000000</td>\n",
       "      <td>11718.7500</td>\n",
       "      <td>15625.00</td>\n",
       "      <td>11718.7500</td>\n",
       "      <td>0.00</td>\n",
       "      <td>0.0</td>\n",
       "      <td>0.0</td>\n",
       "    </tr>\n",
       "    <tr>\n",
       "      <th>1</th>\n",
       "      <td>1.0</td>\n",
       "      <td>255.0</td>\n",
       "      <td>2.000000</td>\n",
       "      <td>2.000000</td>\n",
       "      <td>255.0</td>\n",
       "      <td>3.0</td>\n",
       "      <td>3.0</td>\n",
       "      <td>255.0</td>\n",
       "      <td>89.0</td>\n",
       "      <td>89.0</td>\n",
       "      <td>...</td>\n",
       "      <td>0.0</td>\n",
       "      <td>5715.359863</td>\n",
       "      <td>1386.7500</td>\n",
       "      <td>665.640015</td>\n",
       "      <td>11907.0000</td>\n",
       "      <td>1849.00</td>\n",
       "      <td>1386.7500</td>\n",
       "      <td>5166.75</td>\n",
       "      <td>6889.0</td>\n",
       "      <td>0.0</td>\n",
       "    </tr>\n",
       "    <tr>\n",
       "      <th>2</th>\n",
       "      <td>1.0</td>\n",
       "      <td>89.0</td>\n",
       "      <td>11.333333</td>\n",
       "      <td>11.333333</td>\n",
       "      <td>89.0</td>\n",
       "      <td>16.0</td>\n",
       "      <td>16.0</td>\n",
       "      <td>255.0</td>\n",
       "      <td>255.0</td>\n",
       "      <td>255.0</td>\n",
       "      <td>...</td>\n",
       "      <td>0.0</td>\n",
       "      <td>5140.890137</td>\n",
       "      <td>10710.1875</td>\n",
       "      <td>5140.890137</td>\n",
       "      <td>10710.1875</td>\n",
       "      <td>14280.25</td>\n",
       "      <td>10710.1875</td>\n",
       "      <td>0.00</td>\n",
       "      <td>0.0</td>\n",
       "      <td>0.0</td>\n",
       "    </tr>\n",
       "    <tr>\n",
       "      <th>3</th>\n",
       "      <td>1.0</td>\n",
       "      <td>255.0</td>\n",
       "      <td>5.333333</td>\n",
       "      <td>4.000000</td>\n",
       "      <td>255.0</td>\n",
       "      <td>9.0</td>\n",
       "      <td>9.0</td>\n",
       "      <td>255.0</td>\n",
       "      <td>255.0</td>\n",
       "      <td>255.0</td>\n",
       "      <td>...</td>\n",
       "      <td>0.0</td>\n",
       "      <td>5446.439941</td>\n",
       "      <td>11346.7500</td>\n",
       "      <td>5446.439941</td>\n",
       "      <td>11346.7500</td>\n",
       "      <td>15129.00</td>\n",
       "      <td>11346.7500</td>\n",
       "      <td>0.00</td>\n",
       "      <td>0.0</td>\n",
       "      <td>0.0</td>\n",
       "    </tr>\n",
       "    <tr>\n",
       "      <th>4</th>\n",
       "      <td>1.0</td>\n",
       "      <td>255.0</td>\n",
       "      <td>1.000000</td>\n",
       "      <td>1.000000</td>\n",
       "      <td>255.0</td>\n",
       "      <td>1.0</td>\n",
       "      <td>1.0</td>\n",
       "      <td>255.0</td>\n",
       "      <td>255.0</td>\n",
       "      <td>255.0</td>\n",
       "      <td>...</td>\n",
       "      <td>0.0</td>\n",
       "      <td>5806.439941</td>\n",
       "      <td>12096.7500</td>\n",
       "      <td>5806.439941</td>\n",
       "      <td>12096.7500</td>\n",
       "      <td>16129.00</td>\n",
       "      <td>12096.7500</td>\n",
       "      <td>0.00</td>\n",
       "      <td>0.0</td>\n",
       "      <td>0.0</td>\n",
       "    </tr>\n",
       "  </tbody>\n",
       "</table>\n",
       "<p>5 rows × 55 columns</p>\n",
       "</div>"
      ],
      "text/plain": [
       "   label  mean1      mean2      mean3  mean4  mean5  mean6  mean7  mean8  \\\n",
       "0    1.0  255.0   3.666667   3.000000  255.0    5.0    5.0  255.0  255.0   \n",
       "1    1.0  255.0   2.000000   2.000000  255.0    3.0    3.0  255.0   89.0   \n",
       "2    1.0   89.0  11.333333  11.333333   89.0   16.0   16.0  255.0  255.0   \n",
       "3    1.0  255.0   5.333333   4.000000  255.0    9.0    9.0  255.0  255.0   \n",
       "4    1.0  255.0   1.000000   1.000000  255.0    1.0    1.0  255.0  255.0   \n",
       "\n",
       "   mean9  ...  interVar27   interVar28  interVar29   interVar30  interVar31  \\\n",
       "0  255.0  ...         0.0  5625.000000  11718.7500  5625.000000  11718.7500   \n",
       "1   89.0  ...         0.0  5715.359863   1386.7500   665.640015  11907.0000   \n",
       "2  255.0  ...         0.0  5140.890137  10710.1875  5140.890137  10710.1875   \n",
       "3  255.0  ...         0.0  5446.439941  11346.7500  5446.439941  11346.7500   \n",
       "4  255.0  ...         0.0  5806.439941  12096.7500  5806.439941  12096.7500   \n",
       "\n",
       "   interVar32  interVar33  interVar34  interVar35  interVar36  \n",
       "0    15625.00  11718.7500        0.00         0.0         0.0  \n",
       "1     1849.00   1386.7500     5166.75      6889.0         0.0  \n",
       "2    14280.25  10710.1875        0.00         0.0         0.0  \n",
       "3    15129.00  11346.7500        0.00         0.0         0.0  \n",
       "4    16129.00  12096.7500        0.00         0.0         0.0  \n",
       "\n",
       "[5 rows x 55 columns]"
      ]
     },
     "execution_count": 20,
     "metadata": {},
     "output_type": "execute_result"
    }
   ],
   "source": [
    "##### Training #####\n",
    "columns = ['label']\n",
    "for i in range(9):\n",
    "    name = 'mean'+str(i+1)\n",
    "    columns += [name]\n",
    "for i in range(9):\n",
    "    name = 'var'+str(i+1)\n",
    "    columns += [name]\n",
    "for i in range(36):\n",
    "    name = 'interVar'+str(i+1)\n",
    "    columns += [name]\n",
    "data = pd.read_csv(\"MVdata.csv\",names = columns, dtype = np.float32)\n",
    "data.head()\n",
    "\n"
   ]
  },
  {
   "cell_type": "code",
   "execution_count": 21,
   "metadata": {},
   "outputs": [
    {
     "data": {
      "text/plain": [
       "label           0.000000\n",
       "mean1          81.000000\n",
       "mean2          81.000000\n",
       "mean3          81.000000\n",
       "mean4          81.000000\n",
       "mean5          81.000000\n",
       "mean6          81.000000\n",
       "mean7         104.000000\n",
       "mean8         104.000000\n",
       "mean9         104.000000\n",
       "var1            0.000000\n",
       "var2            0.000000\n",
       "var3            0.000000\n",
       "var4            0.000000\n",
       "var5            0.000000\n",
       "var6            0.000000\n",
       "var7            0.000000\n",
       "var8            0.000000\n",
       "var9            0.000000\n",
       "interVar1       0.000000\n",
       "interVar2       0.000000\n",
       "interVar3       0.000000\n",
       "interVar4       0.000000\n",
       "interVar5       0.000000\n",
       "interVar6     132.250000\n",
       "interVar7      99.187500\n",
       "interVar8     132.250000\n",
       "interVar9       0.000000\n",
       "interVar10      0.000000\n",
       "interVar11      0.000000\n",
       "interVar12      0.000000\n",
       "interVar13     99.187500\n",
       "interVar14    132.250000\n",
       "interVar15     99.187500\n",
       "interVar16      0.000000\n",
       "interVar17      0.000000\n",
       "interVar18      0.000000\n",
       "interVar19    132.250000\n",
       "interVar20     99.187500\n",
       "interVar21    132.250000\n",
       "interVar22      0.000000\n",
       "interVar23      0.000000\n",
       "interVar24     99.187500\n",
       "interVar25    132.250000\n",
       "interVar26     99.187500\n",
       "interVar27      0.000000\n",
       "interVar28     47.610001\n",
       "interVar29     99.187500\n",
       "interVar30     47.610001\n",
       "interVar31     99.187500\n",
       "interVar32    132.250000\n",
       "interVar33     99.187500\n",
       "interVar34      0.000000\n",
       "interVar35      0.000000\n",
       "interVar36      0.000000\n",
       "Name: 2089, dtype: float32"
      ]
     },
     "execution_count": 21,
     "metadata": {},
     "output_type": "execute_result"
    }
   ],
   "source": [
    "data.iloc[2089,:]"
   ]
  },
  {
   "cell_type": "code",
   "execution_count": 22,
   "metadata": {},
   "outputs": [],
   "source": [
    "scaler = MinMaxScaler()\n",
    "scaler.fit(data.iloc[:,1:])\n",
    "data.iloc[:,1:]=scaler.transform(data.iloc[:,1:])"
   ]
  },
  {
   "cell_type": "code",
   "execution_count": 23,
   "metadata": {},
   "outputs": [
    {
     "data": {
      "text/html": [
       "<div>\n",
       "<style scoped>\n",
       "    .dataframe tbody tr th:only-of-type {\n",
       "        vertical-align: middle;\n",
       "    }\n",
       "\n",
       "    .dataframe tbody tr th {\n",
       "        vertical-align: top;\n",
       "    }\n",
       "\n",
       "    .dataframe thead th {\n",
       "        text-align: right;\n",
       "    }\n",
       "</style>\n",
       "<table border=\"1\" class=\"dataframe\">\n",
       "  <thead>\n",
       "    <tr style=\"text-align: right;\">\n",
       "      <th></th>\n",
       "      <th>label</th>\n",
       "      <th>mean1</th>\n",
       "      <th>mean2</th>\n",
       "      <th>mean3</th>\n",
       "      <th>mean4</th>\n",
       "      <th>mean5</th>\n",
       "      <th>mean6</th>\n",
       "      <th>mean7</th>\n",
       "      <th>mean8</th>\n",
       "      <th>mean9</th>\n",
       "      <th>...</th>\n",
       "      <th>interVar27</th>\n",
       "      <th>interVar28</th>\n",
       "      <th>interVar29</th>\n",
       "      <th>interVar30</th>\n",
       "      <th>interVar31</th>\n",
       "      <th>interVar32</th>\n",
       "      <th>interVar33</th>\n",
       "      <th>interVar34</th>\n",
       "      <th>interVar35</th>\n",
       "      <th>interVar36</th>\n",
       "    </tr>\n",
       "  </thead>\n",
       "  <tbody>\n",
       "    <tr>\n",
       "      <th>0</th>\n",
       "      <td>1.0</td>\n",
       "      <td>1.000000</td>\n",
       "      <td>0.014379</td>\n",
       "      <td>0.011765</td>\n",
       "      <td>1.000000</td>\n",
       "      <td>0.019608</td>\n",
       "      <td>0.019608</td>\n",
       "      <td>1.0</td>\n",
       "      <td>1.000000</td>\n",
       "      <td>1.000000</td>\n",
       "      <td>...</td>\n",
       "      <td>0.0</td>\n",
       "      <td>0.961169</td>\n",
       "      <td>0.961169</td>\n",
       "      <td>0.961169</td>\n",
       "      <td>0.961169</td>\n",
       "      <td>0.961169</td>\n",
       "      <td>0.961169</td>\n",
       "      <td>0.000000</td>\n",
       "      <td>0.000000</td>\n",
       "      <td>0.0</td>\n",
       "    </tr>\n",
       "    <tr>\n",
       "      <th>1</th>\n",
       "      <td>1.0</td>\n",
       "      <td>1.000000</td>\n",
       "      <td>0.007843</td>\n",
       "      <td>0.007843</td>\n",
       "      <td>1.000000</td>\n",
       "      <td>0.011765</td>\n",
       "      <td>0.011765</td>\n",
       "      <td>1.0</td>\n",
       "      <td>0.346457</td>\n",
       "      <td>0.346742</td>\n",
       "      <td>...</td>\n",
       "      <td>0.0</td>\n",
       "      <td>0.976609</td>\n",
       "      <td>0.113741</td>\n",
       "      <td>0.113741</td>\n",
       "      <td>0.976609</td>\n",
       "      <td>0.113741</td>\n",
       "      <td>0.113741</td>\n",
       "      <td>0.427119</td>\n",
       "      <td>0.426745</td>\n",
       "      <td>0.0</td>\n",
       "    </tr>\n",
       "    <tr>\n",
       "      <th>2</th>\n",
       "      <td>1.0</td>\n",
       "      <td>0.319672</td>\n",
       "      <td>0.044444</td>\n",
       "      <td>0.044444</td>\n",
       "      <td>0.319672</td>\n",
       "      <td>0.062745</td>\n",
       "      <td>0.062745</td>\n",
       "      <td>1.0</td>\n",
       "      <td>1.000000</td>\n",
       "      <td>1.000000</td>\n",
       "      <td>...</td>\n",
       "      <td>0.0</td>\n",
       "      <td>0.878447</td>\n",
       "      <td>0.878447</td>\n",
       "      <td>0.878447</td>\n",
       "      <td>0.878447</td>\n",
       "      <td>0.878447</td>\n",
       "      <td>0.878447</td>\n",
       "      <td>0.000000</td>\n",
       "      <td>0.000000</td>\n",
       "      <td>0.0</td>\n",
       "    </tr>\n",
       "    <tr>\n",
       "      <th>3</th>\n",
       "      <td>1.0</td>\n",
       "      <td>1.000000</td>\n",
       "      <td>0.020915</td>\n",
       "      <td>0.015686</td>\n",
       "      <td>1.000000</td>\n",
       "      <td>0.035294</td>\n",
       "      <td>0.035294</td>\n",
       "      <td>1.0</td>\n",
       "      <td>1.000000</td>\n",
       "      <td>1.000000</td>\n",
       "      <td>...</td>\n",
       "      <td>0.0</td>\n",
       "      <td>0.930657</td>\n",
       "      <td>0.930657</td>\n",
       "      <td>0.930657</td>\n",
       "      <td>0.930657</td>\n",
       "      <td>0.930657</td>\n",
       "      <td>0.930657</td>\n",
       "      <td>0.000000</td>\n",
       "      <td>0.000000</td>\n",
       "      <td>0.0</td>\n",
       "    </tr>\n",
       "    <tr>\n",
       "      <th>4</th>\n",
       "      <td>1.0</td>\n",
       "      <td>1.000000</td>\n",
       "      <td>0.003922</td>\n",
       "      <td>0.003922</td>\n",
       "      <td>1.000000</td>\n",
       "      <td>0.003922</td>\n",
       "      <td>0.003922</td>\n",
       "      <td>1.0</td>\n",
       "      <td>1.000000</td>\n",
       "      <td>1.000000</td>\n",
       "      <td>...</td>\n",
       "      <td>0.0</td>\n",
       "      <td>0.992172</td>\n",
       "      <td>0.992172</td>\n",
       "      <td>0.992172</td>\n",
       "      <td>0.992172</td>\n",
       "      <td>0.992172</td>\n",
       "      <td>0.992172</td>\n",
       "      <td>0.000000</td>\n",
       "      <td>0.000000</td>\n",
       "      <td>0.0</td>\n",
       "    </tr>\n",
       "  </tbody>\n",
       "</table>\n",
       "<p>5 rows × 55 columns</p>\n",
       "</div>"
      ],
      "text/plain": [
       "   label     mean1     mean2     mean3     mean4     mean5     mean6  mean7  \\\n",
       "0    1.0  1.000000  0.014379  0.011765  1.000000  0.019608  0.019608    1.0   \n",
       "1    1.0  1.000000  0.007843  0.007843  1.000000  0.011765  0.011765    1.0   \n",
       "2    1.0  0.319672  0.044444  0.044444  0.319672  0.062745  0.062745    1.0   \n",
       "3    1.0  1.000000  0.020915  0.015686  1.000000  0.035294  0.035294    1.0   \n",
       "4    1.0  1.000000  0.003922  0.003922  1.000000  0.003922  0.003922    1.0   \n",
       "\n",
       "      mean8     mean9  ...  interVar27  interVar28  interVar29  interVar30  \\\n",
       "0  1.000000  1.000000  ...         0.0    0.961169    0.961169    0.961169   \n",
       "1  0.346457  0.346742  ...         0.0    0.976609    0.113741    0.113741   \n",
       "2  1.000000  1.000000  ...         0.0    0.878447    0.878447    0.878447   \n",
       "3  1.000000  1.000000  ...         0.0    0.930657    0.930657    0.930657   \n",
       "4  1.000000  1.000000  ...         0.0    0.992172    0.992172    0.992172   \n",
       "\n",
       "   interVar31  interVar32  interVar33  interVar34  interVar35  interVar36  \n",
       "0    0.961169    0.961169    0.961169    0.000000    0.000000         0.0  \n",
       "1    0.976609    0.113741    0.113741    0.427119    0.426745         0.0  \n",
       "2    0.878447    0.878447    0.878447    0.000000    0.000000         0.0  \n",
       "3    0.930657    0.930657    0.930657    0.000000    0.000000         0.0  \n",
       "4    0.992172    0.992172    0.992172    0.000000    0.000000         0.0  \n",
       "\n",
       "[5 rows x 55 columns]"
      ]
     },
     "execution_count": 23,
     "metadata": {},
     "output_type": "execute_result"
    }
   ],
   "source": [
    "data.head()"
   ]
  },
  {
   "cell_type": "code",
   "execution_count": 24,
   "metadata": {},
   "outputs": [],
   "source": [
    "#np.where(np.isnan(data)==1)"
   ]
  },
  {
   "cell_type": "code",
   "execution_count": 25,
   "metadata": {},
   "outputs": [
    {
     "data": {
      "text/plain": [
       "{0.0: 1090, 1.0: 1455}"
      ]
     },
     "execution_count": 25,
     "metadata": {},
     "output_type": "execute_result"
    }
   ],
   "source": [
    "unique, counts = np.unique(data.iloc[:,0], return_counts=True)\n",
    "dict(zip(unique, counts))"
   ]
  },
  {
   "cell_type": "code",
   "execution_count": 26,
   "metadata": {},
   "outputs": [
    {
     "name": "stdout",
     "output_type": "stream",
     "text": [
      "0.012203546000000287\n",
      "Accuracy: 0.9980353634577603\n"
     ]
    }
   ],
   "source": [
    "X = data.drop('label', axis=1)\n",
    "y = data['label']\n",
    "X, X_test, y, y_test = train_test_split(X, y, test_size = 0.2, random_state = 42,shuffle=True)\n",
    "\n",
    "rfc2 = RandomForestClassifier(n_estimators=100)\n",
    "rfc2.fit(X,y)\n",
    "\n",
    "tic = time.process_time()\n",
    "rfc_predict = rfc2.predict(X_test)\n",
    "toc = time.process_time()\n",
    "print(toc - tic)\n",
    "\n",
    "#print(\"=== Confusion Matrix ===\")\n",
    "#print(confusion_matrix(y_test, rfc_predict))\n",
    "#print('\\n')\n",
    "print(\"Accuracy:\",metrics.accuracy_score(y_test, rfc_predict))"
   ]
  },
  {
   "cell_type": "code",
   "execution_count": 27,
   "metadata": {},
   "outputs": [],
   "source": [
    "#any(X.isnull()==1)"
   ]
  },
  {
   "cell_type": "code",
   "execution_count": 28,
   "metadata": {},
   "outputs": [],
   "source": [
    "#from sklearn.svm import SVC\n",
    "#from sklearn.metrics import confusion_matrix\n",
    "#from sklearn import metrics\n",
    "#classifier_linear = SVC(kernel='linear',gamma='auto', random_state = 1)\n",
    "#classifier_rbf = SVC(kernel='rbf',gamma='auto', random_state = 1)\n",
    "#X = data.drop('label', axis=1)\n",
    "#y = data['label']\n",
    "#X, X_test, y, y_test = train_test_split(X, y, test_size = 0.2, random_state = 42,shuffle=True)\n",
    "\n",
    "#classifier_rbf.fit(X,y)\n",
    "#classifier_linear.fit(X,y)\n",
    "#tic = time.process_time()\n",
    "#Y_pred_rbf = classifier_rbf.predict(X_test)\n",
    "#Y_linear = classifier_linear.predict(X_test)\n",
    "#toc = time.process_time()\n",
    "#print(toc - tic)\n",
    "\n",
    "#print(\"Accuracy_rbf:\",metrics.accuracy_score(y_test, Y_pred_rbf))\n",
    "#print(\"Accuracy_linear:\",metrics.accuracy_score(y_test, Y_linear))"
   ]
  },
  {
   "cell_type": "code",
   "execution_count": 29,
   "metadata": {},
   "outputs": [],
   "source": [
    "#from sklearn.neighbors import KNeighborsClassifier\n",
    "#from sklearn.metrics import confusion_matrix\n",
    "#from sklearn import metrics\n",
    "#Create KNN Classifier\n",
    "#knn = KNeighborsClassifier(n_neighbors=5)\n",
    "#X = data.drop('label', axis=1)\n",
    "#y = data['label']\n",
    "#X, X_test, y, y_test = train_test_split(X, y, test_size = 0.2, random_state = 42,shuffle=True)\n",
    "\n",
    "\n",
    "#Train the model using the training sets\n",
    "#knn.fit(X, y)\n",
    "#tic = time.process_time()\n",
    "#Predict the response for test dataset\n",
    "#knn_pred = knn.predict(X_test)\n",
    "#toc = time.process_time()\n",
    "#print(toc - tic)\n",
    "# Model Accuracy, how often is the classifier correct?\n",
    "#print(\"Accuracy:\",metrics.accuracy_score(y_test, knn_pred))"
   ]
  },
  {
   "cell_type": "code",
   "execution_count": 30,
   "metadata": {},
   "outputs": [],
   "source": [
    "### Testing Model 2###\n",
    "\n",
    "Ax=np.loadtxt(open(\"m_d_banknote.csv\" , \"rb\"), delimiter=\",\")\n",
    "rows = Ax.shape[1]\n",
    "cols = Ax.shape[0]\n",
    "maxValue = np.amax(Ax)\n",
    "minValue = np.amin(Ax)\n",
    "for x in range(cols):\n",
    "    for y in range(rows):\n",
    "        Ax[x,y]=math.ceil(((Ax[x,y]-minValue)/(maxValue-minValue))*255)  ###normalization\n",
    "        \n",
    "Bx=np.pad(Ax, ((3,3),(3,3)), 'constant',constant_values=255)     ### padding with 255 for model2\n",
    "#Cx=np.loadtxt(open(\"label.csv\" , \"rb\"), delimiter=\"/n\")\n",
    "\n",
    "\n"
   ]
  },
  {
   "cell_type": "code",
   "execution_count": 31,
   "metadata": {},
   "outputs": [],
   "source": [
    "L = np.array(L)\n",
    "L = L+3 # add padding shift to L's elements"
   ]
  },
  {
   "cell_type": "code",
   "execution_count": 32,
   "metadata": {},
   "outputs": [
    {
     "data": {
      "text/plain": [
       "(201,)"
      ]
     },
     "execution_count": 32,
     "metadata": {},
     "output_type": "execute_result"
    }
   ],
   "source": [
    "L.shape"
   ]
  },
  {
   "cell_type": "code",
   "execution_count": 33,
   "metadata": {},
   "outputs": [
    {
     "name": "stdout",
     "output_type": "stream",
     "text": [
      "completed feature generation: 0.50%\n",
      "completed feature generation: 1.00%\n",
      "completed feature generation: 1.49%\n",
      "completed feature generation: 1.99%\n",
      "completed feature generation: 2.49%\n",
      "completed feature generation: 2.99%\n",
      "completed feature generation: 3.48%\n",
      "completed feature generation: 3.98%\n",
      "completed feature generation: 4.48%\n",
      "completed feature generation: 4.98%\n",
      "completed feature generation: 5.47%\n",
      "completed feature generation: 5.97%\n",
      "completed feature generation: 6.47%\n",
      "completed feature generation: 6.97%\n",
      "completed feature generation: 7.46%\n",
      "completed feature generation: 7.96%\n",
      "completed feature generation: 8.46%\n",
      "completed feature generation: 8.96%\n",
      "completed feature generation: 9.45%\n",
      "completed feature generation: 9.95%\n",
      "completed feature generation: 10.45%\n",
      "completed feature generation: 10.95%\n",
      "completed feature generation: 11.44%\n",
      "completed feature generation: 11.94%\n",
      "completed feature generation: 12.44%\n",
      "completed feature generation: 12.94%\n",
      "completed feature generation: 13.43%\n",
      "completed feature generation: 13.93%\n",
      "completed feature generation: 14.43%\n",
      "completed feature generation: 14.93%\n",
      "completed feature generation: 15.42%\n",
      "completed feature generation: 15.92%\n",
      "completed feature generation: 16.42%\n",
      "completed feature generation: 16.92%\n",
      "completed feature generation: 17.41%\n",
      "completed feature generation: 17.91%\n",
      "completed feature generation: 18.41%\n",
      "completed feature generation: 18.91%\n",
      "completed feature generation: 19.40%\n",
      "completed feature generation: 19.90%\n",
      "completed feature generation: 20.40%\n",
      "completed feature generation: 20.90%\n",
      "completed feature generation: 21.39%\n",
      "completed feature generation: 21.89%\n",
      "completed feature generation: 22.39%\n",
      "completed feature generation: 22.89%\n",
      "completed feature generation: 23.38%\n",
      "completed feature generation: 23.88%\n",
      "completed feature generation: 24.38%\n",
      "completed feature generation: 24.88%\n",
      "completed feature generation: 25.37%\n",
      "completed feature generation: 25.87%\n",
      "completed feature generation: 26.37%\n",
      "completed feature generation: 26.87%\n",
      "completed feature generation: 27.36%\n",
      "completed feature generation: 27.86%\n",
      "completed feature generation: 28.36%\n",
      "completed feature generation: 28.86%\n",
      "completed feature generation: 29.35%\n",
      "completed feature generation: 29.85%\n",
      "completed feature generation: 30.35%\n",
      "completed feature generation: 30.85%\n",
      "completed feature generation: 31.34%\n",
      "completed feature generation: 31.84%\n",
      "completed feature generation: 32.34%\n",
      "completed feature generation: 32.84%\n",
      "completed feature generation: 33.33%\n",
      "completed feature generation: 33.83%\n",
      "completed feature generation: 34.33%\n",
      "completed feature generation: 34.83%\n",
      "completed feature generation: 35.32%\n",
      "completed feature generation: 35.82%\n",
      "completed feature generation: 36.32%\n",
      "completed feature generation: 36.82%\n",
      "completed feature generation: 37.31%\n",
      "completed feature generation: 37.81%\n",
      "completed feature generation: 38.31%\n",
      "completed feature generation: 38.81%\n",
      "completed feature generation: 39.30%\n",
      "completed feature generation: 39.80%\n",
      "completed feature generation: 40.30%\n",
      "completed feature generation: 40.80%\n",
      "completed feature generation: 41.29%\n",
      "completed feature generation: 41.79%\n",
      "completed feature generation: 42.29%\n",
      "completed feature generation: 42.79%\n",
      "completed feature generation: 43.28%\n",
      "completed feature generation: 43.78%\n",
      "completed feature generation: 44.28%\n",
      "completed feature generation: 44.78%\n",
      "completed feature generation: 45.27%\n",
      "completed feature generation: 45.77%\n",
      "completed feature generation: 46.27%\n",
      "completed feature generation: 46.77%\n",
      "completed feature generation: 47.26%\n",
      "completed feature generation: 47.76%\n",
      "completed feature generation: 48.26%\n",
      "completed feature generation: 48.76%\n",
      "completed feature generation: 49.25%\n",
      "completed feature generation: 49.75%\n",
      "completed feature generation: 50.25%\n",
      "completed feature generation: 50.75%\n",
      "completed feature generation: 51.24%\n",
      "completed feature generation: 51.74%\n",
      "completed feature generation: 52.24%\n",
      "completed feature generation: 52.74%\n",
      "completed feature generation: 53.23%\n",
      "completed feature generation: 53.73%\n",
      "completed feature generation: 54.23%\n",
      "completed feature generation: 54.73%\n",
      "completed feature generation: 55.22%\n",
      "completed feature generation: 55.72%\n",
      "completed feature generation: 56.22%\n",
      "completed feature generation: 56.72%\n",
      "completed feature generation: 57.21%\n",
      "completed feature generation: 57.71%\n",
      "completed feature generation: 58.21%\n",
      "completed feature generation: 58.71%\n",
      "completed feature generation: 59.20%\n",
      "completed feature generation: 59.70%\n",
      "completed feature generation: 60.20%\n",
      "completed feature generation: 60.70%\n",
      "completed feature generation: 61.19%\n",
      "completed feature generation: 61.69%\n",
      "completed feature generation: 62.19%\n",
      "completed feature generation: 62.69%\n",
      "completed feature generation: 63.18%\n",
      "completed feature generation: 63.68%\n",
      "completed feature generation: 64.18%\n",
      "completed feature generation: 64.68%\n",
      "completed feature generation: 65.17%\n",
      "completed feature generation: 65.67%\n",
      "completed feature generation: 66.17%\n",
      "completed feature generation: 66.67%\n",
      "completed feature generation: 67.16%\n",
      "completed feature generation: 67.66%\n",
      "completed feature generation: 68.16%\n",
      "completed feature generation: 68.66%\n",
      "completed feature generation: 69.15%\n",
      "completed feature generation: 69.65%\n",
      "completed feature generation: 70.15%\n",
      "completed feature generation: 70.65%\n",
      "completed feature generation: 71.14%\n",
      "completed feature generation: 71.64%\n",
      "completed feature generation: 72.14%\n",
      "completed feature generation: 72.64%\n",
      "completed feature generation: 73.13%\n",
      "completed feature generation: 73.63%\n",
      "completed feature generation: 74.13%\n",
      "completed feature generation: 74.63%\n",
      "completed feature generation: 75.12%\n",
      "completed feature generation: 75.62%\n",
      "completed feature generation: 76.12%\n",
      "completed feature generation: 76.62%\n",
      "completed feature generation: 77.11%\n",
      "completed feature generation: 77.61%\n",
      "completed feature generation: 78.11%\n",
      "completed feature generation: 78.61%\n",
      "completed feature generation: 79.10%\n",
      "completed feature generation: 79.60%\n",
      "completed feature generation: 80.10%\n",
      "completed feature generation: 80.60%\n",
      "completed feature generation: 81.09%\n",
      "completed feature generation: 81.59%\n",
      "completed feature generation: 82.09%\n",
      "completed feature generation: 82.59%\n",
      "completed feature generation: 83.08%\n",
      "completed feature generation: 83.58%\n",
      "completed feature generation: 84.08%\n",
      "completed feature generation: 84.58%\n",
      "completed feature generation: 85.07%\n",
      "completed feature generation: 85.57%\n",
      "completed feature generation: 86.07%\n",
      "completed feature generation: 86.57%\n",
      "completed feature generation: 87.06%\n",
      "completed feature generation: 87.56%\n",
      "completed feature generation: 88.06%\n",
      "completed feature generation: 88.56%\n",
      "completed feature generation: 89.05%\n",
      "completed feature generation: 89.55%\n",
      "completed feature generation: 90.05%\n",
      "completed feature generation: 90.55%\n",
      "completed feature generation: 91.04%\n",
      "completed feature generation: 91.54%\n",
      "completed feature generation: 92.04%\n",
      "completed feature generation: 92.54%\n",
      "completed feature generation: 93.03%\n",
      "completed feature generation: 93.53%\n",
      "completed feature generation: 94.03%\n",
      "completed feature generation: 94.53%\n",
      "completed feature generation: 95.02%\n",
      "completed feature generation: 95.52%\n",
      "completed feature generation: 96.02%\n",
      "completed feature generation: 96.52%\n",
      "completed feature generation: 97.01%\n",
      "completed feature generation: 97.51%\n",
      "completed feature generation: 98.01%\n",
      "completed feature generation: 98.51%\n",
      "completed feature generation: 99.00%\n",
      "completed feature generation: 99.50%\n",
      "completed feature generation: 100.00%\n"
     ]
    }
   ],
   "source": [
    "M = [] # collects features for test image along vertical lines\n",
    "\n",
    "#for 1st column #\n",
    "i = 3\n",
    "for r in range(6, len(Bx)-3):\n",
    "    M.append(mvfeaturegeneration(Bx[int(r-3):int(r+4),int(i-3):int(i+4)])+[r,i])\n",
    "\n",
    "##for remaining columns in L\n",
    "for i in range(len(L)):\n",
    "    c = L[i] + 1  ## shift 1 column right\n",
    "    for r in range(L[i]+3, len(Bx)-3):\n",
    "        M.append(mvfeaturegeneration(Bx[int(r-3):int(r+4),int(c-3):int(c+4)])+[r,c])\n",
    "    print(\"completed feature generation: {:.2f}%\".format((i+1)*100/len(L)))\n",
    "\n",
    "M = np.array(M)"
   ]
  },
  {
   "cell_type": "code",
   "execution_count": 34,
   "metadata": {},
   "outputs": [],
   "source": [
    "M[:,:-2]=scaler.transform(M[:,:-2])"
   ]
  },
  {
   "cell_type": "code",
   "execution_count": 35,
   "metadata": {},
   "outputs": [],
   "source": [
    "preds = rfc2.predict(M[:,:-2])\n",
    "D = M[preds == 1,-2:]"
   ]
  },
  {
   "cell_type": "code",
   "execution_count": 36,
   "metadata": {},
   "outputs": [],
   "source": [
    "dfd = pd.DataFrame(D, columns=['row', 'col'])"
   ]
  },
  {
   "cell_type": "code",
   "execution_count": 37,
   "metadata": {},
   "outputs": [
    {
     "data": {
      "text/plain": [
       "(2166, 2)"
      ]
     },
     "execution_count": 37,
     "metadata": {},
     "output_type": "execute_result"
    }
   ],
   "source": [
    "dfd.shape"
   ]
  },
  {
   "cell_type": "code",
   "execution_count": 38,
   "metadata": {},
   "outputs": [
    {
     "data": {
      "text/html": [
       "<div>\n",
       "<style scoped>\n",
       "    .dataframe tbody tr th:only-of-type {\n",
       "        vertical-align: middle;\n",
       "    }\n",
       "\n",
       "    .dataframe tbody tr th {\n",
       "        vertical-align: top;\n",
       "    }\n",
       "\n",
       "    .dataframe thead th {\n",
       "        text-align: right;\n",
       "    }\n",
       "</style>\n",
       "<table border=\"1\" class=\"dataframe\">\n",
       "  <thead>\n",
       "    <tr style=\"text-align: right;\">\n",
       "      <th></th>\n",
       "      <th>row</th>\n",
       "      <th>col</th>\n",
       "    </tr>\n",
       "  </thead>\n",
       "  <tbody>\n",
       "    <tr>\n",
       "      <th>0</th>\n",
       "      <td>-10.0</td>\n",
       "      <td>0.0</td>\n",
       "    </tr>\n",
       "    <tr>\n",
       "      <th>1</th>\n",
       "      <td>-10.0</td>\n",
       "      <td>0.0</td>\n",
       "    </tr>\n",
       "    <tr>\n",
       "      <th>2</th>\n",
       "      <td>-4.0</td>\n",
       "      <td>0.0</td>\n",
       "    </tr>\n",
       "    <tr>\n",
       "      <th>3</th>\n",
       "      <td>-1.0</td>\n",
       "      <td>0.0</td>\n",
       "    </tr>\n",
       "    <tr>\n",
       "      <th>4</th>\n",
       "      <td>-1.0</td>\n",
       "      <td>0.0</td>\n",
       "    </tr>\n",
       "  </tbody>\n",
       "</table>\n",
       "</div>"
      ],
      "text/plain": [
       "    row  col\n",
       "0 -10.0  0.0\n",
       "1 -10.0  0.0\n",
       "2  -4.0  0.0\n",
       "3  -1.0  0.0\n",
       "4  -1.0  0.0"
      ]
     },
     "execution_count": 38,
     "metadata": {},
     "output_type": "execute_result"
    }
   ],
   "source": [
    "dfdd = dfd.diff(periods=-1)\n",
    "dfdd.head()"
   ]
  },
  {
   "cell_type": "code",
   "execution_count": 40,
   "metadata": {},
   "outputs": [],
   "source": [
    "dfdd1 = dfdd.loc[(dfdd['col'] == 0) & (abs(dfdd['row']) >= 25)]   # threshold intensity difference with next pixel greater then 25\n",
    "dfdd2 = dfdd.loc[(dfdd['col'] != 0)]\n",
    "a = (dfdd1.index).tolist() + (dfdd2.index).tolist()\n",
    "df = np.array(dfd.loc[a])"
   ]
  },
  {
   "cell_type": "code",
   "execution_count": 41,
   "metadata": {},
   "outputs": [],
   "source": [
    "x1 = df[:,0] - 3 #remove padding shift\n",
    "y1 = df[:,1] - 3"
   ]
  },
  {
   "cell_type": "code",
   "execution_count": 42,
   "metadata": {},
   "outputs": [
    {
     "data": {
      "text/plain": [
       "193"
      ]
     },
     "execution_count": 42,
     "metadata": {},
     "output_type": "execute_result"
    }
   ],
   "source": [
    "len(a)"
   ]
  },
  {
   "cell_type": "code",
   "execution_count": 43,
   "metadata": {},
   "outputs": [
    {
     "data": {
      "image/png": "[encoded data removed]",
      "text/plain": [
       "<matplotlib.figure.Figure at 0x7f2b28cc3d30>"
      ]
     },
     "metadata": {},
     "output_type": "display_data"
    }
   ],
   "source": [
    "plt.figure(figsize = (10,5))\n",
    "plt.imshow(A, cmap='gray')\n",
    "plt.scatter(y1,x1,color='blue', s=2)\n",
    "plt.savefig('model2banknote.eps') "
   ]
  },
  {
   "cell_type": "markdown",
   "metadata": {},
   "source": [
    "### ivat1.csv"
   ]
  },
  {
   "cell_type": "code",
   "execution_count": 44,
   "metadata": {},
   "outputs": [],
   "source": [
    "# model1 #"
   ]
  },
  {
   "cell_type": "code",
   "execution_count": 46,
   "metadata": {},
   "outputs": [],
   "source": [
    "A=np.loadtxt(open(\"iVAT1.csv\", \"rb\"), delimiter=\",\")\n",
    "\n",
    "R=A   #unnormalized\n",
    "rows = A.shape[1]\n",
    "cols = A.shape[0]\n",
    "maxValue = np.amax(A)\n",
    "minValue = np.amin(A)\n",
    "fv=[]\n",
    "for x in range(cols):\n",
    "    for y in range(rows):\n",
    "        A[x,y]=math.ceil(((A[x,y]-minValue)/(maxValue-minValue))*255) # Normalization\n",
    "    \n",
    "    \n",
    "B=np.pad(A, ((3,3),(3,3)), 'constant',constant_values=0) #Padding the normalized with 0's for model1\n",
    "for j in range(3,len(A)+3):\n",
    "    fv.append(mvfeaturegeneration(B[j-3:j+4,j-3:j+4]))"
   ]
  },
  {
   "cell_type": "code",
   "execution_count": 47,
   "metadata": {},
   "outputs": [
    {
     "data": {
      "text/plain": [
       "<matplotlib.figure.Figure at 0x7f2b27adada0>"
      ]
     },
     "metadata": {},
     "output_type": "display_data"
    },
    {
     "data": {
      "image/png": "[encoded data removed]",
      "text/plain": [
       "<matplotlib.figure.Figure at 0x7f2b27adaac8>"
      ]
     },
     "metadata": {},
     "output_type": "display_data"
    }
   ],
   "source": [
    "import matplotlib.patches as patches\n",
    "import matplotlib.pyplot as plt\n",
    "from PIL import Image\n",
    "\n",
    "xpred = scaler1.transform(fv)\n",
    "\n",
    "classifier = {'rfc':rfc}#, 'knn':knn, 'dtc':dtc, 'classifier_linear':classifier_linear}\n",
    "\n",
    "for name,clf in classifier.items():\n",
    "    x =  clf.predict(xpred)\n",
    "    L=[]  ### diagonal points detected as 1 from model1\n",
    "    for i in range(0,len(x)):\n",
    "        if x[i]==1:\n",
    "            L.append(i)\n",
    "    L.append(A.shape[0])\n",
    "    \n",
    "    plt.figure()\n",
    "    fig,ax = plt.subplots(1)\n",
    "    \n",
    "    #B = A.astype('float32')#*255.0/65536.0\n",
    "    #B = B.astype('uint16')\n",
    "    ax.imshow(R, cmap='gray')\n",
    "    width,height = L[0],L[0]\n",
    "    for z in range(0,len(L)-1):\n",
    "        rect = patches.Rectangle((L[z],L[z]),-width,-height,linewidth=1,edgecolor='r',facecolor='none')\n",
    "        #  plt.scatter([int(L[z])],[int(L[z])], color='red', s=1)\n",
    "        width, height = L[z+1]-L[z],L[z+1]-L[z]\n",
    "        ax.add_patch(rect)\n",
    "    rect = patches.Rectangle((L[z],L[z]),width,height,linewidth=2,edgecolor='r',facecolor='none')\n",
    "    ax.add_patch(rect)\n",
    "    \n",
    "    img = 'iVat_'+name+'.eps'\n",
    "    plt.savefig(img)\n",
    "    plt.show()"
   ]
  },
  {
   "cell_type": "code",
   "execution_count": null,
   "metadata": {},
   "outputs": [],
   "source": []
  }
 ],
 "metadata": {
  "kernelspec": {
   "display_name": "Python 3",
   "language": "python",
   "name": "python3"
  },
  "language_info": {
   "codemirror_mode": {
    "name": "ipython",
    "version": 3
   },
   "file_extension": ".py",
   "mimetype": "text/x-python",
   "name": "python",
   "nbconvert_exporter": "python",
   "pygments_lexer": "ipython3",
   "version": "3.5.2"
  },
  "widgets": {
   "state": {},
   "version": "1.1.2"
  }
 },
 "nbformat": 4,
 "nbformat_minor": 4
}
