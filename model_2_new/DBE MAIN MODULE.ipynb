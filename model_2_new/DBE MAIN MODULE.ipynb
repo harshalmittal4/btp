{
 "cells": [
  {
   "cell_type": "code",
   "execution_count": 1,
   "metadata": {},
   "outputs": [],
   "source": [
    "##### Model 1 to detect nodes#####\n",
    "import math\n",
    "import pandas as pd\n",
    "import numpy as np\n",
    "import csv\n",
    "import math\n",
    "from platform import python_version"
   ]
  },
  {
   "cell_type": "code",
   "execution_count": 2,
   "metadata": {
    "scrolled": true
   },
   "outputs": [
    {
     "data": {
      "text/html": [
       "<div>\n",
       "<style scoped>\n",
       "    .dataframe tbody tr th:only-of-type {\n",
       "        vertical-align: middle;\n",
       "    }\n",
       "\n",
       "    .dataframe tbody tr th {\n",
       "        vertical-align: top;\n",
       "    }\n",
       "\n",
       "    .dataframe thead th {\n",
       "        text-align: right;\n",
       "    }\n",
       "</style>\n",
       "<table border=\"1\" class=\"dataframe\">\n",
       "  <thead>\n",
       "    <tr style=\"text-align: right;\">\n",
       "      <th></th>\n",
       "      <th>label</th>\n",
       "      <th>pixel1</th>\n",
       "      <th>pixel2</th>\n",
       "      <th>pixel3</th>\n",
       "      <th>pixel4</th>\n",
       "      <th>pixel5</th>\n",
       "      <th>pixel6</th>\n",
       "      <th>pixel7</th>\n",
       "      <th>pixel8</th>\n",
       "      <th>pixel9</th>\n",
       "      <th>...</th>\n",
       "      <th>pixel40</th>\n",
       "      <th>pixel41</th>\n",
       "      <th>pixel42</th>\n",
       "      <th>pixel43</th>\n",
       "      <th>pixel44</th>\n",
       "      <th>pixel45</th>\n",
       "      <th>pixel46</th>\n",
       "      <th>pixel47</th>\n",
       "      <th>pixel48</th>\n",
       "      <th>pixel49</th>\n",
       "    </tr>\n",
       "  </thead>\n",
       "  <tbody>\n",
       "    <tr>\n",
       "      <th>0</th>\n",
       "      <td>0.0</td>\n",
       "      <td>0.0</td>\n",
       "      <td>0.0</td>\n",
       "      <td>0.0</td>\n",
       "      <td>0.0</td>\n",
       "      <td>0.0</td>\n",
       "      <td>0.0</td>\n",
       "      <td>0.0</td>\n",
       "      <td>0.0</td>\n",
       "      <td>0.0</td>\n",
       "      <td>...</td>\n",
       "      <td>1.0</td>\n",
       "      <td>0.0</td>\n",
       "      <td>2.0</td>\n",
       "      <td>0.0</td>\n",
       "      <td>0.0</td>\n",
       "      <td>0.0</td>\n",
       "      <td>3.0</td>\n",
       "      <td>2.0</td>\n",
       "      <td>2.0</td>\n",
       "      <td>0.0</td>\n",
       "    </tr>\n",
       "    <tr>\n",
       "      <th>1</th>\n",
       "      <td>0.0</td>\n",
       "      <td>0.0</td>\n",
       "      <td>0.0</td>\n",
       "      <td>0.0</td>\n",
       "      <td>0.0</td>\n",
       "      <td>0.0</td>\n",
       "      <td>0.0</td>\n",
       "      <td>0.0</td>\n",
       "      <td>0.0</td>\n",
       "      <td>0.0</td>\n",
       "      <td>...</td>\n",
       "      <td>2.0</td>\n",
       "      <td>0.0</td>\n",
       "      <td>1.0</td>\n",
       "      <td>0.0</td>\n",
       "      <td>0.0</td>\n",
       "      <td>3.0</td>\n",
       "      <td>2.0</td>\n",
       "      <td>2.0</td>\n",
       "      <td>1.0</td>\n",
       "      <td>0.0</td>\n",
       "    </tr>\n",
       "    <tr>\n",
       "      <th>2</th>\n",
       "      <td>0.0</td>\n",
       "      <td>0.0</td>\n",
       "      <td>0.0</td>\n",
       "      <td>0.0</td>\n",
       "      <td>0.0</td>\n",
       "      <td>0.0</td>\n",
       "      <td>0.0</td>\n",
       "      <td>0.0</td>\n",
       "      <td>0.0</td>\n",
       "      <td>0.0</td>\n",
       "      <td>...</td>\n",
       "      <td>1.0</td>\n",
       "      <td>0.0</td>\n",
       "      <td>1.0</td>\n",
       "      <td>0.0</td>\n",
       "      <td>3.0</td>\n",
       "      <td>2.0</td>\n",
       "      <td>2.0</td>\n",
       "      <td>1.0</td>\n",
       "      <td>1.0</td>\n",
       "      <td>0.0</td>\n",
       "    </tr>\n",
       "    <tr>\n",
       "      <th>3</th>\n",
       "      <td>0.0</td>\n",
       "      <td>0.0</td>\n",
       "      <td>3.0</td>\n",
       "      <td>3.0</td>\n",
       "      <td>3.0</td>\n",
       "      <td>3.0</td>\n",
       "      <td>3.0</td>\n",
       "      <td>3.0</td>\n",
       "      <td>3.0</td>\n",
       "      <td>0.0</td>\n",
       "      <td>...</td>\n",
       "      <td>1.0</td>\n",
       "      <td>0.0</td>\n",
       "      <td>1.0</td>\n",
       "      <td>3.0</td>\n",
       "      <td>2.0</td>\n",
       "      <td>2.0</td>\n",
       "      <td>1.0</td>\n",
       "      <td>1.0</td>\n",
       "      <td>1.0</td>\n",
       "      <td>0.0</td>\n",
       "    </tr>\n",
       "    <tr>\n",
       "      <th>4</th>\n",
       "      <td>0.0</td>\n",
       "      <td>0.0</td>\n",
       "      <td>1.0</td>\n",
       "      <td>2.0</td>\n",
       "      <td>2.0</td>\n",
       "      <td>2.0</td>\n",
       "      <td>2.0</td>\n",
       "      <td>2.0</td>\n",
       "      <td>1.0</td>\n",
       "      <td>0.0</td>\n",
       "      <td>...</td>\n",
       "      <td>1.0</td>\n",
       "      <td>0.0</td>\n",
       "      <td>1.0</td>\n",
       "      <td>2.0</td>\n",
       "      <td>2.0</td>\n",
       "      <td>1.0</td>\n",
       "      <td>1.0</td>\n",
       "      <td>1.0</td>\n",
       "      <td>1.0</td>\n",
       "      <td>0.0</td>\n",
       "    </tr>\n",
       "  </tbody>\n",
       "</table>\n",
       "<p>5 rows × 50 columns</p>\n",
       "</div>"
      ],
      "text/plain": [
       "   label  pixel1  pixel2  pixel3  pixel4  pixel5  pixel6  pixel7  pixel8  \\\n",
       "0    0.0     0.0     0.0     0.0     0.0     0.0     0.0     0.0     0.0   \n",
       "1    0.0     0.0     0.0     0.0     0.0     0.0     0.0     0.0     0.0   \n",
       "2    0.0     0.0     0.0     0.0     0.0     0.0     0.0     0.0     0.0   \n",
       "3    0.0     0.0     3.0     3.0     3.0     3.0     3.0     3.0     3.0   \n",
       "4    0.0     0.0     1.0     2.0     2.0     2.0     2.0     2.0     1.0   \n",
       "\n",
       "   pixel9  ...  pixel40  pixel41  pixel42  pixel43  pixel44  pixel45  pixel46  \\\n",
       "0     0.0  ...      1.0      0.0      2.0      0.0      0.0      0.0      3.0   \n",
       "1     0.0  ...      2.0      0.0      1.0      0.0      0.0      3.0      2.0   \n",
       "2     0.0  ...      1.0      0.0      1.0      0.0      3.0      2.0      2.0   \n",
       "3     0.0  ...      1.0      0.0      1.0      3.0      2.0      2.0      1.0   \n",
       "4     0.0  ...      1.0      0.0      1.0      2.0      2.0      1.0      1.0   \n",
       "\n",
       "   pixel47  pixel48  pixel49  \n",
       "0      2.0      2.0      0.0  \n",
       "1      2.0      1.0      0.0  \n",
       "2      1.0      1.0      0.0  \n",
       "3      1.0      1.0      0.0  \n",
       "4      1.0      1.0      0.0  \n",
       "\n",
       "[5 rows x 50 columns]"
      ]
     },
     "execution_count": 2,
     "metadata": {},
     "output_type": "execute_result"
    }
   ],
   "source": [
    "columns = ['label']\n",
    "columns += ['pixel'+str(i) for i in range(1,50)]\n",
    "data1 = pd.read_csv(\"NTruefinal.csv\",names = columns, dtype = np.float32)#Model 1 dataset\n",
    "data1.head()"
   ]
  },
  {
   "cell_type": "code",
   "execution_count": 3,
   "metadata": {},
   "outputs": [
    {
     "name": "stdout",
     "output_type": "stream",
     "text": [
      "3.5.2\n"
     ]
    }
   ],
   "source": [
    "print(python_version())"
   ]
  },
  {
   "cell_type": "code",
   "execution_count": 4,
   "metadata": {},
   "outputs": [
    {
     "data": {
      "text/plain": [
       "(1773, 50)"
      ]
     },
     "execution_count": 4,
     "metadata": {},
     "output_type": "execute_result"
    }
   ],
   "source": [
    "data1.shape"
   ]
  },
  {
   "cell_type": "code",
   "execution_count": 5,
   "metadata": {},
   "outputs": [
    {
     "data": {
      "text/plain": [
       "{0.0: 887, 1.0: 886}"
      ]
     },
     "execution_count": 5,
     "metadata": {},
     "output_type": "execute_result"
    }
   ],
   "source": [
    "unique, counts = np.unique(data1.iloc[:,0], return_counts=True)#No.of zero labels and one labels\n",
    "dict(zip(unique, counts))"
   ]
  },
  {
   "cell_type": "code",
   "execution_count": 19,
   "metadata": {},
   "outputs": [
    {
     "name": "stdout",
     "output_type": "stream",
     "text": [
      "0.0107894720000008\n",
      "Accuracy: 0.9943661971830986\n"
     ]
    }
   ],
   "source": [
    "### Train Model1###\n",
    "\n",
    "X = data1.drop('label', axis=1)\n",
    "y = data1['label']\n",
    "\n",
    "### RF classifier\n",
    "from sklearn import model_selection\n",
    "from sklearn.ensemble import RandomForestClassifier\n",
    "from sklearn.svm import SVC\n",
    "from sklearn.tree import DecisionTreeClassifier\n",
    "from sklearn.neighbors import KNeighborsClassifier\n",
    "from sklearn.metrics import confusion_matrix\n",
    "from sklearn import metrics\n",
    "from sklearn.model_selection import train_test_split\n",
    "import time\n",
    "\n",
    "X, X_test, y, y_test = train_test_split(X, y, \n",
    "                                        test_size = 0.2, \n",
    "                                        random_state = 42,shuffle=True)\n",
    "\n",
    "rfc = RandomForestClassifier(n_estimators=100)\n",
    "rfc.fit(X,y)\n",
    "\n",
    "tic = time.process_time()\n",
    "rfc_predict = rfc.predict(X_test)\n",
    "toc = time.process_time()\n",
    "print(toc - tic)\n",
    "\n",
    "#print(\"=== Confusion Matrix ===\")\n",
    "#print(confusion_matrix(y_test, rfc_predict))\n",
    "#print('\\n')\n",
    "print(\"Accuracy:\",metrics.accuracy_score(y_test, rfc_predict))\n",
    "\n"
   ]
  },
  {
   "cell_type": "code",
   "execution_count": 20,
   "metadata": {},
   "outputs": [
    {
     "data": {
      "text/plain": [
       "True"
      ]
     },
     "execution_count": 20,
     "metadata": {},
     "output_type": "execute_result"
    }
   ],
   "source": [
    "any(y_test==1)"
   ]
  },
  {
   "cell_type": "code",
   "execution_count": 21,
   "metadata": {},
   "outputs": [
    {
     "data": {
      "text/plain": [
       "(355, 49)"
      ]
     },
     "execution_count": 21,
     "metadata": {},
     "output_type": "execute_result"
    }
   ],
   "source": [
    "X_test.shape"
   ]
  },
  {
   "cell_type": "code",
   "execution_count": 22,
   "metadata": {},
   "outputs": [
    {
     "name": "stdout",
     "output_type": "stream",
     "text": [
      "0.050666031000000444\n",
      "=== Confusion Matrix ===\n",
      "[[175   3]\n",
      " [  0 177]]\n",
      "\n",
      "\n",
      "Accuracy: 0.9915492957746479\n"
     ]
    }
   ],
   "source": [
    "#Create KNN Classifier\n",
    "knn = KNeighborsClassifier(n_neighbors=5)\n",
    "\n",
    "#Train the model using the training sets\n",
    "knn.fit(X, y)\n",
    "tic = time.process_time()\n",
    "knn_pred = knn.predict(X_test)\n",
    "toc = time.process_time()\n",
    "print(toc - tic)\n",
    "\n",
    "#Predict the response for test dataset\n",
    "print(\"=== Confusion Matrix ===\")\n",
    "print(confusion_matrix(y_test, knn_pred))\n",
    "print('\\n')\n",
    "# Model Accuracy, how often is the classifier correct?\n",
    "print(\"Accuracy:\",metrics.accuracy_score(y_test, knn_pred))"
   ]
  },
  {
   "cell_type": "code",
   "execution_count": 23,
   "metadata": {},
   "outputs": [
    {
     "name": "stdout",
     "output_type": "stream",
     "text": [
      "0.0033870479999995595\n",
      "=== Confusion Matrix ===\n",
      "[[177   1]\n",
      " [  1 176]]\n",
      "\n",
      "\n",
      "Accuracy: 0.9943661971830986\n"
     ]
    }
   ],
   "source": [
    "##Decision Tree Classifier\n",
    "dtc = DecisionTreeClassifier()\n",
    "\n",
    "# Train Decision Tree Classifer\n",
    "dtc = dtc.fit(X,y)\n",
    "\n",
    "#Predict the response for test dataset\n",
    "tic = time.process_time()\n",
    "dtc_pred = dtc.predict(X_test)\n",
    "toc = time.process_time()\n",
    "print(toc - tic)\n",
    "\n",
    "print(\"=== Confusion Matrix ===\")\n",
    "print(confusion_matrix(y_test, dtc_pred))\n",
    "print('\\n')\n",
    "\n",
    "print(\"Accuracy:\",metrics.accuracy_score(y_test, dtc_pred))"
   ]
  },
  {
   "cell_type": "code",
   "execution_count": 24,
   "metadata": {},
   "outputs": [
    {
     "name": "stdout",
     "output_type": "stream",
     "text": [
      "0.01386623500000006\n",
      "=== Confusion Matrix ===\n",
      "[[169   9]\n",
      " [  0 177]]\n",
      "\n",
      "\n",
      "=== Confusion Matrix ===\n",
      "[[177   1]\n",
      " [  1 176]]\n",
      "\n",
      "\n",
      "Accuracy_rbf: 0.9746478873239437\n",
      "Accuracy_linear: 0.9943661971830986\n"
     ]
    }
   ],
   "source": [
    "### SVC Classifier ##\n",
    "\n",
    "classifier_linear = SVC(kernel='linear',gamma='auto', random_state = 1)\n",
    "classifier_rbf = SVC(kernel='rbf',gamma='auto', random_state = 1)\n",
    "\n",
    "classifier_rbf.fit(X,y)\n",
    "classifier_linear.fit(X,y)\n",
    "tic = time.process_time()\n",
    "Y_pred_rbf = classifier_rbf.predict(X_test)\n",
    "Y_linear = classifier_linear.predict(X_test)\n",
    "toc = time.process_time()\n",
    "print(toc - tic)\n",
    "\n",
    "print(\"=== Confusion Matrix ===\")\n",
    "print(confusion_matrix(y_test, Y_pred_rbf))\n",
    "print('\\n')\n",
    "\n",
    "print(\"=== Confusion Matrix ===\")\n",
    "print(confusion_matrix(y_test, Y_linear))\n",
    "print('\\n')\n",
    "\n",
    "print(\"Accuracy_rbf:\",metrics.accuracy_score(y_test, Y_pred_rbf))\n",
    "print(\"Accuracy_linear:\",metrics.accuracy_score(y_test, Y_linear))"
   ]
  },
  {
   "cell_type": "code",
   "execution_count": 61,
   "metadata": {},
   "outputs": [],
   "source": [
    "### test model1 on real image##\n"
   ]
  },
  {
   "cell_type": "code",
   "execution_count": 74,
   "metadata": {},
   "outputs": [],
   "source": [
    "def flat_list(l):\n",
    "    flat_list = []\n",
    "    for sublist in l:\n",
    "        for item in sublist:\n",
    "            flat_list.append(item)\n",
    "    return flat_list\n",
    "\n",
    "A=np.loadtxt(open(\"m_d_banknote.csv\", \"rb\"), delimiter=\",\")\n",
    "R=A   #unnormalized\n",
    "rows = A.shape[1]\n",
    "cols = A.shape[0]\n",
    "maxValue = np.amax(A)\n",
    "minValue = np.amin(A)\n",
    "fa=[]\n",
    "for x in range(cols):\n",
    "    for y in range(rows):\n",
    "        A[x,y]=math.ceil(((A[x,y]-minValue)/(maxValue-minValue))*255) # Normalization\n",
    "    \n",
    "    \n",
    "B=np.pad(A, ((3,3),(3,3)), 'constant',constant_values=0) #Padding the normalized with 0's for model1\n",
    "for j in range(3,len(Aa)+3):\n",
    "    fa.append(flat_list(B[j-3:j+4,j-3:j+4]))\n",
    "with open(\"Realivat.csv\", \"w\", newline=\"\") as f:  ###write model1 feature vector along diagonal\n",
    "    writer = csv.writer(f)\n",
    "    writer.writerows(fa)"
   ]
  },
  {
   "cell_type": "code",
   "execution_count": 95,
   "metadata": {},
   "outputs": [
    {
     "data": {
      "text/plain": [
       "<matplotlib.figure.Figure at 0x7f3f5047bfd0>"
      ]
     },
     "metadata": {},
     "output_type": "display_data"
    },
    {
     "data": {
      "image/png": "[encoded data removed]",
      "text/plain": [
       "<matplotlib.figure.Figure at 0x7f3f34248cf8>"
      ]
     },
     "metadata": {},
     "output_type": "display_data"
    },
    {
     "data": {
      "text/plain": [
       "<matplotlib.figure.Figure at 0x7f3f510ce080>"
      ]
     },
     "metadata": {},
     "output_type": "display_data"
    },
    {
     "data": {
      "image/png": "[encoded data removed]",
      "text/plain": [
       "<matplotlib.figure.Figure at 0x7f3f50d37588>"
      ]
     },
     "metadata": {},
     "output_type": "display_data"
    },
    {
     "data": {
      "text/plain": [
       "<matplotlib.figure.Figure at 0x7f3f520b3470>"
      ]
     },
     "metadata": {},
     "output_type": "display_data"
    },
    {
     "data": {
      "image/png": "[encoded data removed]",
      "text/plain": [
       "<matplotlib.figure.Figure at 0x7f3f50db5dd8>"
      ]
     },
     "metadata": {},
     "output_type": "display_data"
    },
    {
     "data": {
      "text/plain": [
       "<matplotlib.figure.Figure at 0x7f3f506cc0b8>"
      ]
     },
     "metadata": {},
     "output_type": "display_data"
    },
    {
     "data": {
      "image/png": "[encoded data removed]",
      "text/plain": [
       "<matplotlib.figure.Figure at 0x7f3f507477f0>"
      ]
     },
     "metadata": {},
     "output_type": "display_data"
    }
   ],
   "source": [
    "import matplotlib.patches as patches\n",
    "import matplotlib.pyplot as plt\n",
    "from PIL import Image\n",
    "\n",
    "xpred = pd.read_csv(\"Realivat.csv\",dtype = np.float32)\n",
    "\n",
    "classifier = {'rfc':rfc, 'knn':knn, 'dtc':dtc, 'classifier_linear':classifier_linear}\n",
    "\n",
    "for name,clf in classifier.items():\n",
    "    x =  clf.predict(xpred)\n",
    "    L=[]  ### diagonal points detected as 1 from model1\n",
    "    for i in range(0,len(x)):\n",
    "        if x[i]==1:\n",
    "            L.append(i)\n",
    "    L.append(Aa.shape[0])\n",
    "    \n",
    "    plt.figure()\n",
    "    fig,ax = plt.subplots(1)\n",
    "    \n",
    "    #B = A.astype('float32')#*255.0/65536.0\n",
    "    #B = B.astype('uint16')\n",
    "    ax.imshow(R, cmap='gray')\n",
    "    width,height = L[0],L[0]\n",
    "    for z in range(0,len(L)-1):\n",
    "        rect = patches.Rectangle((L[z],L[z]),-width,-height,linewidth=1,edgecolor='r',facecolor='none')\n",
    "    #     plt.scatter([int(L[z])],[int(L[z])], color='red', s=1)\n",
    "        width, height = L[z+1]-L[z],L[z+1]-L[z]\n",
    "        ax.add_patch(rect)\n",
    "    rect = patches.Rectangle((L[z],L[z]),width,height,linewidth=2,edgecolor='r',facecolor='none')\n",
    "    ax.add_patch(rect)\n",
    "    \n",
    "    img = 'banknote_'+name+'.eps'\n",
    "    plt.savefig(img)\n",
    "    plt.show()"
   ]
  },
  {
   "cell_type": "code",
   "execution_count": 96,
   "metadata": {},
   "outputs": [
    {
     "data": {
      "text/plain": [
       "<matplotlib.image.AxesImage at 0x7f3f5055fe80>"
      ]
     },
     "execution_count": 96,
     "metadata": {},
     "output_type": "execute_result"
    },
    {
     "data": {
      "image/png": "[encoded data removed]",
      "text/plain": [
       "<matplotlib.figure.Figure at 0x7f3f507f2940>"
      ]
     },
     "metadata": {},
     "output_type": "display_data"
    }
   ],
   "source": [
    "plt.imshow(R, cmap='gray')"
   ]
  },
  {
   "cell_type": "code",
   "execution_count": 97,
   "metadata": {},
   "outputs": [],
   "source": [
    "#### Model 2 to detect Corners######"
   ]
  },
  {
   "cell_type": "code",
   "execution_count": 98,
   "metadata": {},
   "outputs": [
    {
     "data": {
      "text/plain": [
       "(1372, 1372)"
      ]
     },
     "execution_count": 98,
     "metadata": {},
     "output_type": "execute_result"
    }
   ],
   "source": [
    "R.shape"
   ]
  },
  {
   "cell_type": "code",
   "execution_count": 99,
   "metadata": {},
   "outputs": [
    {
     "data": {
      "text/html": [
       "<div>\n",
       "<style scoped>\n",
       "    .dataframe tbody tr th:only-of-type {\n",
       "        vertical-align: middle;\n",
       "    }\n",
       "\n",
       "    .dataframe tbody tr th {\n",
       "        vertical-align: top;\n",
       "    }\n",
       "\n",
       "    .dataframe thead th {\n",
       "        text-align: right;\n",
       "    }\n",
       "</style>\n",
       "<table border=\"1\" class=\"dataframe\">\n",
       "  <thead>\n",
       "    <tr style=\"text-align: right;\">\n",
       "      <th></th>\n",
       "      <th>label</th>\n",
       "      <th>mean1</th>\n",
       "      <th>mean2</th>\n",
       "      <th>mean3</th>\n",
       "      <th>mean4</th>\n",
       "      <th>mean5</th>\n",
       "      <th>mean6</th>\n",
       "      <th>mean7</th>\n",
       "      <th>mean8</th>\n",
       "      <th>mean9</th>\n",
       "      <th>...</th>\n",
       "      <th>interVar27</th>\n",
       "      <th>interVar28</th>\n",
       "      <th>interVar29</th>\n",
       "      <th>interVar30</th>\n",
       "      <th>interVar31</th>\n",
       "      <th>interVar32</th>\n",
       "      <th>interVar33</th>\n",
       "      <th>interVar34</th>\n",
       "      <th>interVar35</th>\n",
       "      <th>interVar36</th>\n",
       "    </tr>\n",
       "  </thead>\n",
       "  <tbody>\n",
       "    <tr>\n",
       "      <th>0</th>\n",
       "      <td>1.0</td>\n",
       "      <td>255.0</td>\n",
       "      <td>3.666667</td>\n",
       "      <td>3.000000</td>\n",
       "      <td>255.0</td>\n",
       "      <td>5.0</td>\n",
       "      <td>5.0</td>\n",
       "      <td>255.0</td>\n",
       "      <td>255.0</td>\n",
       "      <td>255.0</td>\n",
       "      <td>...</td>\n",
       "      <td>0.0</td>\n",
       "      <td>5625.000000</td>\n",
       "      <td>11718.7500</td>\n",
       "      <td>5625.000000</td>\n",
       "      <td>11718.7500</td>\n",
       "      <td>15625.00</td>\n",
       "      <td>11718.7500</td>\n",
       "      <td>0.00</td>\n",
       "      <td>0.0</td>\n",
       "      <td>0.0</td>\n",
       "    </tr>\n",
       "    <tr>\n",
       "      <th>1</th>\n",
       "      <td>1.0</td>\n",
       "      <td>255.0</td>\n",
       "      <td>2.000000</td>\n",
       "      <td>2.000000</td>\n",
       "      <td>255.0</td>\n",
       "      <td>3.0</td>\n",
       "      <td>3.0</td>\n",
       "      <td>255.0</td>\n",
       "      <td>89.0</td>\n",
       "      <td>89.0</td>\n",
       "      <td>...</td>\n",
       "      <td>0.0</td>\n",
       "      <td>5715.359863</td>\n",
       "      <td>1386.7500</td>\n",
       "      <td>665.640015</td>\n",
       "      <td>11907.0000</td>\n",
       "      <td>1849.00</td>\n",
       "      <td>1386.7500</td>\n",
       "      <td>5166.75</td>\n",
       "      <td>6889.0</td>\n",
       "      <td>0.0</td>\n",
       "    </tr>\n",
       "    <tr>\n",
       "      <th>2</th>\n",
       "      <td>1.0</td>\n",
       "      <td>89.0</td>\n",
       "      <td>11.333333</td>\n",
       "      <td>11.333333</td>\n",
       "      <td>89.0</td>\n",
       "      <td>16.0</td>\n",
       "      <td>16.0</td>\n",
       "      <td>255.0</td>\n",
       "      <td>255.0</td>\n",
       "      <td>255.0</td>\n",
       "      <td>...</td>\n",
       "      <td>0.0</td>\n",
       "      <td>5140.890137</td>\n",
       "      <td>10710.1875</td>\n",
       "      <td>5140.890137</td>\n",
       "      <td>10710.1875</td>\n",
       "      <td>14280.25</td>\n",
       "      <td>10710.1875</td>\n",
       "      <td>0.00</td>\n",
       "      <td>0.0</td>\n",
       "      <td>0.0</td>\n",
       "    </tr>\n",
       "    <tr>\n",
       "      <th>3</th>\n",
       "      <td>1.0</td>\n",
       "      <td>255.0</td>\n",
       "      <td>5.333333</td>\n",
       "      <td>4.000000</td>\n",
       "      <td>255.0</td>\n",
       "      <td>9.0</td>\n",
       "      <td>9.0</td>\n",
       "      <td>255.0</td>\n",
       "      <td>255.0</td>\n",
       "      <td>255.0</td>\n",
       "      <td>...</td>\n",
       "      <td>0.0</td>\n",
       "      <td>5446.439941</td>\n",
       "      <td>11346.7500</td>\n",
       "      <td>5446.439941</td>\n",
       "      <td>11346.7500</td>\n",
       "      <td>15129.00</td>\n",
       "      <td>11346.7500</td>\n",
       "      <td>0.00</td>\n",
       "      <td>0.0</td>\n",
       "      <td>0.0</td>\n",
       "    </tr>\n",
       "    <tr>\n",
       "      <th>4</th>\n",
       "      <td>1.0</td>\n",
       "      <td>255.0</td>\n",
       "      <td>1.000000</td>\n",
       "      <td>1.000000</td>\n",
       "      <td>255.0</td>\n",
       "      <td>1.0</td>\n",
       "      <td>1.0</td>\n",
       "      <td>255.0</td>\n",
       "      <td>255.0</td>\n",
       "      <td>255.0</td>\n",
       "      <td>...</td>\n",
       "      <td>0.0</td>\n",
       "      <td>5806.439941</td>\n",
       "      <td>12096.7500</td>\n",
       "      <td>5806.439941</td>\n",
       "      <td>12096.7500</td>\n",
       "      <td>16129.00</td>\n",
       "      <td>12096.7500</td>\n",
       "      <td>0.00</td>\n",
       "      <td>0.0</td>\n",
       "      <td>0.0</td>\n",
       "    </tr>\n",
       "  </tbody>\n",
       "</table>\n",
       "<p>5 rows × 55 columns</p>\n",
       "</div>"
      ],
      "text/plain": [
       "   label  mean1      mean2      mean3  mean4  mean5  mean6  mean7  mean8  \\\n",
       "0    1.0  255.0   3.666667   3.000000  255.0    5.0    5.0  255.0  255.0   \n",
       "1    1.0  255.0   2.000000   2.000000  255.0    3.0    3.0  255.0   89.0   \n",
       "2    1.0   89.0  11.333333  11.333333   89.0   16.0   16.0  255.0  255.0   \n",
       "3    1.0  255.0   5.333333   4.000000  255.0    9.0    9.0  255.0  255.0   \n",
       "4    1.0  255.0   1.000000   1.000000  255.0    1.0    1.0  255.0  255.0   \n",
       "\n",
       "   mean9  ...  interVar27   interVar28  interVar29   interVar30  interVar31  \\\n",
       "0  255.0  ...         0.0  5625.000000  11718.7500  5625.000000  11718.7500   \n",
       "1   89.0  ...         0.0  5715.359863   1386.7500   665.640015  11907.0000   \n",
       "2  255.0  ...         0.0  5140.890137  10710.1875  5140.890137  10710.1875   \n",
       "3  255.0  ...         0.0  5446.439941  11346.7500  5446.439941  11346.7500   \n",
       "4  255.0  ...         0.0  5806.439941  12096.7500  5806.439941  12096.7500   \n",
       "\n",
       "   interVar32  interVar33  interVar34  interVar35  interVar36  \n",
       "0    15625.00  11718.7500        0.00         0.0         0.0  \n",
       "1     1849.00   1386.7500     5166.75      6889.0         0.0  \n",
       "2    14280.25  10710.1875        0.00         0.0         0.0  \n",
       "3    15129.00  11346.7500        0.00         0.0         0.0  \n",
       "4    16129.00  12096.7500        0.00         0.0         0.0  \n",
       "\n",
       "[5 rows x 55 columns]"
      ]
     },
     "execution_count": 99,
     "metadata": {},
     "output_type": "execute_result"
    }
   ],
   "source": [
    "##### Training #####\n",
    "columns = ['label']\n",
    "for i in range(9):\n",
    "    name = 'mean'+str(i+1)\n",
    "    columns += [name]\n",
    "for i in range(9):\n",
    "    name = 'var'+str(i+1)\n",
    "    columns += [name]\n",
    "for i in range(36):\n",
    "    name = 'interVar'+str(i+1)\n",
    "    columns += [name]\n",
    "data = pd.read_csv(\"MVdata.csv\",names = columns, dtype = np.float32)\n",
    "data.head()\n",
    "\n"
   ]
  },
  {
   "cell_type": "code",
   "execution_count": 100,
   "metadata": {},
   "outputs": [
    {
     "data": {
      "text/plain": [
       "label           0.000000\n",
       "mean1          81.000000\n",
       "mean2          81.000000\n",
       "mean3          81.000000\n",
       "mean4          81.000000\n",
       "mean5          81.000000\n",
       "mean6          81.000000\n",
       "mean7         104.000000\n",
       "mean8         104.000000\n",
       "mean9         104.000000\n",
       "var1            0.000000\n",
       "var2            0.000000\n",
       "var3            0.000000\n",
       "var4            0.000000\n",
       "var5            0.000000\n",
       "var6            0.000000\n",
       "var7            0.000000\n",
       "var8            0.000000\n",
       "var9            0.000000\n",
       "interVar1       0.000000\n",
       "interVar2       0.000000\n",
       "interVar3       0.000000\n",
       "interVar4       0.000000\n",
       "interVar5       0.000000\n",
       "interVar6     132.250000\n",
       "interVar7      99.187500\n",
       "interVar8     132.250000\n",
       "interVar9       0.000000\n",
       "interVar10      0.000000\n",
       "interVar11      0.000000\n",
       "interVar12      0.000000\n",
       "interVar13     99.187500\n",
       "interVar14    132.250000\n",
       "interVar15     99.187500\n",
       "interVar16      0.000000\n",
       "interVar17      0.000000\n",
       "interVar18      0.000000\n",
       "interVar19    132.250000\n",
       "interVar20     99.187500\n",
       "interVar21    132.250000\n",
       "interVar22      0.000000\n",
       "interVar23      0.000000\n",
       "interVar24     99.187500\n",
       "interVar25    132.250000\n",
       "interVar26     99.187500\n",
       "interVar27      0.000000\n",
       "interVar28     47.610001\n",
       "interVar29     99.187500\n",
       "interVar30     47.610001\n",
       "interVar31     99.187500\n",
       "interVar32    132.250000\n",
       "interVar33     99.187500\n",
       "interVar34      0.000000\n",
       "interVar35      0.000000\n",
       "interVar36      0.000000\n",
       "Name: 2089, dtype: float32"
      ]
     },
     "execution_count": 100,
     "metadata": {},
     "output_type": "execute_result"
    }
   ],
   "source": [
    "data.iloc[2089,:]"
   ]
  },
  {
   "cell_type": "code",
   "execution_count": 101,
   "metadata": {},
   "outputs": [],
   "source": [
    "from sklearn.preprocessing import MinMaxScaler\n",
    "scaler = MinMaxScaler()\n",
    "scaler.fit(data.iloc[:,1:])\n",
    "data.iloc[:,1:]=scaler.transform(data.iloc[:,1:])"
   ]
  },
  {
   "cell_type": "code",
   "execution_count": 102,
   "metadata": {},
   "outputs": [
    {
     "data": {
      "text/html": [
       "<div>\n",
       "<style scoped>\n",
       "    .dataframe tbody tr th:only-of-type {\n",
       "        vertical-align: middle;\n",
       "    }\n",
       "\n",
       "    .dataframe tbody tr th {\n",
       "        vertical-align: top;\n",
       "    }\n",
       "\n",
       "    .dataframe thead th {\n",
       "        text-align: right;\n",
       "    }\n",
       "</style>\n",
       "<table border=\"1\" class=\"dataframe\">\n",
       "  <thead>\n",
       "    <tr style=\"text-align: right;\">\n",
       "      <th></th>\n",
       "      <th>label</th>\n",
       "      <th>mean1</th>\n",
       "      <th>mean2</th>\n",
       "      <th>mean3</th>\n",
       "      <th>mean4</th>\n",
       "      <th>mean5</th>\n",
       "      <th>mean6</th>\n",
       "      <th>mean7</th>\n",
       "      <th>mean8</th>\n",
       "      <th>mean9</th>\n",
       "      <th>...</th>\n",
       "      <th>interVar27</th>\n",
       "      <th>interVar28</th>\n",
       "      <th>interVar29</th>\n",
       "      <th>interVar30</th>\n",
       "      <th>interVar31</th>\n",
       "      <th>interVar32</th>\n",
       "      <th>interVar33</th>\n",
       "      <th>interVar34</th>\n",
       "      <th>interVar35</th>\n",
       "      <th>interVar36</th>\n",
       "    </tr>\n",
       "  </thead>\n",
       "  <tbody>\n",
       "    <tr>\n",
       "      <th>0</th>\n",
       "      <td>1.0</td>\n",
       "      <td>1.000000</td>\n",
       "      <td>0.014379</td>\n",
       "      <td>0.011765</td>\n",
       "      <td>1.000000</td>\n",
       "      <td>0.019608</td>\n",
       "      <td>0.019608</td>\n",
       "      <td>1.0</td>\n",
       "      <td>1.000000</td>\n",
       "      <td>1.000000</td>\n",
       "      <td>...</td>\n",
       "      <td>0.0</td>\n",
       "      <td>0.961169</td>\n",
       "      <td>0.961169</td>\n",
       "      <td>0.961169</td>\n",
       "      <td>0.961169</td>\n",
       "      <td>0.961169</td>\n",
       "      <td>0.961169</td>\n",
       "      <td>0.000000</td>\n",
       "      <td>0.000000</td>\n",
       "      <td>0.0</td>\n",
       "    </tr>\n",
       "    <tr>\n",
       "      <th>1</th>\n",
       "      <td>1.0</td>\n",
       "      <td>1.000000</td>\n",
       "      <td>0.007843</td>\n",
       "      <td>0.007843</td>\n",
       "      <td>1.000000</td>\n",
       "      <td>0.011765</td>\n",
       "      <td>0.011765</td>\n",
       "      <td>1.0</td>\n",
       "      <td>0.346457</td>\n",
       "      <td>0.346742</td>\n",
       "      <td>...</td>\n",
       "      <td>0.0</td>\n",
       "      <td>0.976609</td>\n",
       "      <td>0.113741</td>\n",
       "      <td>0.113741</td>\n",
       "      <td>0.976609</td>\n",
       "      <td>0.113741</td>\n",
       "      <td>0.113741</td>\n",
       "      <td>0.427119</td>\n",
       "      <td>0.426745</td>\n",
       "      <td>0.0</td>\n",
       "    </tr>\n",
       "    <tr>\n",
       "      <th>2</th>\n",
       "      <td>1.0</td>\n",
       "      <td>0.319672</td>\n",
       "      <td>0.044444</td>\n",
       "      <td>0.044444</td>\n",
       "      <td>0.319672</td>\n",
       "      <td>0.062745</td>\n",
       "      <td>0.062745</td>\n",
       "      <td>1.0</td>\n",
       "      <td>1.000000</td>\n",
       "      <td>1.000000</td>\n",
       "      <td>...</td>\n",
       "      <td>0.0</td>\n",
       "      <td>0.878447</td>\n",
       "      <td>0.878447</td>\n",
       "      <td>0.878447</td>\n",
       "      <td>0.878447</td>\n",
       "      <td>0.878447</td>\n",
       "      <td>0.878447</td>\n",
       "      <td>0.000000</td>\n",
       "      <td>0.000000</td>\n",
       "      <td>0.0</td>\n",
       "    </tr>\n",
       "    <tr>\n",
       "      <th>3</th>\n",
       "      <td>1.0</td>\n",
       "      <td>1.000000</td>\n",
       "      <td>0.020915</td>\n",
       "      <td>0.015686</td>\n",
       "      <td>1.000000</td>\n",
       "      <td>0.035294</td>\n",
       "      <td>0.035294</td>\n",
       "      <td>1.0</td>\n",
       "      <td>1.000000</td>\n",
       "      <td>1.000000</td>\n",
       "      <td>...</td>\n",
       "      <td>0.0</td>\n",
       "      <td>0.930657</td>\n",
       "      <td>0.930657</td>\n",
       "      <td>0.930657</td>\n",
       "      <td>0.930657</td>\n",
       "      <td>0.930657</td>\n",
       "      <td>0.930657</td>\n",
       "      <td>0.000000</td>\n",
       "      <td>0.000000</td>\n",
       "      <td>0.0</td>\n",
       "    </tr>\n",
       "    <tr>\n",
       "      <th>4</th>\n",
       "      <td>1.0</td>\n",
       "      <td>1.000000</td>\n",
       "      <td>0.003922</td>\n",
       "      <td>0.003922</td>\n",
       "      <td>1.000000</td>\n",
       "      <td>0.003922</td>\n",
       "      <td>0.003922</td>\n",
       "      <td>1.0</td>\n",
       "      <td>1.000000</td>\n",
       "      <td>1.000000</td>\n",
       "      <td>...</td>\n",
       "      <td>0.0</td>\n",
       "      <td>0.992172</td>\n",
       "      <td>0.992172</td>\n",
       "      <td>0.992172</td>\n",
       "      <td>0.992172</td>\n",
       "      <td>0.992172</td>\n",
       "      <td>0.992172</td>\n",
       "      <td>0.000000</td>\n",
       "      <td>0.000000</td>\n",
       "      <td>0.0</td>\n",
       "    </tr>\n",
       "  </tbody>\n",
       "</table>\n",
       "<p>5 rows × 55 columns</p>\n",
       "</div>"
      ],
      "text/plain": [
       "   label     mean1     mean2     mean3     mean4     mean5     mean6  mean7  \\\n",
       "0    1.0  1.000000  0.014379  0.011765  1.000000  0.019608  0.019608    1.0   \n",
       "1    1.0  1.000000  0.007843  0.007843  1.000000  0.011765  0.011765    1.0   \n",
       "2    1.0  0.319672  0.044444  0.044444  0.319672  0.062745  0.062745    1.0   \n",
       "3    1.0  1.000000  0.020915  0.015686  1.000000  0.035294  0.035294    1.0   \n",
       "4    1.0  1.000000  0.003922  0.003922  1.000000  0.003922  0.003922    1.0   \n",
       "\n",
       "      mean8     mean9  ...  interVar27  interVar28  interVar29  interVar30  \\\n",
       "0  1.000000  1.000000  ...         0.0    0.961169    0.961169    0.961169   \n",
       "1  0.346457  0.346742  ...         0.0    0.976609    0.113741    0.113741   \n",
       "2  1.000000  1.000000  ...         0.0    0.878447    0.878447    0.878447   \n",
       "3  1.000000  1.000000  ...         0.0    0.930657    0.930657    0.930657   \n",
       "4  1.000000  1.000000  ...         0.0    0.992172    0.992172    0.992172   \n",
       "\n",
       "   interVar31  interVar32  interVar33  interVar34  interVar35  interVar36  \n",
       "0    0.961169    0.961169    0.961169    0.000000    0.000000         0.0  \n",
       "1    0.976609    0.113741    0.113741    0.427119    0.426745         0.0  \n",
       "2    0.878447    0.878447    0.878447    0.000000    0.000000         0.0  \n",
       "3    0.930657    0.930657    0.930657    0.000000    0.000000         0.0  \n",
       "4    0.992172    0.992172    0.992172    0.000000    0.000000         0.0  \n",
       "\n",
       "[5 rows x 55 columns]"
      ]
     },
     "execution_count": 102,
     "metadata": {},
     "output_type": "execute_result"
    }
   ],
   "source": [
    "data.head()"
   ]
  },
  {
   "cell_type": "code",
   "execution_count": 103,
   "metadata": {},
   "outputs": [],
   "source": [
    "#np.where(np.isnan(data)==1)"
   ]
  },
  {
   "cell_type": "code",
   "execution_count": 104,
   "metadata": {},
   "outputs": [
    {
     "data": {
      "text/plain": [
       "{0.0: 1090, 1.0: 1455}"
      ]
     },
     "execution_count": 104,
     "metadata": {},
     "output_type": "execute_result"
    }
   ],
   "source": [
    "unique, counts = np.unique(data.iloc[:,0], return_counts=True)\n",
    "dict(zip(unique, counts))"
   ]
  },
  {
   "cell_type": "code",
   "execution_count": 105,
   "metadata": {},
   "outputs": [
    {
     "name": "stdout",
     "output_type": "stream",
     "text": [
      "0.016880579999991596\n",
      "Accuracy: 0.9980353634577603\n"
     ]
    }
   ],
   "source": [
    "from sklearn import model_selection\n",
    "from sklearn.ensemble import RandomForestClassifier\n",
    "from sklearn.metrics import confusion_matrix\n",
    "from sklearn import metrics\n",
    "from sklearn.model_selection import train_test_split\n",
    "import time\n",
    "\n",
    "X = data.drop('label', axis=1)\n",
    "y = data['label']\n",
    "X, X_test, y, y_test = train_test_split(X, y, test_size = 0.2, random_state = 42,shuffle=True)\n",
    "\n",
    "rfc2 = RandomForestClassifier(n_estimators=100)\n",
    "rfc2.fit(X,y)\n",
    "\n",
    "tic = time.process_time()\n",
    "rfc_predict = rfc2.predict(X_test)\n",
    "toc = time.process_time()\n",
    "print(toc - tic)\n",
    "\n",
    "#print(\"=== Confusion Matrix ===\")\n",
    "#print(confusion_matrix(y_test, rfc_predict))\n",
    "#print('\\n')\n",
    "print(\"Accuracy:\",metrics.accuracy_score(y_test, rfc_predict))"
   ]
  },
  {
   "cell_type": "code",
   "execution_count": 23,
   "metadata": {},
   "outputs": [],
   "source": [
    "#any(X.isnull()==1)"
   ]
  },
  {
   "cell_type": "code",
   "execution_count": 24,
   "metadata": {},
   "outputs": [],
   "source": [
    "#from sklearn.svm import SVC\n",
    "#from sklearn.metrics import confusion_matrix\n",
    "#from sklearn import metrics\n",
    "#classifier_linear = SVC(kernel='linear',gamma='auto', random_state = 1)\n",
    "#classifier_rbf = SVC(kernel='rbf',gamma='auto', random_state = 1)\n",
    "#X = data.drop('label', axis=1)\n",
    "#y = data['label']\n",
    "#X, X_test, y, y_test = train_test_split(X, y, test_size = 0.2, random_state = 42,shuffle=True)\n",
    "\n",
    "#classifier_rbf.fit(X,y)\n",
    "#classifier_linear.fit(X,y)\n",
    "#tic = time.process_time()\n",
    "#Y_pred_rbf = classifier_rbf.predict(X_test)\n",
    "#Y_linear = classifier_linear.predict(X_test)\n",
    "#toc = time.process_time()\n",
    "#print(toc - tic)\n",
    "\n",
    "#print(\"Accuracy_rbf:\",metrics.accuracy_score(y_test, Y_pred_rbf))\n",
    "#print(\"Accuracy_linear:\",metrics.accuracy_score(y_test, Y_linear))"
   ]
  },
  {
   "cell_type": "code",
   "execution_count": 25,
   "metadata": {},
   "outputs": [],
   "source": [
    "#from sklearn.neighbors import KNeighborsClassifier\n",
    "#from sklearn.metrics import confusion_matrix\n",
    "#from sklearn import metrics\n",
    "#Create KNN Classifier\n",
    "#knn = KNeighborsClassifier(n_neighbors=5)\n",
    "#X = data.drop('label', axis=1)\n",
    "#y = data['label']\n",
    "#X, X_test, y, y_test = train_test_split(X, y, test_size = 0.2, random_state = 42,shuffle=True)\n",
    "\n",
    "\n",
    "#Train the model using the training sets\n",
    "#knn.fit(X, y)\n",
    "#tic = time.process_time()\n",
    "#Predict the response for test dataset\n",
    "#knn_pred = knn.predict(X_test)\n",
    "#toc = time.process_time()\n",
    "#print(toc - tic)\n",
    "# Model Accuracy, how often is the classifier correct?\n",
    "#print(\"Accuracy:\",metrics.accuracy_score(y_test, knn_pred))"
   ]
  },
  {
   "cell_type": "code",
   "execution_count": 106,
   "metadata": {},
   "outputs": [],
   "source": [
    "### Testing Model 2###\n",
    "\n",
    "Ax=np.loadtxt(open(\"m_d_banknote.csv\" , \"rb\"), delimiter=\",\")\n",
    "rows = Ax.shape[1]\n",
    "cols = Ax.shape[0]\n",
    "maxValue = np.amax(Ax)\n",
    "minValue = np.amin(Ax)\n",
    "for x in range(cols):\n",
    "    for y in range(rows):\n",
    "        Ax[x,y]=math.ceil(((Ax[x,y]-minValue)/(maxValue-minValue))*255)  ###normalization\n",
    "        \n",
    "Bx=np.pad(Ax, ((3,3),(3,3)), 'constant',constant_values=255)     ### padding with 255 for model2\n",
    "#Cx=np.loadtxt(open(\"label.csv\" , \"rb\"), delimiter=\"/n\")\n",
    "\n",
    "\n"
   ]
  },
  {
   "cell_type": "code",
   "execution_count": 107,
   "metadata": {},
   "outputs": [],
   "source": [
    "def mvfeaturegeneration(b):\n",
    "    W=b\n",
    "    g1=W[0:3,0:3]#groups\n",
    "    g2=W[0:3,3]\n",
    "    g3=W[0:3,4:7]\n",
    "    g4=W[3,0:3]\n",
    "    g5=W[3,3]\n",
    "    g6=W[3,4:7]\n",
    "    g7=W[4:7,0:3]\n",
    "    g8=W[4:7,3]\n",
    "    g9=W[4:7,4:7]\n",
    "    groups = [g1,g2,g3,g4,g5,g6,g7,g8,g9]\n",
    "    \n",
    "    meanf = np.zeros(9)\n",
    "    varf = np.zeros(9)\n",
    "    for idx,grp in enumerate(groups):\n",
    "        mean = np.mean(grp)\n",
    "        var = np.sum((grp-mean)**2)\n",
    "        meanf[idx] = mean\n",
    "        varf[idx] = var\n",
    "    \n",
    "    intervarf = np.zeros(36)\n",
    "    idx = 0\n",
    "    for i in range(9):\n",
    "        for j in range(i+1,9):\n",
    "            g1 = groups[i]\n",
    "            g2 = groups[j]\n",
    "            W1=(g1.size)/((g1.size)+(g2.size))\n",
    "            W2=(g2.size)/((g1.size)+(g2.size))\n",
    "            mu=((meanf[i]-meanf[j])**2)\n",
    "            ivar=W1*W2*mu\n",
    "            intervarf[idx] = ivar\n",
    "            idx += 1\n",
    "\n",
    "    return (np.concatenate((meanf,varf,intervarf),axis=None).tolist())"
   ]
  },
  {
   "cell_type": "code",
   "execution_count": 116,
   "metadata": {},
   "outputs": [],
   "source": [
    "L = np.array(L)\n",
    "L = L+3 # add padding shift to L's elements"
   ]
  },
  {
   "cell_type": "code",
   "execution_count": 121,
   "metadata": {},
   "outputs": [
    {
     "data": {
      "text/plain": [
       "array([  11,   21,   28,   29,   30,   31,   32,   33,   34,   35,   41,\n",
       "         60,   61,   62,   63,   64,   67,  118,  121,  124,  130,  137,\n",
       "        140,  143,  144,  154,  161,  169,  174,  180,  184,  191,  194,\n",
       "        197,  224,  234,  240,  267,  270,  271,  277,  341,  394,  414,\n",
       "        448,  454,  464,  484,  489,  494,  504,  514,  534,  541,  561,\n",
       "        571,  581,  584,  594,  601,  602,  603,  604,  605,  606,  683,\n",
       "        684,  685,  692,  693,  694,  695,  696,  699,  704,  714,  715,\n",
       "        725,  726,  727,  732,  733,  841,  850,  851,  852,  853,  854,\n",
       "        888,  889,  890,  891,  892,  893,  894,  904,  981,  994,  995,\n",
       "        996, 1004, 1005, 1006, 1013, 1034, 1035, 1036, 1052, 1053, 1054,\n",
       "       1055, 1059, 1060, 1061, 1081, 1082, 1083, 1084, 1095, 1158, 1159,\n",
       "       1160, 1192, 1193, 1194, 1195, 1196, 1197, 1205, 1211, 1215, 1225,\n",
       "       1226, 1227, 1228, 1237, 1238, 1239, 1249, 1250, 1260, 1261, 1262,\n",
       "       1263, 1264, 1265, 1272, 1273, 1282, 1283, 1284, 1285, 1286, 1287,\n",
       "       1288, 1289, 1290, 1291, 1294, 1295, 1296, 1306, 1307, 1312, 1315,\n",
       "       1316, 1319, 1320, 1321, 1322, 1332, 1333, 1334, 1337, 1344, 1347,\n",
       "       1354, 1357, 1360, 1364, 1365, 1371, 1372, 1375])"
      ]
     },
     "execution_count": 121,
     "metadata": {},
     "output_type": "execute_result"
    }
   ],
   "source": [
    "L"
   ]
  },
  {
   "cell_type": "code",
   "execution_count": 122,
   "metadata": {},
   "outputs": [
    {
     "name": "stdout",
     "output_type": "stream",
     "text": [
      "completed feature generation: 0.54%\n",
      "completed feature generation: 1.09%\n",
      "completed feature generation: 1.63%\n",
      "completed feature generation: 2.17%\n",
      "completed feature generation: 2.72%\n",
      "completed feature generation: 3.26%\n",
      "completed feature generation: 3.80%\n",
      "completed feature generation: 4.35%\n",
      "completed feature generation: 4.89%\n",
      "completed feature generation: 5.43%\n",
      "completed feature generation: 5.98%\n",
      "completed feature generation: 6.52%\n",
      "completed feature generation: 7.07%\n",
      "completed feature generation: 7.61%\n",
      "completed feature generation: 8.15%\n",
      "completed feature generation: 8.70%\n",
      "completed feature generation: 9.24%\n",
      "completed feature generation: 9.78%\n",
      "completed feature generation: 10.33%\n",
      "completed feature generation: 10.87%\n",
      "completed feature generation: 11.41%\n",
      "completed feature generation: 11.96%\n",
      "completed feature generation: 12.50%\n",
      "completed feature generation: 13.04%\n",
      "completed feature generation: 13.59%\n",
      "completed feature generation: 14.13%\n",
      "completed feature generation: 14.67%\n",
      "completed feature generation: 15.22%\n",
      "completed feature generation: 15.76%\n",
      "completed feature generation: 16.30%\n",
      "completed feature generation: 16.85%\n",
      "completed feature generation: 17.39%\n",
      "completed feature generation: 17.93%\n",
      "completed feature generation: 18.48%\n",
      "completed feature generation: 19.02%\n",
      "completed feature generation: 19.57%\n",
      "completed feature generation: 20.11%\n",
      "completed feature generation: 20.65%\n",
      "completed feature generation: 21.20%\n",
      "completed feature generation: 21.74%\n",
      "completed feature generation: 22.28%\n",
      "completed feature generation: 22.83%\n",
      "completed feature generation: 23.37%\n",
      "completed feature generation: 23.91%\n",
      "completed feature generation: 24.46%\n",
      "completed feature generation: 25.00%\n",
      "completed feature generation: 25.54%\n",
      "completed feature generation: 26.09%\n",
      "completed feature generation: 26.63%\n",
      "completed feature generation: 27.17%\n",
      "completed feature generation: 27.72%\n",
      "completed feature generation: 28.26%\n",
      "completed feature generation: 28.80%\n",
      "completed feature generation: 29.35%\n",
      "completed feature generation: 29.89%\n",
      "completed feature generation: 30.43%\n",
      "completed feature generation: 30.98%\n",
      "completed feature generation: 31.52%\n",
      "completed feature generation: 32.07%\n",
      "completed feature generation: 32.61%\n",
      "completed feature generation: 33.15%\n",
      "completed feature generation: 33.70%\n",
      "completed feature generation: 34.24%\n",
      "completed feature generation: 34.78%\n",
      "completed feature generation: 35.33%\n",
      "completed feature generation: 35.87%\n",
      "completed feature generation: 36.41%\n",
      "completed feature generation: 36.96%\n",
      "completed feature generation: 37.50%\n",
      "completed feature generation: 38.04%\n",
      "completed feature generation: 38.59%\n",
      "completed feature generation: 39.13%\n",
      "completed feature generation: 39.67%\n",
      "completed feature generation: 40.22%\n",
      "completed feature generation: 40.76%\n",
      "completed feature generation: 41.30%\n",
      "completed feature generation: 41.85%\n",
      "completed feature generation: 42.39%\n",
      "completed feature generation: 42.93%\n",
      "completed feature generation: 43.48%\n",
      "completed feature generation: 44.02%\n",
      "completed feature generation: 44.57%\n",
      "completed feature generation: 45.11%\n",
      "completed feature generation: 45.65%\n",
      "completed feature generation: 46.20%\n",
      "completed feature generation: 46.74%\n",
      "completed feature generation: 47.28%\n",
      "completed feature generation: 47.83%\n",
      "completed feature generation: 48.37%\n",
      "completed feature generation: 48.91%\n",
      "completed feature generation: 49.46%\n",
      "completed feature generation: 50.00%\n",
      "completed feature generation: 50.54%\n",
      "completed feature generation: 51.09%\n",
      "completed feature generation: 51.63%\n",
      "completed feature generation: 52.17%\n",
      "completed feature generation: 52.72%\n",
      "completed feature generation: 53.26%\n",
      "completed feature generation: 53.80%\n",
      "completed feature generation: 54.35%\n",
      "completed feature generation: 54.89%\n",
      "completed feature generation: 55.43%\n",
      "completed feature generation: 55.98%\n",
      "completed feature generation: 56.52%\n",
      "completed feature generation: 57.07%\n",
      "completed feature generation: 57.61%\n",
      "completed feature generation: 58.15%\n",
      "completed feature generation: 58.70%\n",
      "completed feature generation: 59.24%\n",
      "completed feature generation: 59.78%\n",
      "completed feature generation: 60.33%\n",
      "completed feature generation: 60.87%\n",
      "completed feature generation: 61.41%\n",
      "completed feature generation: 61.96%\n",
      "completed feature generation: 62.50%\n",
      "completed feature generation: 63.04%\n",
      "completed feature generation: 63.59%\n",
      "completed feature generation: 64.13%\n",
      "completed feature generation: 64.67%\n",
      "completed feature generation: 65.22%\n",
      "completed feature generation: 65.76%\n",
      "completed feature generation: 66.30%\n",
      "completed feature generation: 66.85%\n",
      "completed feature generation: 67.39%\n",
      "completed feature generation: 67.93%\n",
      "completed feature generation: 68.48%\n",
      "completed feature generation: 69.02%\n",
      "completed feature generation: 69.57%\n",
      "completed feature generation: 70.11%\n",
      "completed feature generation: 70.65%\n",
      "completed feature generation: 71.20%\n",
      "completed feature generation: 71.74%\n",
      "completed feature generation: 72.28%\n",
      "completed feature generation: 72.83%\n",
      "completed feature generation: 73.37%\n",
      "completed feature generation: 73.91%\n",
      "completed feature generation: 74.46%\n",
      "completed feature generation: 75.00%\n",
      "completed feature generation: 75.54%\n",
      "completed feature generation: 76.09%\n",
      "completed feature generation: 76.63%\n",
      "completed feature generation: 77.17%\n",
      "completed feature generation: 77.72%\n",
      "completed feature generation: 78.26%\n",
      "completed feature generation: 78.80%\n",
      "completed feature generation: 79.35%\n",
      "completed feature generation: 79.89%\n",
      "completed feature generation: 80.43%\n",
      "completed feature generation: 80.98%\n",
      "completed feature generation: 81.52%\n",
      "completed feature generation: 82.07%\n",
      "completed feature generation: 82.61%\n",
      "completed feature generation: 83.15%\n",
      "completed feature generation: 83.70%\n",
      "completed feature generation: 84.24%\n",
      "completed feature generation: 84.78%\n",
      "completed feature generation: 85.33%\n",
      "completed feature generation: 85.87%\n",
      "completed feature generation: 86.41%\n",
      "completed feature generation: 86.96%\n",
      "completed feature generation: 87.50%\n",
      "completed feature generation: 88.04%\n",
      "completed feature generation: 88.59%\n",
      "completed feature generation: 89.13%\n",
      "completed feature generation: 89.67%\n",
      "completed feature generation: 90.22%\n",
      "completed feature generation: 90.76%\n",
      "completed feature generation: 91.30%\n",
      "completed feature generation: 91.85%\n",
      "completed feature generation: 92.39%\n",
      "completed feature generation: 92.93%\n",
      "completed feature generation: 93.48%\n",
      "completed feature generation: 94.02%\n",
      "completed feature generation: 94.57%\n",
      "completed feature generation: 95.11%\n",
      "completed feature generation: 95.65%\n",
      "completed feature generation: 96.20%\n",
      "completed feature generation: 96.74%\n",
      "completed feature generation: 97.28%\n",
      "completed feature generation: 97.83%\n",
      "completed feature generation: 98.37%\n",
      "completed feature generation: 98.91%\n",
      "completed feature generation: 99.46%\n",
      "completed feature generation: 100.00%\n"
     ]
    }
   ],
   "source": [
    "M = [] # collects features for test image along vertical lines\n",
    "\n",
    "##for 1st column #\n",
    "i = 3\n",
    "for r in range(6, len(Bx)-3):\n",
    "    M.append(mvfeaturegeneration(Bx[r-3:r+4,i-3:i+4])+[r,i])\n",
    "\n",
    "##for remaining columns in L\n",
    "for i in range(len(L)):\n",
    "    c = L[i] + 1    ## shift 1 column right   \n",
    "    for r in range(L[i]+3, len(Bx)-3):\n",
    "        M.append(mvfeaturegeneration(Bx[r-3:r+4,c-3:c+4])+[r,c])\n",
    "    print(\"completed feature generation: {:.2f}%\".format((i+1)*100/len(L)))\n",
    "\n",
    "M = np.array(M)"
   ]
  },
  {
   "cell_type": "code",
   "execution_count": 123,
   "metadata": {},
   "outputs": [],
   "source": [
    "M[:,:-2]=scaler.transform(M[:,:-2])"
   ]
  },
  {
   "cell_type": "code",
   "execution_count": 124,
   "metadata": {},
   "outputs": [],
   "source": [
    "preds = rfc2.predict(M[:,:-2])"
   ]
  },
  {
   "cell_type": "code",
   "execution_count": 125,
   "metadata": {},
   "outputs": [
    {
     "data": {
      "text/plain": [
       "array([1., 0., 0., ..., 0., 0., 0.], dtype=float32)"
      ]
     },
     "execution_count": 125,
     "metadata": {},
     "output_type": "execute_result"
    }
   ],
   "source": [
    "preds"
   ]
  },
  {
   "cell_type": "code",
   "execution_count": 126,
   "metadata": {},
   "outputs": [],
   "source": [
    "D = M[preds == 1,-2:]"
   ]
  },
  {
   "cell_type": "code",
   "execution_count": 127,
   "metadata": {},
   "outputs": [
    {
     "data": {
      "text/plain": [
       "array([[   6.,    3.],\n",
       "       [  11.,    3.],\n",
       "       [  12.,    3.],\n",
       "       ...,\n",
       "       [1368., 1365.],\n",
       "       [1368., 1366.],\n",
       "       [1369., 1366.]])"
      ]
     },
     "execution_count": 127,
     "metadata": {},
     "output_type": "execute_result"
    }
   ],
   "source": [
    "D"
   ]
  },
  {
   "cell_type": "code",
   "execution_count": 128,
   "metadata": {},
   "outputs": [
    {
     "data": {
      "text/plain": [
       "array([[   3.,    0.],\n",
       "       [   8.,    0.],\n",
       "       [   9.,    0.],\n",
       "       ...,\n",
       "       [1365., 1362.],\n",
       "       [1365., 1363.],\n",
       "       [1366., 1363.]])"
      ]
     },
     "execution_count": 128,
     "metadata": {},
     "output_type": "execute_result"
    }
   ],
   "source": [
    "D-3"
   ]
  },
  {
   "cell_type": "code",
   "execution_count": 31,
   "metadata": {},
   "outputs": [],
   "source": []
  },
  {
   "cell_type": "code",
   "execution_count": 129,
   "metadata": {},
   "outputs": [],
   "source": [
    "D = D-3 # remove padding shift"
   ]
  },
  {
   "cell_type": "code",
   "execution_count": 132,
   "metadata": {},
   "outputs": [],
   "source": [
    "x1 = np.array(D)[:,0] \n",
    "y1 = np.array(D)[:,1] "
   ]
  },
  {
   "cell_type": "code",
   "execution_count": 33,
   "metadata": {},
   "outputs": [
    {
     "data": {
      "image/png": "[encoded data removed]",
      "text/plain": [
       "<matplotlib.figure.Figure at 0x210bc534898>"
      ]
     },
     "metadata": {
      "needs_background": "light"
     },
     "output_type": "display_data"
    }
   ],
   "source": [
    "plt.figure(figsize = (10,5))\n",
    "plt.imshow(Aa, cmap='gray')\n",
    "plt.scatter(y1,x1, c='b',s=2)\n",
    "plt.savefig('model2cortex.eps') "
   ]
  },
  {
   "cell_type": "code",
   "execution_count": 155,
   "metadata": {},
   "outputs": [
    {
     "data": {
      "image/png": "[encoded data removed]",
      "text/plain": [
       "<matplotlib.figure.Figure at 0x7f3f5083bd30>"
      ]
     },
     "metadata": {},
     "output_type": "display_data"
    }
   ],
   "source": [
    "plt.figure(figsize = (10,5))\n",
    "plt.imshow(Ax, cmap='gray')\n",
    "plt.scatter(y1,x1, c='b', s=5)\n",
    "plt.savefig('model2cortex.eps') "
   ]
  },
  {
   "cell_type": "code",
   "execution_count": 149,
   "metadata": {},
   "outputs": [
    {
     "data": {
      "text/plain": [
       "1372"
      ]
     },
     "execution_count": 149,
     "metadata": {},
     "output_type": "execute_result"
    }
   ],
   "source": [
    "Ax.shape[0]"
   ]
  },
  {
   "cell_type": "code",
   "execution_count": 147,
   "metadata": {},
   "outputs": [
    {
     "data": {
      "text/plain": [
       "array([   3.,    8.,    9., ..., 1365., 1365., 1366.])"
      ]
     },
     "execution_count": 147,
     "metadata": {},
     "output_type": "execute_result"
    }
   ],
   "source": [
    "x1"
   ]
  },
  {
   "cell_type": "code",
   "execution_count": 140,
   "metadata": {},
   "outputs": [
    {
     "data": {
      "text/plain": [
       "7.0"
      ]
     },
     "execution_count": 140,
     "metadata": {},
     "output_type": "execute_result"
    }
   ],
   "source": [
    "Ax[0][1]"
   ]
  },
  {
   "cell_type": "code",
   "execution_count": 145,
   "metadata": {},
   "outputs": [
    {
     "data": {
      "text/plain": [
       "<matplotlib.collections.PathCollection at 0x7f3f31b431d0>"
      ]
     },
     "execution_count": 145,
     "metadata": {},
     "output_type": "execute_result"
    },
    {
     "data": {
      "image/png": "[encoded data removed]",
      "text/plain": [
       "<matplotlib.figure.Figure at 0x7f3f520f2b00>"
      ]
     },
     "metadata": {},
     "output_type": "display_data"
    }
   ],
   "source": [
    "x = [1, 400]\n",
    "y = [1, 5]\n",
    "plt.scatter(x, y, c='b',s=2)"
   ]
  },
  {
   "cell_type": "code",
   "execution_count": null,
   "metadata": {},
   "outputs": [],
   "source": []
  },
  {
   "cell_type": "code",
   "execution_count": null,
   "metadata": {},
   "outputs": [],
   "source": []
  },
  {
   "cell_type": "code",
   "execution_count": null,
   "metadata": {},
   "outputs": [],
   "source": []
  },
  {
   "cell_type": "code",
   "execution_count": null,
   "metadata": {},
   "outputs": [],
   "source": []
  },
  {
   "cell_type": "code",
   "execution_count": null,
   "metadata": {},
   "outputs": [],
   "source": []
  },
  {
   "cell_type": "code",
   "execution_count": null,
   "metadata": {},
   "outputs": [],
   "source": []
  },
  {
   "cell_type": "code",
   "execution_count": 43,
   "metadata": {},
   "outputs": [],
   "source": [
    "l=[1,2,4]\n",
    "l.insert(0,-1)"
   ]
  },
  {
   "cell_type": "code",
   "execution_count": 44,
   "metadata": {},
   "outputs": [
    {
     "data": {
      "text/plain": [
       "[-1, 1, 2, 4]"
      ]
     },
     "execution_count": 44,
     "metadata": {},
     "output_type": "execute_result"
    }
   ],
   "source": [
    "l"
   ]
  },
  {
   "cell_type": "code",
   "execution_count": null,
   "metadata": {},
   "outputs": [],
   "source": []
  },
  {
   "cell_type": "code",
   "execution_count": null,
   "metadata": {},
   "outputs": [],
   "source": []
  },
  {
   "cell_type": "code",
   "execution_count": null,
   "metadata": {},
   "outputs": [],
   "source": []
  },
  {
   "cell_type": "code",
   "execution_count": null,
   "metadata": {},
   "outputs": [],
   "source": []
  },
  {
   "cell_type": "code",
   "execution_count": null,
   "metadata": {},
   "outputs": [],
   "source": []
  },
  {
   "cell_type": "code",
   "execution_count": null,
   "metadata": {},
   "outputs": [],
   "source": []
  },
  {
   "cell_type": "code",
   "execution_count": null,
   "metadata": {},
   "outputs": [],
   "source": []
  },
  {
   "cell_type": "code",
   "execution_count": null,
   "metadata": {},
   "outputs": [],
   "source": []
  },
  {
   "cell_type": "code",
   "execution_count": null,
   "metadata": {},
   "outputs": [],
   "source": [
    "#Other Models not needed now"
   ]
  },
  {
   "cell_type": "code",
   "execution_count": 223,
   "metadata": {},
   "outputs": [
    {
     "data": {
      "text/plain": [
       "True"
      ]
     },
     "execution_count": 223,
     "metadata": {},
     "output_type": "execute_result"
    }
   ],
   "source": [
    "any(y_test==1)"
   ]
  },
  {
   "cell_type": "code",
   "execution_count": 224,
   "metadata": {},
   "outputs": [],
   "source": [
    "x = knn.predict(xpred)"
   ]
  },
  {
   "cell_type": "code",
   "execution_count": 225,
   "metadata": {},
   "outputs": [
    {
     "data": {
      "image/png": "[encoded data removed]",
      "text/plain": [
       "<matplotlib.figure.Figure at 0x284b2b69c88>"
      ]
     },
     "metadata": {
      "needs_background": "light"
     },
     "output_type": "display_data"
    }
   ],
   "source": [
    "\n",
    "\n",
    "\n",
    " "
   ]
  },
  {
   "cell_type": "code",
   "execution_count": 226,
   "metadata": {},
   "outputs": [
    {
     "name": "stdout",
     "output_type": "stream",
     "text": [
      "0.0\n",
      "=== Confusion Matrix ===\n",
      "[[180   2]\n",
      " [  0 178]]\n",
      "\n",
      "\n",
      "Accuracy: 0.9972222222222222\n"
     ]
    }
   ],
   "source": [
    "\n"
   ]
  },
  {
   "cell_type": "code",
   "execution_count": 51,
   "metadata": {},
   "outputs": [],
   "source": [
    "x = rfc.predict(xpred)"
   ]
  },
  {
   "cell_type": "code",
   "execution_count": 52,
   "metadata": {},
   "outputs": [
    {
     "ename": "NameError",
     "evalue": "name 'A' is not defined",
     "output_type": "error",
     "traceback": [
      "\u001b[0;31m---------------------------------------------------------------------------\u001b[0m",
      "\u001b[0;31mNameError\u001b[0m                                 Traceback (most recent call last)",
      "\u001b[0;32m<ipython-input-52-0516d5fc4c78>\u001b[0m in \u001b[0;36m<module>\u001b[0;34m\u001b[0m\n\u001b[1;32m      3\u001b[0m     \u001b[0;32mif\u001b[0m \u001b[0mx\u001b[0m\u001b[0;34m[\u001b[0m\u001b[0mi\u001b[0m\u001b[0;34m]\u001b[0m\u001b[0;34m==\u001b[0m\u001b[0;36m1\u001b[0m\u001b[0;34m:\u001b[0m\u001b[0;34m\u001b[0m\u001b[0m\n\u001b[1;32m      4\u001b[0m         \u001b[0mL\u001b[0m\u001b[0;34m.\u001b[0m\u001b[0mappend\u001b[0m\u001b[0;34m(\u001b[0m\u001b[0mi\u001b[0m\u001b[0;34m)\u001b[0m\u001b[0;34m\u001b[0m\u001b[0m\n\u001b[0;32m----> 5\u001b[0;31m \u001b[0mL\u001b[0m\u001b[0;34m.\u001b[0m\u001b[0mappend\u001b[0m\u001b[0;34m(\u001b[0m\u001b[0mA\u001b[0m\u001b[0;34m.\u001b[0m\u001b[0mshape\u001b[0m\u001b[0;34m[\u001b[0m\u001b[0;36m0\u001b[0m\u001b[0;34m]\u001b[0m\u001b[0;34m)\u001b[0m\u001b[0;34m\u001b[0m\u001b[0m\n\u001b[0m\u001b[1;32m      6\u001b[0m \u001b[0;32mimport\u001b[0m \u001b[0mmatplotlib\u001b[0m\u001b[0;34m.\u001b[0m\u001b[0mpyplot\u001b[0m \u001b[0;32mas\u001b[0m \u001b[0mplt\u001b[0m\u001b[0;34m\u001b[0m\u001b[0m\n\u001b[1;32m      7\u001b[0m \u001b[0mfig\u001b[0m\u001b[0;34m,\u001b[0m\u001b[0max\u001b[0m \u001b[0;34m=\u001b[0m \u001b[0mplt\u001b[0m\u001b[0;34m.\u001b[0m\u001b[0msubplots\u001b[0m\u001b[0;34m(\u001b[0m\u001b[0;36m1\u001b[0m\u001b[0;34m)\u001b[0m\u001b[0;34m\u001b[0m\u001b[0m\n",
      "\u001b[0;31mNameError\u001b[0m: name 'A' is not defined"
     ]
    }
   ],
   "source": [
    "\n",
    "L=[]\n",
    "for i in range(0,len(x)):\n",
    "    if x[i]==1:\n",
    "        L.append(i)\n",
    "L.append(A.shape[0])\n",
    "import matplotlib.pyplot as plt\n",
    "fig,ax = plt.subplots(1)\n",
    "B = A.astype('float32')*255.0/65536.0\n",
    "B = B.astype('uint16')\n",
    "ax.imshow(B, cmap='gray')\n",
    "width,height = L[0],L[0]\n",
    "for z in range(0,len(L)-1):\n",
    "    rect = patches.Rectangle((L[z],L[z]),-width,-height,linewidth=1,edgecolor='r',facecolor='none')\n",
    "#     plt.scatter([int(L[z])],[int(L[z])], color='red', s=1)\n",
    "    width, height = L[z+1]-L[z],L[z+1]-L[z]\n",
    "    ax.add_patch(rect)\n",
    "rect = patches.Rectangle((L[z],L[z]),width,height,linewidth=2,edgecolor='r',facecolor='none')\n",
    "ax.add_patch(rect)\n",
    "\n",
    "plt.savefig('modelPredictionDTC4.eps') \n",
    "plt.show()"
   ]
  },
  {
   "cell_type": "code",
   "execution_count": 44,
   "metadata": {},
   "outputs": [],
   "source": [
    "x = classifier_linear.predict(xpred)"
   ]
  },
  {
   "cell_type": "code",
   "execution_count": 50,
   "metadata": {},
   "outputs": [
    {
     "data": {
      "image/png": "[encoded data removed]",
      "text/plain": [
       "<matplotlib.figure.Figure at 0x7f3f50b860b8>"
      ]
     },
     "metadata": {},
     "output_type": "display_data"
    }
   ],
   "source": [
    "import matplotlib.patches as patches\n",
    "from PIL import Image\n",
    "import matplotlib.pyplot as plt\n",
    "\n",
    "L=[]\n",
    "for i in range(0,len(x)):\n",
    "    if x[i]==1:\n",
    "        L.append(i)\n",
    "L.append(Aa.shape[0])\n",
    "import matplotlib.pyplot as plt\n",
    "fig,ax = plt.subplots(1)\n",
    "B = Aa.astype('float32')*255.0/65536.0\n",
    "B = B.astype('uint16')\n",
    "ax.imshow(B, cmap='gray')\n",
    "width,height = L[0],L[0]\n",
    "for z in range(0,len(L)-1):\n",
    "    rect = patches.Rectangle((L[z],L[z]),-width,-height,linewidth=1,edgecolor='r',facecolor='none')\n",
    "#     plt.scatter([int(L[z])],[int(L[z])], color='red', s=1)\n",
    "    width, height = L[z+1]-L[z],L[z+1]-L[z]\n",
    "    ax.add_patch(rect)\n",
    "rect = patches.Rectangle((L[z],L[z]),width,height,linewidth=2,edgecolor='r',facecolor='none')\n",
    "ax.add_patch(rect)\n",
    "\n",
    "plt.savefig('modelPredictionSVMlinear4.png')\n",
    "plt.show()"
   ]
  },
  {
   "cell_type": "code",
   "execution_count": 209,
   "metadata": {},
   "outputs": [],
   "source": [
    "a=[[1,2,3],[4,5,6]]"
   ]
  },
  {
   "cell_type": "code",
   "execution_count": 18,
   "metadata": {},
   "outputs": [
    {
     "data": {
      "text/plain": [
       "[[1, 2, 3]]"
      ]
     },
     "execution_count": 18,
     "metadata": {},
     "output_type": "execute_result"
    }
   ],
   "source": [
    "a[:][0:1]"
   ]
  },
  {
   "cell_type": "code",
   "execution_count": null,
   "metadata": {},
   "outputs": [],
   "source": []
  },
  {
   "cell_type": "code",
   "execution_count": null,
   "metadata": {},
   "outputs": [],
   "source": []
  },
  {
   "cell_type": "code",
   "execution_count": null,
   "metadata": {},
   "outputs": [],
   "source": []
  },
  {
   "cell_type": "code",
   "execution_count": null,
   "metadata": {},
   "outputs": [],
   "source": []
  },
  {
   "cell_type": "code",
   "execution_count": 23,
   "metadata": {},
   "outputs": [
    {
     "name": "stdout",
     "output_type": "stream",
     "text": [
      "[255 255 255 ... 255 255 255]\n"
     ]
    }
   ],
   "source": [
    "from PIL import Image\n",
    "import numpy as np\n",
    "import sys\n",
    "import os\n",
    "import csv\n",
    "img_file = Image.open('Ivatest.jpg')\n",
    "    # img_file.show()\n",
    "\n",
    "# get original image parameters...\n",
    "width, height = img_file.size\n",
    "format = img_file.format\n",
    "mode = img_file.mode\n",
    "\n",
    "# Make image Greyscale\n",
    "img_grey = img_file.convert('L')\n",
    "#img_grey.save('result.png')\n",
    "#img_grey.show()\n",
    "\n",
    "# Save Greyscale values\n",
    "value = np.asarray(img_grey.getdata(), dtype=np.int).reshape((img_grey.size[1], img_grey.size[0]))\n",
    "value = value.flatten()\n",
    "print(value)\n",
    "with open(\"Ivatest.csv\", 'a') as f:\n",
    "    writer = csv.writer(f)\n",
    "    writer.writerow(value)"
   ]
  },
  {
   "cell_type": "code",
   "execution_count": null,
   "metadata": {},
   "outputs": [],
   "source": []
  },
  {
   "cell_type": "code",
   "execution_count": null,
   "metadata": {},
   "outputs": [],
   "source": []
  },
  {
   "cell_type": "code",
   "execution_count": 20,
   "metadata": {},
   "outputs": [
    {
     "data": {
      "text/plain": [
       "<matplotlib.image.AxesImage at 0x284a9cf35f8>"
      ]
     },
     "execution_count": 20,
     "metadata": {},
     "output_type": "execute_result"
    },
    {
     "data": {
      "image/png": "[encoded data removed]",
      "text/plain": [
       "<matplotlib.figure.Figure at 0x284a77aad68>"
      ]
     },
     "metadata": {
      "needs_background": "light"
     },
     "output_type": "display_data"
    }
   ],
   "source": [
    "import matplotlib.image as img\n",
    "import matplotlib.pyplot as plt\n",
    "image = img.imread('Ivatest.jpg')\n",
    "#print(image)\n",
    "plt.imshow(image)"
   ]
  },
  {
   "cell_type": "code",
   "execution_count": null,
   "metadata": {},
   "outputs": [],
   "source": []
  }
 ],
 "metadata": {
  "kernelspec": {
   "display_name": "Python 3",
   "language": "python",
   "name": "python3"
  },
  "language_info": {
   "codemirror_mode": {
    "name": "ipython",
    "version": 3
   },
   "file_extension": ".py",
   "mimetype": "text/x-python",
   "name": "python",
   "nbconvert_exporter": "python",
   "pygments_lexer": "ipython3",
   "version": "3.5.2"
  },
  "widgets": {
   "state": {},
   "version": "1.1.2"
  }
 },
 "nbformat": 4,
 "nbformat_minor": 4
}
