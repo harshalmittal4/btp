{
 "cells": [
  {
   "cell_type": "code",
   "execution_count": 1,
   "metadata": {},
   "outputs": [],
   "source": [
    "import pandas as pd\n",
    "import numpy as np\n",
    "import math\n",
    "import csv"
   ]
  },
  {
   "cell_type": "code",
   "execution_count": null,
   "metadata": {},
   "outputs": [],
   "source": []
  },
  {
   "cell_type": "code",
   "execution_count": 2,
   "metadata": {},
   "outputs": [],
   "source": [
    "def flat_list(ri, ci):\n",
    "    flat_list = []\n",
    "    for r in range(ri-3, ri+4):\n",
    "        for c in range(ci-3, ci+4):\n",
    "            flat_list.append(B[c, r])\n",
    "    flat_list.append(1)\n",
    "    return flat_list"
   ]
  },
  {
   "cell_type": "code",
   "execution_count": 12,
   "metadata": {},
   "outputs": [],
   "source": [
    "for m in range(101, 201):\n",
    "    try:\n",
    "        C=pd.read_excel('Label%d.xlsx' %m, header=None)  #labels\n",
    "        a = pd.read_excel('iVat%d.xlsx' %m, header = None)\n",
    "        A = np.array(a)\n",
    "        rows = A.shape[1]\n",
    "        cols = A.shape[0]\n",
    "        maxValue = np.amax(A)\n",
    "        minValue = np.amin(A)\n",
    "        for x in range(cols):\n",
    "            for y in range(rows):\n",
    "                A[x,y]=math.ceil(((A[x,y]-minValue)/(maxValue-minValue))*255) ### Normalization\n",
    "\n",
    "        B=np.pad(A, ((3,3),(3,3)), 'constant',constant_values=255)####Padding\n",
    "\n",
    "        cord = C.to_numpy()\n",
    "\n",
    "        data = []\n",
    "\n",
    "        for i in range(len(cord)):\n",
    "            c = cord[i][0]\n",
    "            r = cord[i][1]\n",
    "            if c!=1:\n",
    "                c+=1\n",
    "            data.append(flat_list(r-1+3, c-1+3))  # to include python indexing and padding shift\n",
    "\n",
    "        with open(\"feat_vect101-200.csv\", 'a', newline=\"\") as f:\n",
    "            writer = csv.writer(f)\n",
    "            writer.writerows(data)\n",
    "        \n",
    "    except:\n",
    "        continue"
   ]
  },
  {
   "cell_type": "code",
   "execution_count": 5,
   "metadata": {},
   "outputs": [
    {
     "data": {
      "text/plain": [
       "(1008, 1008)"
      ]
     },
     "execution_count": 5,
     "metadata": {},
     "output_type": "execute_result"
    }
   ],
   "source": [
    "A.shape"
   ]
  },
  {
   "cell_type": "code",
   "execution_count": 8,
   "metadata": {},
   "outputs": [
    {
     "data": {
      "text/plain": [
       "253"
      ]
     },
     "execution_count": 8,
     "metadata": {},
     "output_type": "execute_result"
    }
   ],
   "source": [
    "c"
   ]
  },
  {
   "cell_type": "code",
   "execution_count": 7,
   "metadata": {},
   "outputs": [
    {
     "data": {
      "text/plain": [
       "672"
      ]
     },
     "execution_count": 7,
     "metadata": {},
     "output_type": "execute_result"
    }
   ],
   "source": [
    "r"
   ]
  },
  {
   "cell_type": "code",
   "execution_count": 11,
   "metadata": {},
   "outputs": [
    {
     "data": {
      "text/plain": [
       "[array([255, 255, 255,  91,  91,  91,  91]),\n",
       " array([255, 255, 255,  91,  91,  91,  91]),\n",
       " array([255, 255, 255,  91,  91,  91,  91]),\n",
       " array([255, 255, 255,  91,  91,  91,  91]),\n",
       " array([255, 255, 255, 255, 255, 255, 255]),\n",
       " array([255, 255, 255, 255, 255, 255, 255]),\n",
       " array([255, 255, 255, 255, 255, 255, 255])]"
      ]
     },
     "execution_count": 11,
     "metadata": {},
     "output_type": "execute_result"
    }
   ],
   "source": [
    "[r[252:259] for r in B[671:678]]"
   ]
  },
  {
   "cell_type": "code",
   "execution_count": 106,
   "metadata": {},
   "outputs": [
    {
     "data": {
      "text/plain": [
       "255"
      ]
     },
     "execution_count": 106,
     "metadata": {},
     "output_type": "execute_result"
    }
   ],
   "source": [
    "A[248][874]"
   ]
  },
  {
   "cell_type": "code",
   "execution_count": 3,
   "metadata": {},
   "outputs": [],
   "source": [
    "import xlrd"
   ]
  },
  {
   "cell_type": "code",
   "execution_count": 22,
   "metadata": {},
   "outputs": [
    {
     "data": {
      "text/plain": [
       "array([[  0,   3,   3, ..., 255, 255, 255],\n",
       "       [  3,   0,   1, ..., 255, 255, 255],\n",
       "       [  3,   1,   0, ..., 255, 255, 255],\n",
       "       ...,\n",
       "       [255, 255, 255, ...,   0,   6,   9],\n",
       "       [255, 255, 255, ...,   6,   0,   9],\n",
       "       [255, 255, 255, ...,   9,   9,   0]])"
      ]
     },
     "execution_count": 22,
     "metadata": {},
     "output_type": "execute_result"
    }
   ],
   "source": [
    "A"
   ]
  },
  {
   "cell_type": "code",
   "execution_count": 24,
   "metadata": {},
   "outputs": [
    {
     "data": {
      "text/plain": [
       "(1006, 1006)"
      ]
     },
     "execution_count": 24,
     "metadata": {},
     "output_type": "execute_result"
    }
   ],
   "source": [
    "A.shape\n",
    "B.shape"
   ]
  },
  {
   "cell_type": "code",
   "execution_count": 26,
   "metadata": {},
   "outputs": [
    {
     "data": {
      "text/plain": [
       "3"
      ]
     },
     "execution_count": 26,
     "metadata": {},
     "output_type": "execute_result"
    }
   ],
   "source": [
    "A[0,1]"
   ]
  },
  {
   "cell_type": "code",
   "execution_count": null,
   "metadata": {},
   "outputs": [],
   "source": []
  }
 ],
 "metadata": {
  "kernelspec": {
   "display_name": "Python 3",
   "language": "python",
   "name": "python3"
  },
  "language_info": {
   "codemirror_mode": {
    "name": "ipython",
    "version": 3
   },
   "file_extension": ".py",
   "mimetype": "text/x-python",
   "name": "python",
   "nbconvert_exporter": "python",
   "pygments_lexer": "ipython3",
   "version": "3.5.2"
  }
 },
 "nbformat": 4,
 "nbformat_minor": 2
}
