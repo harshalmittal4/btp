{
 "cells": [
  {
   "cell_type": "code",
   "execution_count": 1,
   "metadata": {},
   "outputs": [],
   "source": [
    "#Convolutional Neural Network"
   ]
  },
  {
   "cell_type": "code",
   "execution_count": 1,
   "metadata": {},
   "outputs": [
    {
     "name": "stderr",
     "output_type": "stream",
     "text": [
      "Using TensorFlow backend.\n"
     ]
    }
   ],
   "source": [
    "#importing libraries\n",
    "import keras\n",
    "from keras.applications.resnet50 import ResNet50\n",
    "from keras.preprocessing import image\n",
    "from keras.applications.resnet50 import preprocess_input, decode_predictions\n",
    "from keras.models import Sequential\n",
    "from keras.layers.core import Dense, Dropout, Activation, Flatten\n",
    "from keras.layers.convolutional import Convolution2D, MaxPooling2D\n",
    "from sklearn.model_selection import train_test_split\n",
    "import pandas as pd\n",
    "import numpy as np \n",
    "import matplotlib.pyplot as plt\n"
   ]
  },
  {
   "cell_type": "code",
   "execution_count": 2,
   "metadata": {},
   "outputs": [],
   "source": [
    "data = pd.read_csv('TrueFinal.csv')"
   ]
  },
  {
   "cell_type": "markdown",
   "metadata": {},
   "source": [
    "# data.head()"
   ]
  },
  {
   "cell_type": "code",
   "execution_count": 3,
   "metadata": {},
   "outputs": [
    {
     "data": {
      "text/plain": [
       "{0: 912, 1: 885}"
      ]
     },
     "execution_count": 3,
     "metadata": {},
     "output_type": "execute_result"
    }
   ],
   "source": [
    "data.head()\n",
    "unique, counts = np.unique(data.iloc[:,0], return_counts=True)\n",
    "dict(zip(unique, counts))\n"
   ]
  },
  {
   "cell_type": "code",
   "execution_count": 5,
   "metadata": {},
   "outputs": [
    {
     "data": {
      "text/plain": [
       "<matplotlib.image.AxesImage at 0x7f5dc7dafd50>"
      ]
     },
     "execution_count": 5,
     "metadata": {},
     "output_type": "execute_result"
    },
    {
     "data": {
      "image/png": "[encoded data removed]",
      "text/plain": [
       "<Figure size 432x288 with 1 Axes>"
      ]
     },
     "metadata": {
      "needs_background": "light"
     },
     "output_type": "display_data"
    }
   ],
   "source": [
    "#reshaping into array\n",
    "plt.imshow(data.iloc[4,1:].values.reshape(7,7).astype('uint8'),cmap=\"gray\")"
   ]
  },
  {
   "cell_type": "code",
   "execution_count": 5,
   "metadata": {},
   "outputs": [
    {
     "data": {
      "text/plain": [
       "<matplotlib.image.AxesImage at 0x2dcb6742ac8>"
      ]
     },
     "execution_count": 5,
     "metadata": {},
     "output_type": "execute_result"
    },
    {
     "data": {
      "image/png": "[encoded data removed]",
      "text/plain": [
       "<matplotlib.figure.Figure at 0x2dcb0f27550>"
      ]
     },
     "metadata": {
      "needs_background": "light"
     },
     "output_type": "display_data"
    }
   ],
   "source": [
    "plt.imshow(data.iloc[0,1:].values.reshape(7,7).astype('uint16'),cmap=\"gray\")"
   ]
  },
  {
   "cell_type": "code",
   "execution_count": 6,
   "metadata": {},
   "outputs": [
    {
     "data": {
      "text/plain": [
       "<matplotlib.image.AxesImage at 0x2dcb678b0f0>"
      ]
     },
     "execution_count": 6,
     "metadata": {},
     "output_type": "execute_result"
    },
    {
     "data": {
      "image/png": "[encoded data removed]",
      "text/plain": [
       "<matplotlib.figure.Figure at 0x2dcb0f41fd0>"
      ]
     },
     "metadata": {
      "needs_background": "light"
     },
     "output_type": "display_data"
    }
   ],
   "source": [
    "plt.imshow(data.iloc[0,1:].values.reshape(7,7),cmap=\"gray\")"
   ]
  },
  {
   "cell_type": "code",
   "execution_count": null,
   "metadata": {},
   "outputs": [],
   "source": []
  },
  {
   "cell_type": "code",
   "execution_count": 7,
   "metadata": {},
   "outputs": [
    {
     "data": {
      "text/plain": [
       "array([[ 0,  0,  0,  0,  0,  0,  0],\n",
       "       [ 0,  0,  0,  0,  0,  0,  0],\n",
       "       [ 0,  0,  0,  0,  0,  0,  0],\n",
       "       [ 0,  0,  0,  0, 19, 19, 19],\n",
       "       [ 0,  0,  0, 19,  0, 36, 67],\n",
       "       [ 0,  0,  0, 19, 36,  0, 67],\n",
       "       [ 0,  0,  0, 19, 67, 67,  0]], dtype=uint8)"
      ]
     },
     "execution_count": 7,
     "metadata": {},
     "output_type": "execute_result"
    }
   ],
   "source": [
    "data.iloc[0,1:].values.reshape(7,7).astype('uint8')"
   ]
  },
  {
   "cell_type": "code",
   "execution_count": 8,
   "metadata": {},
   "outputs": [
    {
     "data": {
      "text/plain": [
       "array([[  0.,   0.,   0.,   0.,   0.,   0.,   0.],\n",
       "       [  0.,   0.,   0.,   0.,   0.,   0.,   0.],\n",
       "       [  0.,   0.,   0.,   0.,   0.,   0.,   0.],\n",
       "       [  0.,   0.,   0.,   0., 531., 531., 531.],\n",
       "       [  0.,   0.,   0., 531.,   0.,  36., 323.],\n",
       "       [  0.,   0.,   0., 531.,  36.,   0., 323.],\n",
       "       [  0.,   0.,   0., 531., 323., 323.,   0.]])"
      ]
     },
     "execution_count": 8,
     "metadata": {},
     "output_type": "execute_result"
    }
   ],
   "source": [
    "data.iloc[0,1:].values.reshape(7,7)"
   ]
  },
  {
   "cell_type": "code",
   "execution_count": 9,
   "metadata": {},
   "outputs": [],
   "source": [
    "#preprocessing data "
   ]
  },
  {
   "cell_type": "code",
   "execution_count": 10,
   "metadata": {},
   "outputs": [],
   "source": [
    "#Storing Pixel array in form length width and channel in df_x\n",
    "df_x = data.iloc[:,1:].values.reshape(len(data),7,7,1).astype('uint8')/255\n",
    "\n",
    "#Storing the labels in y\n",
    "df_y = pd.get_dummies(data.iloc[:,0].values) # changed y to df_y"
   ]
  },
  {
   "cell_type": "code",
   "execution_count": 11,
   "metadata": {},
   "outputs": [],
   "source": [
    "#Converting labels to categorical features\n",
    "\n",
    "#df_y = keras.utils.to_categorical(y,num_classes=2)"
   ]
  },
  {
   "cell_type": "code",
   "execution_count": 12,
   "metadata": {},
   "outputs": [],
   "source": [
    "df_x = np.array(df_x)\n",
    "df_y = np.array(df_y)"
   ]
  },
  {
   "cell_type": "code",
   "execution_count": null,
   "metadata": {},
   "outputs": [],
   "source": []
  },
  {
   "cell_type": "code",
   "execution_count": 13,
   "metadata": {},
   "outputs": [
    {
     "name": "stdout",
     "output_type": "stream",
     "text": [
      "[0 0 0 ... 0 0 0]\n"
     ]
    },
    {
     "data": {
      "text/plain": [
       "array([[1, 0],\n",
       "       [1, 0],\n",
       "       [1, 0],\n",
       "       ...,\n",
       "       [1, 0],\n",
       "       [1, 0],\n",
       "       [1, 0]], dtype=uint8)"
      ]
     },
     "execution_count": 13,
     "metadata": {},
     "output_type": "execute_result"
    }
   ],
   "source": [
    "#categorical labels\n",
    "print(data.iloc[:,0].values)\n",
    "df_y"
   ]
  },
  {
   "cell_type": "code",
   "execution_count": 14,
   "metadata": {},
   "outputs": [
    {
     "data": {
      "text/plain": [
       "(1797, 7, 7, 1)"
      ]
     },
     "execution_count": 14,
     "metadata": {},
     "output_type": "execute_result"
    }
   ],
   "source": [
    "df_x.shape"
   ]
  },
  {
   "cell_type": "code",
   "execution_count": 15,
   "metadata": {},
   "outputs": [],
   "source": [
    "#test train split\n",
    "\n",
    "x_train, x_test, y_train, y_test = train_test_split(df_x,df_y,test_size=0.1,random_state=4)"
   ]
  },
  {
   "cell_type": "code",
   "execution_count": 16,
   "metadata": {},
   "outputs": [],
   "source": [
    "#CNN model\n",
    "model = Sequential()\n",
    "model.add(Convolution2D(32,kernel_size=(1,1),data_format='channels_last',padding=\"same\",input_shape=(7,7,1)))\n",
    "#model.add(Convolution2D(32,kernel_size=(1,1),padding=\"same\",input_shape=(7,7,1)))\n",
    "model.add(MaxPooling2D(pool_size=(2,2)))\n",
    "model.add(Convolution2D(64, (1, 1), padding=\"same\"))\n",
    "#model.add(MaxPooling2D(pool_size=(2, 2)))\n",
    "#model.add(Convolution2D(128, (1, 1), padding=\"same\"))\n",
    "#model.add(MaxPooling2D(pool_size=(1, 1)))\n",
    "model.add(Flatten())\n",
    "model.add(Dense(50))\n",
    "model.add(Dropout(0.5))\n",
    "model.add(Dense(2))\n",
    "model.add(Activation('softmax'))\n",
    "model.compile(loss='categorical_crossentropy', optimizer = 'adadelta', metrics = ['accuracy'])"
   ]
  },
  {
   "cell_type": "code",
   "execution_count": 17,
   "metadata": {},
   "outputs": [
    {
     "name": "stdout",
     "output_type": "stream",
     "text": [
      "_________________________________________________________________\n",
      "Layer (type)                 Output Shape              Param #   \n",
      "=================================================================\n",
      "conv2d_1 (Conv2D)            (None, 7, 7, 32)          64        \n",
      "_________________________________________________________________\n",
      "max_pooling2d_1 (MaxPooling2 (None, 3, 3, 32)          0         \n",
      "_________________________________________________________________\n",
      "conv2d_2 (Conv2D)            (None, 3, 3, 64)          2112      \n",
      "_________________________________________________________________\n",
      "flatten_1 (Flatten)          (None, 576)               0         \n",
      "_________________________________________________________________\n",
      "dense_1 (Dense)              (None, 50)                28850     \n",
      "_________________________________________________________________\n",
      "dropout_1 (Dropout)          (None, 50)                0         \n",
      "_________________________________________________________________\n",
      "dense_2 (Dense)              (None, 2)                 102       \n",
      "_________________________________________________________________\n",
      "activation_1 (Activation)    (None, 2)                 0         \n",
      "=================================================================\n",
      "Total params: 31,128\n",
      "Trainable params: 31,128\n",
      "Non-trainable params: 0\n",
      "_________________________________________________________________\n"
     ]
    }
   ],
   "source": [
    "model.summary()"
   ]
  },
  {
   "cell_type": "code",
   "execution_count": 18,
   "metadata": {},
   "outputs": [
    {
     "name": "stdout",
     "output_type": "stream",
     "text": [
      "Train on 1617 samples, validate on 180 samples\n",
      "Epoch 1/25\n",
      "1617/1617 [==============================] - 1s 561us/step - loss: 0.3814 - acc: 0.8361 - val_loss: 0.1964 - val_acc: 0.9389\n",
      "Epoch 2/25\n",
      "1617/1617 [==============================] - 0s 90us/step - loss: 0.2686 - acc: 0.8949 - val_loss: 0.1822 - val_acc: 0.9389\n",
      "Epoch 3/25\n",
      "1617/1617 [==============================] - 0s 93us/step - loss: 0.2488 - acc: 0.9079 - val_loss: 0.1662 - val_acc: 0.9444\n",
      "Epoch 4/25\n",
      "1617/1617 [==============================] - 0s 89us/step - loss: 0.2326 - acc: 0.9147 - val_loss: 0.1618 - val_acc: 0.9500\n",
      "Epoch 5/25\n",
      "1617/1617 [==============================] - 0s 89us/step - loss: 0.2244 - acc: 0.9159 - val_loss: 0.1270 - val_acc: 0.9611\n",
      "Epoch 6/25\n",
      "1617/1617 [==============================] - 0s 91us/step - loss: 0.2241 - acc: 0.9184 - val_loss: 0.1616 - val_acc: 0.9444\n",
      "Epoch 7/25\n",
      "1617/1617 [==============================] - 0s 94us/step - loss: 0.2143 - acc: 0.9177 - val_loss: 0.1485 - val_acc: 0.9500\n",
      "Epoch 8/25\n",
      "1617/1617 [==============================] - 0s 91us/step - loss: 0.2084 - acc: 0.9344 - val_loss: 0.1110 - val_acc: 0.9611\n",
      "Epoch 9/25\n",
      "1617/1617 [==============================] - 0s 88us/step - loss: 0.2246 - acc: 0.9202 - val_loss: 0.1254 - val_acc: 0.9611\n",
      "Epoch 10/25\n",
      "1617/1617 [==============================] - 0s 101us/step - loss: 0.2077 - acc: 0.9239 - val_loss: 0.1119 - val_acc: 0.9667\n",
      "Epoch 11/25\n",
      "1617/1617 [==============================] - 0s 90us/step - loss: 0.2135 - acc: 0.9239 - val_loss: 0.1109 - val_acc: 0.9667\n",
      "Epoch 12/25\n",
      "1617/1617 [==============================] - 0s 93us/step - loss: 0.2049 - acc: 0.9264 - val_loss: 0.0962 - val_acc: 0.9667\n",
      "Epoch 13/25\n",
      "1617/1617 [==============================] - 0s 111us/step - loss: 0.1966 - acc: 0.9239 - val_loss: 0.1069 - val_acc: 0.9611\n",
      "Epoch 14/25\n",
      "1617/1617 [==============================] - 0s 102us/step - loss: 0.2005 - acc: 0.9351 - val_loss: 0.1639 - val_acc: 0.9333\n",
      "Epoch 15/25\n",
      "1617/1617 [==============================] - 0s 96us/step - loss: 0.1915 - acc: 0.9307 - val_loss: 0.1397 - val_acc: 0.9556\n",
      "Epoch 16/25\n",
      "1617/1617 [==============================] - 0s 92us/step - loss: 0.1876 - acc: 0.9357 - val_loss: 0.0880 - val_acc: 0.9722\n",
      "Epoch 17/25\n",
      "1617/1617 [==============================] - 0s 89us/step - loss: 0.1960 - acc: 0.9320 - val_loss: 0.1117 - val_acc: 0.9611\n",
      "Epoch 18/25\n",
      "1617/1617 [==============================] - 0s 91us/step - loss: 0.1950 - acc: 0.9314 - val_loss: 0.1195 - val_acc: 0.9611\n",
      "Epoch 19/25\n",
      "1617/1617 [==============================] - 0s 89us/step - loss: 0.1994 - acc: 0.9363 - val_loss: 0.0934 - val_acc: 0.9722\n",
      "Epoch 20/25\n",
      "1617/1617 [==============================] - 0s 88us/step - loss: 0.2049 - acc: 0.9326 - val_loss: 0.1194 - val_acc: 0.9667\n",
      "Epoch 21/25\n",
      "1617/1617 [==============================] - 0s 103us/step - loss: 0.1908 - acc: 0.9307 - val_loss: 0.1160 - val_acc: 0.9722\n",
      "Epoch 22/25\n",
      "1617/1617 [==============================] - 0s 99us/step - loss: 0.2062 - acc: 0.9295 - val_loss: 0.1293 - val_acc: 0.9611\n",
      "Epoch 23/25\n",
      "1617/1617 [==============================] - 0s 91us/step - loss: 0.1926 - acc: 0.9351 - val_loss: 0.1001 - val_acc: 0.9611\n",
      "Epoch 24/25\n",
      "1617/1617 [==============================] - 0s 89us/step - loss: 0.1872 - acc: 0.9307 - val_loss: 0.1444 - val_acc: 0.9556\n",
      "Epoch 25/25\n",
      "1617/1617 [==============================] - 0s 92us/step - loss: 0.1946 - acc: 0.9363 - val_loss: 0.0853 - val_acc: 0.9667\n"
     ]
    },
    {
     "data": {
      "text/plain": [
       "<keras.callbacks.History at 0x2dcb674abe0>"
      ]
     },
     "execution_count": 18,
     "metadata": {},
     "output_type": "execute_result"
    }
   ],
   "source": [
    "#fitting it\n",
    "\n",
    "model.fit(x_train,y_train,validation_data=(x_test,y_test),epochs=25)"
   ]
  },
  {
   "cell_type": "code",
   "execution_count": null,
   "metadata": {},
   "outputs": [],
   "source": []
  },
  {
   "cell_type": "code",
   "execution_count": null,
   "metadata": {},
   "outputs": [],
   "source": []
  },
  {
   "cell_type": "code",
   "execution_count": null,
   "metadata": {},
   "outputs": [],
   "source": []
  },
  {
   "cell_type": "code",
   "execution_count": 130,
   "metadata": {},
   "outputs": [
    {
     "name": "stdout",
     "output_type": "stream",
     "text": [
      "180/180 [==============================] - 0s 61us/step\n"
     ]
    },
    {
     "data": {
      "text/plain": [
       "[0.2901955744975971, 0.9611111111111111]"
      ]
     },
     "execution_count": 130,
     "metadata": {},
     "output_type": "execute_result"
    }
   ],
   "source": [
    "model.evaluate(x_test,y_test)\n"
   ]
  },
  {
   "cell_type": "code",
   "execution_count": 45,
   "metadata": {},
   "outputs": [
    {
     "name": "stdout",
     "output_type": "stream",
     "text": [
      "[[1.00000000e+00 4.12194827e-20]\n",
      " [4.85283556e-15 1.00000000e+00]\n",
      " [1.00000000e+00 1.64858839e-31]\n",
      " [1.00000000e+00 6.14221427e-23]\n",
      " [1.00000000e+00 7.89802926e-28]\n",
      " [6.25627894e-34 1.00000000e+00]\n",
      " [1.00000000e+00 1.34229820e-24]\n",
      " [1.00000000e+00 1.39328251e-20]\n",
      " [2.74330447e-03 9.97256696e-01]\n",
      " [4.90345883e-07 9.99999523e-01]\n",
      " [1.34655840e-19 1.00000000e+00]\n",
      " [7.25643805e-20 1.00000000e+00]\n",
      " [1.00000000e+00 9.96423891e-32]\n",
      " [1.00000000e+00 1.00554505e-18]\n",
      " [7.84297407e-26 1.00000000e+00]\n",
      " [1.00000000e+00 1.01240335e-19]\n",
      " [1.00000000e+00 1.45042026e-14]\n",
      " [3.65658407e-27 1.00000000e+00]\n",
      " [1.00000000e+00 5.83966300e-19]\n",
      " [1.00000000e+00 3.76373746e-38]\n",
      " [1.00000000e+00 0.00000000e+00]\n",
      " [6.73805759e-12 1.00000000e+00]\n",
      " [1.00000000e+00 1.03883318e-36]\n",
      " [0.00000000e+00 1.00000000e+00]\n",
      " [1.00000000e+00 4.88716173e-17]\n",
      " [1.00000000e+00 0.00000000e+00]\n",
      " [1.00000000e+00 0.00000000e+00]\n",
      " [1.30445522e-22 1.00000000e+00]\n",
      " [6.46967229e-32 1.00000000e+00]\n",
      " [9.03958374e-25 1.00000000e+00]\n",
      " [0.00000000e+00 1.00000000e+00]\n",
      " [1.00000000e+00 0.00000000e+00]\n",
      " [1.00000000e+00 2.89407647e-11]\n",
      " [8.99739620e-27 1.00000000e+00]\n",
      " [1.30439171e-09 1.00000000e+00]\n",
      " [1.00000000e+00 1.83028897e-21]\n",
      " [9.99999285e-01 6.83248572e-07]\n",
      " [1.00000000e+00 1.12005282e-24]\n",
      " [0.00000000e+00 1.00000000e+00]\n",
      " [5.26296529e-29 1.00000000e+00]\n",
      " [1.00000000e+00 1.91598420e-28]\n",
      " [1.00000000e+00 4.64443468e-18]\n",
      " [2.70331448e-33 1.00000000e+00]\n",
      " [2.25672974e-12 1.00000000e+00]\n",
      " [1.00000000e+00 0.00000000e+00]\n",
      " [1.00000000e+00 2.98316419e-20]\n",
      " [1.69960180e-18 1.00000000e+00]\n",
      " [9.62984264e-01 3.70157436e-02]\n",
      " [1.48085185e-20 1.00000000e+00]\n",
      " [8.78255486e-01 1.21744499e-01]\n",
      " [1.00000000e+00 0.00000000e+00]\n",
      " [1.25330531e-15 1.00000000e+00]\n",
      " [1.00000000e+00 4.73948761e-34]\n",
      " [0.00000000e+00 1.00000000e+00]\n",
      " [1.00000000e+00 4.81780182e-25]\n",
      " [3.39678867e-04 9.99660373e-01]\n",
      " [1.11933922e-32 1.00000000e+00]\n",
      " [7.15245260e-33 1.00000000e+00]\n",
      " [1.00000000e+00 1.00934872e-20]\n",
      " [1.00000000e+00 1.32995967e-30]\n",
      " [1.00000000e+00 0.00000000e+00]\n",
      " [1.00000000e+00 7.15141976e-17]\n",
      " [1.00000000e+00 2.85887385e-20]\n",
      " [1.00000000e+00 8.01036277e-19]\n",
      " [1.77627479e-11 1.00000000e+00]\n",
      " [1.00000000e+00 3.72618680e-27]\n",
      " [1.00000000e+00 3.15054791e-28]\n",
      " [4.02283949e-05 9.99959826e-01]\n",
      " [1.41009768e-14 1.00000000e+00]\n",
      " [1.00000000e+00 3.21117665e-15]\n",
      " [2.15270832e-24 1.00000000e+00]\n",
      " [1.00000000e+00 4.75548280e-25]\n",
      " [4.61273559e-28 1.00000000e+00]\n",
      " [1.00000000e+00 4.44149460e-20]\n",
      " [3.57734109e-08 1.00000000e+00]\n",
      " [1.00000000e+00 9.07197745e-27]\n",
      " [0.00000000e+00 1.00000000e+00]\n",
      " [1.00000000e+00 6.20714710e-25]\n",
      " [1.00000000e+00 0.00000000e+00]\n",
      " [6.74835698e-09 1.00000000e+00]\n",
      " [2.26902014e-36 1.00000000e+00]\n",
      " [1.00000000e+00 7.01160197e-09]\n",
      " [1.00000000e+00 0.00000000e+00]\n",
      " [1.00000000e+00 5.61639609e-20]\n",
      " [5.58693578e-25 1.00000000e+00]\n",
      " [1.00000000e+00 4.91854127e-26]\n",
      " [1.00000000e+00 3.53209676e-20]\n",
      " [1.00000000e+00 1.21242297e-27]\n",
      " [3.82551979e-29 1.00000000e+00]\n",
      " [9.93927240e-01 6.07274286e-03]\n",
      " [1.00000000e+00 2.15820278e-11]\n",
      " [3.78195424e-25 1.00000000e+00]\n",
      " [1.00000000e+00 2.08729269e-20]\n",
      " [1.00000000e+00 7.24524516e-25]\n",
      " [1.00000000e+00 3.28856993e-37]\n",
      " [8.40930751e-34 1.00000000e+00]\n",
      " [1.00000000e+00 8.57430704e-21]\n",
      " [1.31588667e-20 1.00000000e+00]\n",
      " [2.23251554e-04 9.99776781e-01]\n",
      " [7.59659436e-12 1.00000000e+00]\n",
      " [1.00000000e+00 1.89540063e-24]\n",
      " [8.43789968e-28 1.00000000e+00]\n",
      " [1.00000000e+00 1.24565436e-24]\n",
      " [1.00000000e+00 1.56001000e-27]\n",
      " [2.57674214e-37 1.00000000e+00]\n",
      " [1.00000000e+00 0.00000000e+00]\n",
      " [1.00000000e+00 6.24480849e-12]\n",
      " [1.00000000e+00 4.95441565e-18]\n",
      " [1.00000000e+00 9.31252573e-17]\n",
      " [1.99792359e-37 1.00000000e+00]\n",
      " [1.00000000e+00 3.42864193e-19]\n",
      " [1.00000000e+00 0.00000000e+00]\n",
      " [3.00666299e-21 1.00000000e+00]\n",
      " [3.52316727e-13 1.00000000e+00]\n",
      " [1.00000000e+00 1.07386102e-26]\n",
      " [1.00000000e+00 1.72614182e-34]\n",
      " [1.09025231e-03 9.98909712e-01]\n",
      " [1.00000000e+00 4.57238785e-21]\n",
      " [1.00000000e+00 2.58873565e-27]\n",
      " [1.00000000e+00 0.00000000e+00]\n",
      " [4.08704165e-23 1.00000000e+00]\n",
      " [1.00000000e+00 6.85911402e-24]\n",
      " [1.00000000e+00 2.13454863e-37]\n",
      " [2.40173755e-33 1.00000000e+00]\n",
      " [6.22488727e-09 1.00000000e+00]\n",
      " [1.00000000e+00 5.21251660e-21]\n",
      " [0.00000000e+00 1.00000000e+00]\n",
      " [1.19628156e-08 1.00000000e+00]\n",
      " [1.40010452e-04 9.99859929e-01]\n",
      " [1.58672515e-18 1.00000000e+00]\n",
      " [1.00000000e+00 2.36854039e-08]\n",
      " [1.24570633e-32 1.00000000e+00]\n",
      " [1.00000000e+00 1.08249560e-23]\n",
      " [1.00000000e+00 4.06725286e-18]\n",
      " [1.18476261e-26 1.00000000e+00]\n",
      " [0.00000000e+00 1.00000000e+00]\n",
      " [1.00000000e+00 6.93655971e-22]\n",
      " [1.00000000e+00 2.37900580e-25]\n",
      " [1.00000000e+00 5.28116478e-37]\n",
      " [1.00000000e+00 8.27622976e-16]\n",
      " [7.09116232e-33 1.00000000e+00]\n",
      " [1.00000000e+00 5.20249665e-24]\n",
      " [1.11443987e-24 1.00000000e+00]\n",
      " [1.00000000e+00 1.93891084e-19]\n",
      " [0.00000000e+00 1.00000000e+00]\n",
      " [1.00000000e+00 1.01179877e-31]\n",
      " [1.00000000e+00 1.65354005e-22]\n",
      " [1.00000000e+00 0.00000000e+00]\n",
      " [1.00000000e+00 9.10982194e-25]\n",
      " [2.25912363e-20 1.00000000e+00]\n",
      " [0.00000000e+00 1.00000000e+00]\n",
      " [7.95928143e-34 1.00000000e+00]\n",
      " [6.17491804e-15 1.00000000e+00]\n",
      " [1.00000000e+00 0.00000000e+00]\n",
      " [1.00000000e+00 9.44353120e-24]\n",
      " [0.00000000e+00 1.00000000e+00]\n",
      " [1.00000000e+00 2.03487040e-26]\n",
      " [1.00000000e+00 3.06537000e-27]\n",
      " [1.00000000e+00 5.09942466e-37]\n",
      " [9.90129411e-01 9.87055805e-03]\n",
      " [1.00000000e+00 7.36545796e-34]\n",
      " [6.50246875e-05 9.99934912e-01]\n",
      " [1.00000000e+00 7.72579370e-35]\n",
      " [5.55215589e-25 1.00000000e+00]\n",
      " [2.02969744e-07 9.99999762e-01]\n",
      " [2.59201372e-29 1.00000000e+00]\n",
      " [1.00000000e+00 6.18298544e-13]\n",
      " [7.86908822e-23 1.00000000e+00]\n",
      " [9.01061800e-20 1.00000000e+00]\n",
      " [1.00000000e+00 1.94412983e-29]\n",
      " [1.23390131e-10 1.00000000e+00]\n",
      " [1.07172942e-25 1.00000000e+00]\n",
      " [2.08381653e-27 1.00000000e+00]\n",
      " [1.00000000e+00 6.95764278e-18]\n",
      " [1.12035987e-05 9.99988794e-01]\n",
      " [1.00000000e+00 6.29085719e-20]\n",
      " [0.00000000e+00 1.00000000e+00]\n",
      " [1.00000000e+00 1.61533774e-18]\n",
      " [1.07982367e-37 1.00000000e+00]\n",
      " [1.00000000e+00 9.74848896e-20]]\n",
      "[[1 0]\n",
      " [0 1]\n",
      " [1 0]\n",
      " [1 0]\n",
      " [1 0]\n",
      " [0 1]\n",
      " [1 0]\n",
      " [1 0]\n",
      " [0 1]\n",
      " [0 1]\n",
      " [0 1]\n",
      " [0 1]\n",
      " [1 0]\n",
      " [1 0]\n",
      " [0 1]\n",
      " [1 0]\n",
      " [0 1]\n",
      " [0 1]\n",
      " [1 0]\n",
      " [1 0]\n",
      " [1 0]\n",
      " [0 1]\n",
      " [1 0]\n",
      " [0 1]\n",
      " [1 0]\n",
      " [1 0]\n",
      " [1 0]\n",
      " [0 1]\n",
      " [0 1]\n",
      " [0 1]\n",
      " [0 1]\n",
      " [1 0]\n",
      " [1 0]\n",
      " [0 1]\n",
      " [0 1]\n",
      " [1 0]\n",
      " [1 0]\n",
      " [1 0]\n",
      " [0 1]\n",
      " [0 1]\n",
      " [1 0]\n",
      " [1 0]\n",
      " [0 1]\n",
      " [0 1]\n",
      " [1 0]\n",
      " [1 0]\n",
      " [0 1]\n",
      " [1 0]\n",
      " [0 1]\n",
      " [1 0]\n",
      " [1 0]\n",
      " [0 1]\n",
      " [1 0]\n",
      " [0 1]\n",
      " [1 0]\n",
      " [0 1]\n",
      " [0 1]\n",
      " [0 1]\n",
      " [1 0]\n",
      " [1 0]\n",
      " [1 0]\n",
      " [1 0]\n",
      " [1 0]\n",
      " [1 0]\n",
      " [0 1]\n",
      " [1 0]\n",
      " [1 0]\n",
      " [0 1]\n",
      " [0 1]\n",
      " [1 0]\n",
      " [0 1]\n",
      " [1 0]\n",
      " [0 1]\n",
      " [1 0]\n",
      " [0 1]\n",
      " [1 0]\n",
      " [0 1]\n",
      " [1 0]\n",
      " [1 0]\n",
      " [0 1]\n",
      " [0 1]\n",
      " [1 0]\n",
      " [1 0]\n",
      " [1 0]\n",
      " [0 1]\n",
      " [1 0]\n",
      " [1 0]\n",
      " [1 0]\n",
      " [0 1]\n",
      " [1 0]\n",
      " [1 0]\n",
      " [0 1]\n",
      " [1 0]\n",
      " [1 0]\n",
      " [1 0]\n",
      " [0 1]\n",
      " [1 0]\n",
      " [0 1]\n",
      " [0 1]\n",
      " [0 1]\n",
      " [1 0]\n",
      " [0 1]\n",
      " [1 0]\n",
      " [1 0]\n",
      " [0 1]\n",
      " [1 0]\n",
      " [1 0]\n",
      " [1 0]\n",
      " [1 0]\n",
      " [0 1]\n",
      " [1 0]\n",
      " [1 0]\n",
      " [0 1]\n",
      " [0 1]\n",
      " [1 0]\n",
      " [1 0]\n",
      " [0 1]\n",
      " [1 0]\n",
      " [1 0]\n",
      " [1 0]\n",
      " [0 1]\n",
      " [1 0]\n",
      " [1 0]\n",
      " [0 1]\n",
      " [0 1]\n",
      " [1 0]\n",
      " [0 1]\n",
      " [1 0]\n",
      " [0 1]\n",
      " [0 1]\n",
      " [1 0]\n",
      " [0 1]\n",
      " [1 0]\n",
      " [1 0]\n",
      " [0 1]\n",
      " [0 1]\n",
      " [1 0]\n",
      " [1 0]\n",
      " [1 0]\n",
      " [1 0]\n",
      " [0 1]\n",
      " [1 0]\n",
      " [0 1]\n",
      " [1 0]\n",
      " [0 1]\n",
      " [1 0]\n",
      " [1 0]\n",
      " [1 0]\n",
      " [1 0]\n",
      " [0 1]\n",
      " [0 1]\n",
      " [0 1]\n",
      " [0 1]\n",
      " [1 0]\n",
      " [1 0]\n",
      " [0 1]\n",
      " [1 0]\n",
      " [1 0]\n",
      " [1 0]\n",
      " [0 1]\n",
      " [1 0]\n",
      " [1 0]\n",
      " [1 0]\n",
      " [0 1]\n",
      " [1 0]\n",
      " [0 1]\n",
      " [1 0]\n",
      " [0 1]\n",
      " [0 1]\n",
      " [1 0]\n",
      " [0 1]\n",
      " [0 1]\n",
      " [0 1]\n",
      " [1 0]\n",
      " [0 1]\n",
      " [1 0]\n",
      " [0 1]\n",
      " [1 0]\n",
      " [0 1]\n",
      " [1 0]]\n"
     ]
    },
    {
     "data": {
      "text/plain": [
       "1.0"
      ]
     },
     "execution_count": 45,
     "metadata": {},
     "output_type": "execute_result"
    }
   ],
   "source": [
    "x=model.predict(x_test)\n",
    "print(model.predict(x_test))\n",
    "print(y_test)\n",
    "x[0][0]"
   ]
  },
  {
   "cell_type": "code",
   "execution_count": 165,
   "metadata": {},
   "outputs": [],
   "source": [
    "import numpy as np\n",
    "import csv\n",
    "def flat_list(l):\n",
    "    flat_list = []\n",
    "    for sublist in l:\n",
    "        for item in sublist:\n",
    "            flat_list.append(item)\n",
    "    return flat_list\n",
    "dat=[]\n",
    "m=9   \n",
    "A=np.loadtxt(open(\"iVAT%d.csv\" %m, \"rb\"), delimiter=\",\")\n",
    "A = A.astype(np.uint16)\n",
    "B=np.pad(A, ((3,3),(3,3)), 'constant',constant_values=0)\n",
    "C=np.loadtxt(open(\"labels%d.csv\" %m, \"rb\"), delimiter=\"/n\")\n",
    "for j in range(3,len(A)+3):\n",
    "    b=int(j-2 in C)\n",
    "    dat.append([b]+flat_list(B[j-3:j+4,j-3:j+4]))\n",
    "\n",
    "    \n",
    "\n",
    "with open(\"test4.csv\", \"w\", newline=\"\") as f:\n",
    "    writer = csv.writer(f)\n",
    "    writer.writerows(dat)  "
   ]
  },
  {
   "cell_type": "code",
   "execution_count": 159,
   "metadata": {},
   "outputs": [
    {
     "data": {
      "text/plain": [
       "1001"
      ]
     },
     "execution_count": 159,
     "metadata": {},
     "output_type": "execute_result"
    }
   ],
   "source": [
    "len(dat)"
   ]
  },
  {
   "cell_type": "code",
   "execution_count": 166,
   "metadata": {},
   "outputs": [
    {
     "data": {
      "text/plain": [
       "(1004, 50)"
      ]
     },
     "execution_count": 166,
     "metadata": {},
     "output_type": "execute_result"
    }
   ],
   "source": [
    "dt = pd.read_csv('test9.csv')\n",
    "dt.shape\n"
   ]
  },
  {
   "cell_type": "code",
   "execution_count": 167,
   "metadata": {},
   "outputs": [
    {
     "name": "stdout",
     "output_type": "stream",
     "text": [
      "[0, 0, 0, 0, 0, 0, 0, 0, 0, 0, 0, 0, 0, 0, 0, 0, 0, 0, 0, 0, 0, 0, 0, 0, 0, 0, 0, 0, 0, 0, 0, 0, 0, 0, 0, 0, 0, 0, 0, 0, 0, 0, 0, 0, 0, 0, 0, 0, 0, 0, 0, 0, 0, 0, 0, 0, 0, 0, 0, 0, 0, 0, 0, 0, 0, 0, 0, 0, 0, 0, 0, 0, 0, 0, 0, 0, 0, 0, 0, 0, 0, 0, 0, 0, 0, 0, 0, 0, 0, 0, 0, 0, 0, 0, 0, 0, 0, 0, 0, 0, 0, 0, 0, 0, 0, 0, 0, 0, 0, 0, 0, 0, 0, 0, 0, 0, 0, 0, 0, 0, 0, 0, 0, 0, 0, 0, 0, 0, 0, 0, 0, 0, 1, 0, 1, 0, 1, 0, 0, 0, 0, 0, 0, 0, 0, 0, 0, 0, 0, 0, 0, 0, 0, 0, 0, 0, 0, 0, 0, 0, 0, 0, 0, 0, 0, 0, 0, 0, 0, 0, 0, 0, 0, 0, 0, 0, 0, 0, 0, 0, 0, 0, 0, 0, 0, 0, 0, 0, 0, 0, 0, 0, 0, 0, 0, 0, 0, 0, 0, 0, 0, 0, 0, 0, 0, 0, 0, 0, 0, 0, 0, 0, 0, 0, 0, 0, 0, 0, 1, 0, 0, 0, 0, 0, 0, 0, 0, 0, 0, 0, 0, 0, 0, 0, 0, 0, 0, 0, 0, 0, 0, 0, 0, 0, 0, 0, 0, 0, 0, 0, 0, 0, 0, 0, 0, 0, 0, 0, 0, 0, 0, 0, 0, 0, 0, 0, 0, 0, 0, 0, 0, 0, 0, 0, 0, 0, 0, 0, 0, 0, 0, 0, 0, 0, 0, 0, 0, 0, 0, 0, 0, 0, 1, 1, 0, 0, 0, 0, 0, 0, 1, 0, 0, 1, 0, 0, 0, 0, 0, 0, 0, 0, 1, 0, 0, 1, 0, 1, 0, 0, 0, 0, 0, 0, 0, 0, 1, 0, 0, 0, 0, 1, 0, 1, 0, 0, 0, 0, 1, 0, 0, 0, 0, 0, 1, 1, 0, 0, 0, 0, 0, 0, 1, 0, 0, 0, 1, 0, 0, 1, 0, 0, 0, 0, 0, 0, 0, 1, 0, 1, 0, 0, 0, 0, 0, 0, 1, 0, 0, 0, 0, 0, 0, 0, 0, 0, 0, 1, 0, 0, 0, 0, 0, 0, 0, 0, 0, 0, 1, 0, 0, 0, 0, 0, 1, 0, 0, 1, 0, 1, 0, 1, 0, 1, 0, 1, 0, 0, 1, 0, 0, 0, 0, 0, 0, 0, 0, 0, 0, 0, 0, 0, 0, 0, 0, 0, 0, 0, 0, 0, 0, 0, 0, 0, 0, 0, 0, 0, 0, 0, 0, 0, 1, 0, 0, 0, 0, 0, 0, 0, 0, 1, 1, 1, 0, 0, 1, 0, 1, 0, 0, 0, 0, 0, 1, 0, 0, 0, 0, 0, 0, 0, 0, 0, 0, 0, 0, 0, 0, 0, 1, 0, 1, 0, 1, 0, 0, 0, 1, 0, 0, 0, 0, 0, 0, 0, 0, 0, 0, 0, 0, 0, 0, 0, 0, 0, 0, 0, 0, 0, 0, 0, 0, 0, 0, 0, 0, 0, 0, 1, 0, 1, 0, 0, 0, 0, 0, 0, 0, 0, 0, 0, 0, 0, 0, 0, 1, 0, 0, 1, 0, 0, 1, 0, 0, 1, 0, 1, 1, 0, 1, 1, 0, 0, 0, 0, 0, 0, 0, 0, 0, 0, 1, 0, 1, 0, 1, 0, 1, 1, 0, 0, 0, 0, 0, 0, 1, 0, 0, 0, 1, 0, 1, 0, 1, 1, 1, 0, 1, 0, 1, 0, 1, 0, 1, 0, 0, 0, 0, 1, 0, 0, 1, 0, 0, 0, 1, 0, 1, 0, 1, 0, 1, 0, 1, 0, 1, 0, 0, 1, 0, 1, 0, 1, 0, 1, 0, 0, 1, 0, 1, 0, 0, 0, 1, 1, 0, 0, 0, 1, 0, 1, 0, 0, 0, 1, 0, 1, 0, 1, 0, 1, 0, 0, 0, 1, 0, 0, 1, 0, 1, 0, 0, 0, 0, 0, 0, 0, 0, 0, 0, 0, 0, 0, 0, 0, 0, 0, 0, 0, 0, 0, 0, 0, 0, 0, 0, 0, 0, 0, 0, 0, 0, 0, 0, 0, 0, 0, 0, 0, 0, 0, 0, 0, 0, 0, 0, 0, 0, 0, 0, 0, 0, 0, 0, 0, 0, 0, 0, 0, 0, 0, 0, 0, 0, 0, 0, 0, 0, 0, 0, 0, 0, 0, 0, 0, 0, 0, 0, 0, 0, 0, 0, 0, 0, 0, 0, 0, 0, 0, 0, 0, 0, 0, 0, 0, 0, 0, 0, 0, 0, 0, 0, 0, 0, 0, 0, 0, 0, 0, 0, 0, 0, 0, 0, 0, 0, 0, 0, 0, 0, 0, 0, 0, 0, 0, 0, 0, 0, 0, 0, 0, 0, 0, 0, 0, 0, 0, 0, 0, 0, 0, 0, 0, 0, 0, 0, 0, 0, 0, 0, 0, 0, 0, 0, 0, 0, 0, 0, 0, 0, 0, 0, 0, 0, 0, 0, 0, 0, 0, 0, 0, 0, 0, 0, 0, 0, 0, 0, 0, 0, 0, 0, 0, 0, 0, 0, 0, 0, 0, 0, 0, 0, 0, 0, 0, 1, 0, 0, 1, 0, 1, 0, 0, 0, 0, 0, 0, 0, 0, 0, 0, 0, 0, 0, 0, 0, 0, 0, 0, 0, 0, 0, 0, 0, 0, 0, 0, 0, 0, 0, 0, 0, 0, 0, 0, 0, 0, 0, 0, 0, 0, 0, 0, 0, 0, 0, 0, 0, 0, 0, 0, 0, 0, 0, 0, 0, 0, 0, 0, 0, 0, 0, 0, 0, 0, 0, 0, 0, 0, 0, 0, 0, 0, 0, 0, 0, 0, 0, 0, 0, 0, 0, 0, 0, 0, 0, 0, 0, 0, 0, 0, 0, 0, 0, 0, 0, 0, 0, 0, 0, 0, 0, 0, 0, 0, 0, 0, 0, 0, 0, 0, 0, 0, 0, 0, 0, 0, 0, 0, 0, 0, 0, 0, 0, 0, 1, 0, 0, 1, 0, 0, 0, 1]\n"
     ]
    },
    {
     "data": {
      "text/plain": [
       "[132,\n",
       " 134,\n",
       " 136,\n",
       " 218,\n",
       " 292,\n",
       " 293,\n",
       " 300,\n",
       " 303,\n",
       " 312,\n",
       " 315,\n",
       " 317,\n",
       " 326,\n",
       " 331,\n",
       " 333,\n",
       " 338,\n",
       " 344,\n",
       " 345,\n",
       " 352,\n",
       " 356,\n",
       " 359,\n",
       " 367,\n",
       " 369,\n",
       " 376,\n",
       " 387,\n",
       " 398,\n",
       " 404,\n",
       " 407,\n",
       " 409,\n",
       " 411,\n",
       " 413,\n",
       " 415,\n",
       " 418,\n",
       " 452,\n",
       " 461,\n",
       " 462,\n",
       " 463,\n",
       " 466,\n",
       " 468,\n",
       " 474,\n",
       " 490,\n",
       " 492,\n",
       " 494,\n",
       " 498,\n",
       " 529,\n",
       " 531,\n",
       " 546,\n",
       " 549,\n",
       " 552,\n",
       " 555,\n",
       " 557,\n",
       " 558,\n",
       " 560,\n",
       " 561,\n",
       " 572,\n",
       " 574,\n",
       " 576,\n",
       " 578,\n",
       " 579,\n",
       " 586,\n",
       " 590,\n",
       " 592,\n",
       " 594,\n",
       " 595,\n",
       " 596,\n",
       " 598,\n",
       " 600,\n",
       " 602,\n",
       " 604,\n",
       " 609,\n",
       " 612,\n",
       " 616,\n",
       " 618,\n",
       " 620,\n",
       " 622,\n",
       " 624,\n",
       " 626,\n",
       " 629,\n",
       " 631,\n",
       " 633,\n",
       " 635,\n",
       " 638,\n",
       " 640,\n",
       " 644,\n",
       " 645,\n",
       " 649,\n",
       " 651,\n",
       " 655,\n",
       " 657,\n",
       " 659,\n",
       " 661,\n",
       " 665,\n",
       " 668,\n",
       " 670,\n",
       " 866,\n",
       " 869,\n",
       " 871,\n",
       " 996,\n",
       " 999,\n",
       " 1003]"
      ]
     },
     "execution_count": 167,
     "metadata": {},
     "output_type": "execute_result"
    }
   ],
   "source": [
    "dfx = dt.iloc[:,1:].values.reshape(len(dt),7,7,1)\n",
    "dfy = pd.get_dummies(dt.iloc[:,0].values)\n",
    "dfx = np.array(dfx)\n",
    "dfy = np.array(dfy)\n",
    "xtest=dfx\n",
    "ytest=dfy\n",
    "x=model.predict(xtest)\n",
    "#print(model.predict(x_test))\n",
    "#print(y_test)\n",
    "#x[0][0]\n",
    "L=[]\n",
    "l=[]\n",
    "for i in range(0,len(xtest)):\n",
    "    for j in range(0,2):\n",
    "        if x[i][j]>0.99:\n",
    "            x[i][j]=int(1)\n",
    "    else:\n",
    "        x[i][j]=int(0)   \n",
    "\n",
    "    if x[i][j-1]==1 and x[i][j]==0:\n",
    "        L.append(0)\n",
    "    else:\n",
    "        L.append(1)\n",
    "        l.append(i)\n",
    "        \n",
    "print(L)\n",
    "l\n",
    "#dt.iloc[:,0].values\n",
    "#x=x.astype(int)\n",
    "#for val in x:\n",
    "#    if val:\n",
    "#        L.append(1)\n",
    "#    else:\n",
    "#        L.append(0)"
   ]
  },
  {
   "cell_type": "code",
   "execution_count": 162,
   "metadata": {},
   "outputs": [
    {
     "data": {
      "text/plain": [
       "1004"
      ]
     },
     "execution_count": 162,
     "metadata": {},
     "output_type": "execute_result"
    }
   ],
   "source": [
    "len(xtest)"
   ]
  },
  {
   "cell_type": "code",
   "execution_count": 168,
   "metadata": {},
   "outputs": [
    {
     "data": {
      "image/png": "[encoded data removed]",
      "text/plain": [
       "<matplotlib.figure.Figure at 0x1ee806644a8>"
      ]
     },
     "metadata": {
      "needs_background": "light"
     },
     "output_type": "display_data"
    },
    {
     "ename": "TypeError",
     "evalue": "integer argument expected, got float",
     "output_type": "error",
     "traceback": [
      "\u001b[1;31m---------------------------------------------------------------------------\u001b[0m",
      "\u001b[1;31mTypeError\u001b[0m                                 Traceback (most recent call last)",
      "\u001b[1;32m<ipython-input-168-c0fd14381ddb>\u001b[0m in \u001b[0;36m<module>\u001b[1;34m()\u001b[0m\n\u001b[0;32m      4\u001b[0m \u001b[1;33m\u001b[0m\u001b[0m\n\u001b[0;32m      5\u001b[0m \u001b[0mplt\u001b[0m\u001b[1;33m.\u001b[0m\u001b[0mshow\u001b[0m\u001b[1;33m(\u001b[0m\u001b[1;33m)\u001b[0m\u001b[1;33m\u001b[0m\u001b[0m\n\u001b[1;32m----> 6\u001b[1;33m \u001b[0mplt\u001b[0m\u001b[1;33m.\u001b[0m\u001b[0msavefig\u001b[0m\u001b[1;33m(\u001b[0m\u001b[1;34m'output1.JPG'\u001b[0m\u001b[1;33m)\u001b[0m\u001b[1;33m\u001b[0m\u001b[0m\n\u001b[0m",
      "\u001b[1;32m~\\Anaconda3\\lib\\site-packages\\matplotlib\\pyplot.py\u001b[0m in \u001b[0;36msavefig\u001b[1;34m(*args, **kwargs)\u001b[0m\n\u001b[0;32m    699\u001b[0m \u001b[1;32mdef\u001b[0m \u001b[0msavefig\u001b[0m\u001b[1;33m(\u001b[0m\u001b[1;33m*\u001b[0m\u001b[0margs\u001b[0m\u001b[1;33m,\u001b[0m \u001b[1;33m**\u001b[0m\u001b[0mkwargs\u001b[0m\u001b[1;33m)\u001b[0m\u001b[1;33m:\u001b[0m\u001b[1;33m\u001b[0m\u001b[0m\n\u001b[0;32m    700\u001b[0m     \u001b[0mfig\u001b[0m \u001b[1;33m=\u001b[0m \u001b[0mgcf\u001b[0m\u001b[1;33m(\u001b[0m\u001b[1;33m)\u001b[0m\u001b[1;33m\u001b[0m\u001b[0m\n\u001b[1;32m--> 701\u001b[1;33m     \u001b[0mres\u001b[0m \u001b[1;33m=\u001b[0m \u001b[0mfig\u001b[0m\u001b[1;33m.\u001b[0m\u001b[0msavefig\u001b[0m\u001b[1;33m(\u001b[0m\u001b[1;33m*\u001b[0m\u001b[0margs\u001b[0m\u001b[1;33m,\u001b[0m \u001b[1;33m**\u001b[0m\u001b[0mkwargs\u001b[0m\u001b[1;33m)\u001b[0m\u001b[1;33m\u001b[0m\u001b[0m\n\u001b[0m\u001b[0;32m    702\u001b[0m     \u001b[0mfig\u001b[0m\u001b[1;33m.\u001b[0m\u001b[0mcanvas\u001b[0m\u001b[1;33m.\u001b[0m\u001b[0mdraw_idle\u001b[0m\u001b[1;33m(\u001b[0m\u001b[1;33m)\u001b[0m   \u001b[1;31m# need this if 'transparent=True' to reset colors\u001b[0m\u001b[1;33m\u001b[0m\u001b[0m\n\u001b[0;32m    703\u001b[0m     \u001b[1;32mreturn\u001b[0m \u001b[0mres\u001b[0m\u001b[1;33m\u001b[0m\u001b[0m\n",
      "\u001b[1;32m~\\Anaconda3\\lib\\site-packages\\matplotlib\\figure.py\u001b[0m in \u001b[0;36msavefig\u001b[1;34m(self, fname, **kwargs)\u001b[0m\n\u001b[0;32m   1832\u001b[0m             \u001b[0mself\u001b[0m\u001b[1;33m.\u001b[0m\u001b[0mset_frameon\u001b[0m\u001b[1;33m(\u001b[0m\u001b[0mframeon\u001b[0m\u001b[1;33m)\u001b[0m\u001b[1;33m\u001b[0m\u001b[0m\n\u001b[0;32m   1833\u001b[0m \u001b[1;33m\u001b[0m\u001b[0m\n\u001b[1;32m-> 1834\u001b[1;33m         \u001b[0mself\u001b[0m\u001b[1;33m.\u001b[0m\u001b[0mcanvas\u001b[0m\u001b[1;33m.\u001b[0m\u001b[0mprint_figure\u001b[0m\u001b[1;33m(\u001b[0m\u001b[0mfname\u001b[0m\u001b[1;33m,\u001b[0m \u001b[1;33m**\u001b[0m\u001b[0mkwargs\u001b[0m\u001b[1;33m)\u001b[0m\u001b[1;33m\u001b[0m\u001b[0m\n\u001b[0m\u001b[0;32m   1835\u001b[0m \u001b[1;33m\u001b[0m\u001b[0m\n\u001b[0;32m   1836\u001b[0m         \u001b[1;32mif\u001b[0m \u001b[0mframeon\u001b[0m\u001b[1;33m:\u001b[0m\u001b[1;33m\u001b[0m\u001b[0m\n",
      "\u001b[1;32m~\\Anaconda3\\lib\\site-packages\\matplotlib\\backend_bases.py\u001b[0m in \u001b[0;36mprint_figure\u001b[1;34m(self, filename, dpi, facecolor, edgecolor, orientation, format, **kwargs)\u001b[0m\n\u001b[0;32m   2265\u001b[0m                 \u001b[0morientation\u001b[0m\u001b[1;33m=\u001b[0m\u001b[0morientation\u001b[0m\u001b[1;33m,\u001b[0m\u001b[1;33m\u001b[0m\u001b[0m\n\u001b[0;32m   2266\u001b[0m                 \u001b[0mbbox_inches_restore\u001b[0m\u001b[1;33m=\u001b[0m\u001b[0m_bbox_inches_restore\u001b[0m\u001b[1;33m,\u001b[0m\u001b[1;33m\u001b[0m\u001b[0m\n\u001b[1;32m-> 2267\u001b[1;33m                 **kwargs)\n\u001b[0m\u001b[0;32m   2268\u001b[0m         \u001b[1;32mfinally\u001b[0m\u001b[1;33m:\u001b[0m\u001b[1;33m\u001b[0m\u001b[0m\n\u001b[0;32m   2269\u001b[0m             \u001b[1;32mif\u001b[0m \u001b[0mbbox_inches\u001b[0m \u001b[1;32mand\u001b[0m \u001b[0mrestore_bbox\u001b[0m\u001b[1;33m:\u001b[0m\u001b[1;33m\u001b[0m\u001b[0m\n",
      "\u001b[1;32m~\\Anaconda3\\lib\\site-packages\\matplotlib\\backends\\backend_agg.py\u001b[0m in \u001b[0;36mprint_jpg\u001b[1;34m(self, filename_or_obj, *args, **kwargs)\u001b[0m\n\u001b[0;32m    582\u001b[0m                 \u001b[0moptions\u001b[0m\u001b[1;33m[\u001b[0m\u001b[1;34m'dpi'\u001b[0m\u001b[1;33m]\u001b[0m \u001b[1;33m=\u001b[0m \u001b[1;33m(\u001b[0m\u001b[0moptions\u001b[0m\u001b[1;33m[\u001b[0m\u001b[1;34m'dpi'\u001b[0m\u001b[1;33m]\u001b[0m\u001b[1;33m,\u001b[0m \u001b[0moptions\u001b[0m\u001b[1;33m[\u001b[0m\u001b[1;34m'dpi'\u001b[0m\u001b[1;33m]\u001b[0m\u001b[1;33m)\u001b[0m\u001b[1;33m\u001b[0m\u001b[0m\n\u001b[0;32m    583\u001b[0m \u001b[1;33m\u001b[0m\u001b[0m\n\u001b[1;32m--> 584\u001b[1;33m             \u001b[1;32mreturn\u001b[0m \u001b[0mbackground\u001b[0m\u001b[1;33m.\u001b[0m\u001b[0msave\u001b[0m\u001b[1;33m(\u001b[0m\u001b[0mfilename_or_obj\u001b[0m\u001b[1;33m,\u001b[0m \u001b[0mformat\u001b[0m\u001b[1;33m=\u001b[0m\u001b[1;34m'jpeg'\u001b[0m\u001b[1;33m,\u001b[0m \u001b[1;33m**\u001b[0m\u001b[0moptions\u001b[0m\u001b[1;33m)\u001b[0m\u001b[1;33m\u001b[0m\u001b[0m\n\u001b[0m\u001b[0;32m    585\u001b[0m         \u001b[0mprint_jpeg\u001b[0m \u001b[1;33m=\u001b[0m \u001b[0mprint_jpg\u001b[0m\u001b[1;33m\u001b[0m\u001b[0m\n\u001b[0;32m    586\u001b[0m \u001b[1;33m\u001b[0m\u001b[0m\n",
      "\u001b[1;32m~\\Anaconda3\\lib\\site-packages\\PIL\\Image.py\u001b[0m in \u001b[0;36msave\u001b[1;34m(self, fp, format, **params)\u001b[0m\n\u001b[0;32m   1701\u001b[0m \u001b[1;33m\u001b[0m\u001b[0m\n\u001b[0;32m   1702\u001b[0m         \u001b[1;32mtry\u001b[0m\u001b[1;33m:\u001b[0m\u001b[1;33m\u001b[0m\u001b[0m\n\u001b[1;32m-> 1703\u001b[1;33m             \u001b[0msave_handler\u001b[0m\u001b[1;33m(\u001b[0m\u001b[0mself\u001b[0m\u001b[1;33m,\u001b[0m \u001b[0mfp\u001b[0m\u001b[1;33m,\u001b[0m \u001b[0mfilename\u001b[0m\u001b[1;33m)\u001b[0m\u001b[1;33m\u001b[0m\u001b[0m\n\u001b[0m\u001b[0;32m   1704\u001b[0m         \u001b[1;32mfinally\u001b[0m\u001b[1;33m:\u001b[0m\u001b[1;33m\u001b[0m\u001b[0m\n\u001b[0;32m   1705\u001b[0m             \u001b[1;31m# do what we can to clean up\u001b[0m\u001b[1;33m\u001b[0m\u001b[1;33m\u001b[0m\u001b[0m\n",
      "\u001b[1;32m~\\Anaconda3\\lib\\site-packages\\PIL\\JpegImagePlugin.py\u001b[0m in \u001b[0;36m_save\u001b[1;34m(im, fp, filename)\u001b[0m\n\u001b[0;32m    695\u001b[0m     \u001b[0mbufsize\u001b[0m \u001b[1;33m=\u001b[0m \u001b[0mmax\u001b[0m\u001b[1;33m(\u001b[0m\u001b[0mImageFile\u001b[0m\u001b[1;33m.\u001b[0m\u001b[0mMAXBLOCK\u001b[0m\u001b[1;33m,\u001b[0m \u001b[0mbufsize\u001b[0m\u001b[1;33m,\u001b[0m \u001b[0mlen\u001b[0m\u001b[1;33m(\u001b[0m\u001b[0minfo\u001b[0m\u001b[1;33m.\u001b[0m\u001b[0mget\u001b[0m\u001b[1;33m(\u001b[0m\u001b[1;34m\"exif\"\u001b[0m\u001b[1;33m,\u001b[0m \u001b[1;34mb\"\"\u001b[0m\u001b[1;33m)\u001b[0m\u001b[1;33m)\u001b[0m \u001b[1;33m+\u001b[0m \u001b[1;36m5\u001b[0m\u001b[1;33m)\u001b[0m\u001b[1;33m\u001b[0m\u001b[0m\n\u001b[0;32m    696\u001b[0m \u001b[1;33m\u001b[0m\u001b[0m\n\u001b[1;32m--> 697\u001b[1;33m     \u001b[0mImageFile\u001b[0m\u001b[1;33m.\u001b[0m\u001b[0m_save\u001b[0m\u001b[1;33m(\u001b[0m\u001b[0mim\u001b[0m\u001b[1;33m,\u001b[0m \u001b[0mfp\u001b[0m\u001b[1;33m,\u001b[0m \u001b[1;33m[\u001b[0m\u001b[1;33m(\u001b[0m\u001b[1;34m\"jpeg\"\u001b[0m\u001b[1;33m,\u001b[0m \u001b[1;33m(\u001b[0m\u001b[1;36m0\u001b[0m\u001b[1;33m,\u001b[0m \u001b[1;36m0\u001b[0m\u001b[1;33m)\u001b[0m\u001b[1;33m+\u001b[0m\u001b[0mim\u001b[0m\u001b[1;33m.\u001b[0m\u001b[0msize\u001b[0m\u001b[1;33m,\u001b[0m \u001b[1;36m0\u001b[0m\u001b[1;33m,\u001b[0m \u001b[0mrawmode\u001b[0m\u001b[1;33m)\u001b[0m\u001b[1;33m]\u001b[0m\u001b[1;33m,\u001b[0m \u001b[0mbufsize\u001b[0m\u001b[1;33m)\u001b[0m\u001b[1;33m\u001b[0m\u001b[0m\n\u001b[0m\u001b[0;32m    698\u001b[0m \u001b[1;33m\u001b[0m\u001b[0m\n\u001b[0;32m    699\u001b[0m \u001b[1;33m\u001b[0m\u001b[0m\n",
      "\u001b[1;32m~\\Anaconda3\\lib\\site-packages\\PIL\\ImageFile.py\u001b[0m in \u001b[0;36m_save\u001b[1;34m(im, fp, tile, bufsize)\u001b[0m\n\u001b[0;32m    490\u001b[0m         \u001b[1;31m# slight speedup: compress to real file object\u001b[0m\u001b[1;33m\u001b[0m\u001b[1;33m\u001b[0m\u001b[0m\n\u001b[0;32m    491\u001b[0m         \u001b[1;32mfor\u001b[0m \u001b[0me\u001b[0m\u001b[1;33m,\u001b[0m \u001b[0mb\u001b[0m\u001b[1;33m,\u001b[0m \u001b[0mo\u001b[0m\u001b[1;33m,\u001b[0m \u001b[0ma\u001b[0m \u001b[1;32min\u001b[0m \u001b[0mtile\u001b[0m\u001b[1;33m:\u001b[0m\u001b[1;33m\u001b[0m\u001b[0m\n\u001b[1;32m--> 492\u001b[1;33m             \u001b[0me\u001b[0m \u001b[1;33m=\u001b[0m \u001b[0mImage\u001b[0m\u001b[1;33m.\u001b[0m\u001b[0m_getencoder\u001b[0m\u001b[1;33m(\u001b[0m\u001b[0mim\u001b[0m\u001b[1;33m.\u001b[0m\u001b[0mmode\u001b[0m\u001b[1;33m,\u001b[0m \u001b[0me\u001b[0m\u001b[1;33m,\u001b[0m \u001b[0ma\u001b[0m\u001b[1;33m,\u001b[0m \u001b[0mim\u001b[0m\u001b[1;33m.\u001b[0m\u001b[0mencoderconfig\u001b[0m\u001b[1;33m)\u001b[0m\u001b[1;33m\u001b[0m\u001b[0m\n\u001b[0m\u001b[0;32m    493\u001b[0m             \u001b[1;32mif\u001b[0m \u001b[0mo\u001b[0m \u001b[1;33m>\u001b[0m \u001b[1;36m0\u001b[0m\u001b[1;33m:\u001b[0m\u001b[1;33m\u001b[0m\u001b[0m\n\u001b[0;32m    494\u001b[0m                 \u001b[0mfp\u001b[0m\u001b[1;33m.\u001b[0m\u001b[0mseek\u001b[0m\u001b[1;33m(\u001b[0m\u001b[0mo\u001b[0m\u001b[1;33m,\u001b[0m \u001b[1;36m0\u001b[0m\u001b[1;33m)\u001b[0m\u001b[1;33m\u001b[0m\u001b[0m\n",
      "\u001b[1;32m~\\Anaconda3\\lib\\site-packages\\PIL\\Image.py\u001b[0m in \u001b[0;36m_getencoder\u001b[1;34m(mode, encoder_name, args, extra)\u001b[0m\n\u001b[0;32m    433\u001b[0m         \u001b[0mencoder\u001b[0m \u001b[1;33m=\u001b[0m \u001b[0mgetattr\u001b[0m\u001b[1;33m(\u001b[0m\u001b[0mcore\u001b[0m\u001b[1;33m,\u001b[0m \u001b[0mencoder_name\u001b[0m \u001b[1;33m+\u001b[0m \u001b[1;34m\"_encoder\"\u001b[0m\u001b[1;33m)\u001b[0m\u001b[1;33m\u001b[0m\u001b[0m\n\u001b[0;32m    434\u001b[0m         \u001b[1;31m# print(encoder, mode, args + extra)\u001b[0m\u001b[1;33m\u001b[0m\u001b[1;33m\u001b[0m\u001b[0m\n\u001b[1;32m--> 435\u001b[1;33m         \u001b[1;32mreturn\u001b[0m \u001b[0mencoder\u001b[0m\u001b[1;33m(\u001b[0m\u001b[0mmode\u001b[0m\u001b[1;33m,\u001b[0m \u001b[1;33m*\u001b[0m\u001b[0margs\u001b[0m \u001b[1;33m+\u001b[0m \u001b[0mextra\u001b[0m\u001b[1;33m)\u001b[0m\u001b[1;33m\u001b[0m\u001b[0m\n\u001b[0m\u001b[0;32m    436\u001b[0m     \u001b[1;32mexcept\u001b[0m \u001b[0mAttributeError\u001b[0m\u001b[1;33m:\u001b[0m\u001b[1;33m\u001b[0m\u001b[0m\n\u001b[0;32m    437\u001b[0m         \u001b[1;32mraise\u001b[0m \u001b[0mIOError\u001b[0m\u001b[1;33m(\u001b[0m\u001b[1;34m\"encoder %s not available\"\u001b[0m \u001b[1;33m%\u001b[0m \u001b[0mencoder_name\u001b[0m\u001b[1;33m)\u001b[0m\u001b[1;33m\u001b[0m\u001b[0m\n",
      "\u001b[1;31mTypeError\u001b[0m: integer argument expected, got float"
     ]
    },
    {
     "data": {
      "text/plain": [
       "<matplotlib.figure.Figure at 0x1ee80922e10>"
      ]
     },
     "metadata": {},
     "output_type": "display_data"
    }
   ],
   "source": [
    "plt.imshow(A, cmap='gray')\n",
    "for z in range(0,len(l)):\n",
    "    plt.scatter([int(l[z])],[int(l[z])], color='red', s=10)\n",
    "    \n",
    "plt.show()\n",
    "plt.savefig('output1.JPG')"
   ]
  },
  {
   "cell_type": "code",
   "execution_count": 164,
   "metadata": {},
   "outputs": [
    {
     "data": {
      "text/plain": [
       "<matplotlib.image.AxesImage at 0x1ee8069a908>"
      ]
     },
     "execution_count": 164,
     "metadata": {},
     "output_type": "execute_result"
    },
    {
     "data": {
      "image/png": "[encoded data removed]",
      "text/plain": [
       "<matplotlib.figure.Figure at 0x1ee8065f4e0>"
      ]
     },
     "metadata": {
      "needs_background": "light"
     },
     "output_type": "display_data"
    }
   ],
   "source": [
    "plt.imshow(A, cmap='gray')"
   ]
  },
  {
   "cell_type": "code",
   "execution_count": 387,
   "metadata": {},
   "outputs": [
    {
     "data": {
      "text/plain": [
       "array([[ 0,  0],\n",
       "       [ 0,  0],\n",
       "       [ 0,  0],\n",
       "       [ 0,  0],\n",
       "       [ 0,  0],\n",
       "       [ 0,  0],\n",
       "       [ 0,  0],\n",
       "       [ 0,  0],\n",
       "       [ 1, -1],\n",
       "       [ 1, -1],\n",
       "       [ 0,  0],\n",
       "       [ 0,  0],\n",
       "       [ 1, -1],\n",
       "       [ 0,  0],\n",
       "       [ 0,  0],\n",
       "       [ 0,  0],\n",
       "       [ 0,  0],\n",
       "       [ 0,  0],\n",
       "       [ 0,  0],\n",
       "       [ 0,  0],\n",
       "       [ 0,  0],\n",
       "       [ 0,  0],\n",
       "       [ 1,  0],\n",
       "       [ 1,  0],\n",
       "       [ 0,  0],\n",
       "       [ 0,  0],\n",
       "       [ 1, -1],\n",
       "       [ 0,  0],\n",
       "       [ 0,  0],\n",
       "       [ 0,  0],\n",
       "       [ 0,  0],\n",
       "       [ 0,  0],\n",
       "       [ 0,  0],\n",
       "       [ 0,  0],\n",
       "       [ 0,  0],\n",
       "       [ 0,  0],\n",
       "       [ 0,  0],\n",
       "       [ 0,  0],\n",
       "       [ 0,  0],\n",
       "       [ 0,  0],\n",
       "       [ 0,  0],\n",
       "       [ 0,  0],\n",
       "       [ 1, -1],\n",
       "       [ 0,  0],\n",
       "       [ 0,  0],\n",
       "       [ 0,  0],\n",
       "       [ 0,  0],\n",
       "       [ 0,  0],\n",
       "       [ 0,  0],\n",
       "       [ 0,  0],\n",
       "       [ 1,  0],\n",
       "       [ 0,  0],\n",
       "       [ 0,  0],\n",
       "       [ 1, -1],\n",
       "       [ 0,  0],\n",
       "       [ 0,  0],\n",
       "       [ 0,  0],\n",
       "       [-1,  1],\n",
       "       [ 0,  0],\n",
       "       [ 0,  0],\n",
       "       [ 0,  0],\n",
       "       [ 0,  0],\n",
       "       [ 0,  0],\n",
       "       [ 0,  0],\n",
       "       [ 0,  0],\n",
       "       [ 0,  0],\n",
       "       [ 0,  0],\n",
       "       [ 0,  0],\n",
       "       [ 0,  0],\n",
       "       [ 0,  0],\n",
       "       [ 0,  0]])"
      ]
     },
     "execution_count": 387,
     "metadata": {},
     "output_type": "execute_result"
    }
   ],
   "source": [
    "for i in range(0,len(x_test)):\n",
    "    for j in range(0,2):\n",
    "        if x[i][j]>0.99:\n",
    "            x[i][j]=int(1)\n",
    "        else:\n",
    "            x[i][j]=int(0)\n",
    "      \n",
    "(y_test-x.astype(int))"
   ]
  },
  {
   "cell_type": "code",
   "execution_count": 369,
   "metadata": {},
   "outputs": [],
   "source": [
    "#pred=np.array([])\n",
    "#for val in model.predict(x_test):\n",
    "#    if(val[0]>0.99):\n",
    " #       np.append(pred,0)\n",
    "  #  else:\n",
    "   #     np.append(pred,1)"
   ]
  },
  {
   "cell_type": "code",
   "execution_count": 374,
   "metadata": {},
   "outputs": [
    {
     "data": {
      "text/plain": [
       "array([], dtype=float64)"
      ]
     },
     "execution_count": 374,
     "metadata": {},
     "output_type": "execute_result"
    }
   ],
   "source": [
    "#pred[pred==1]"
   ]
  },
  {
   "cell_type": "code",
   "execution_count": 274,
   "metadata": {},
   "outputs": [],
   "source": [
    "#imporove accuracy by more epocs till the loss is almost same"
   ]
  }
 ],
 "metadata": {
  "kernelspec": {
   "display_name": "Python 3",
   "language": "python",
   "name": "python3"
  },
  "language_info": {
   "codemirror_mode": {
    "name": "ipython",
    "version": 3
   },
   "file_extension": ".py",
   "mimetype": "text/x-python",
   "name": "python",
   "nbconvert_exporter": "python",
   "pygments_lexer": "ipython3",
   "version": "3.5.2"
  },
  "widgets": {
   "state": {},
   "version": "1.1.2"
  }
 },
 "nbformat": 4,
 "nbformat_minor": 2
}
